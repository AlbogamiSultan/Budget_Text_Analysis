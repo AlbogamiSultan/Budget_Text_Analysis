{
 "cells": [
  {
   "cell_type": "markdown",
   "metadata": {},
   "source": [
    "### Importing packages"
   ]
  },
  {
   "cell_type": "code",
   "execution_count": 19,
   "metadata": {},
   "outputs": [],
   "source": [
    "import os\n",
    "import glob\n",
    "import nltk\n",
    "import pandas as pd\n",
    "import numpy as np"
   ]
  },
  {
   "cell_type": "markdown",
   "metadata": {},
   "source": [
    "### Labling Data For All Organizations"
   ]
  },
  {
   "cell_type": "code",
   "execution_count": 3,
   "metadata": {},
   "outputs": [],
   "source": [
    "# 1- For Guilford County data \n",
    "GC_df = pd.read_csv(r'C:\\Users\\Sultan\\Documents\\GitHub\\Budget_Text_Analysis\\util\\data\\2019-2020\\structured\\original\\GuilfordCounty_original_data.csv', engine='python')\n",
    "GC_df = GC_df.drop(columns=\"Unnamed: 0\")\n",
    "# inserting column with static value in data frame \n",
    "GC_df.insert(2, \"organization\", \"Guilford County\")\n",
    "\n",
    "\n",
    "# 2- For Charlotte City data\n",
    "CC_df = pd.read_csv(r'C:\\Users\\Sultan\\Documents\\GitHub\\Budget_Text_Analysis\\util\\data\\2019-2020\\structured\\original\\CharlotteCity_original_data.csv', engine='python')\n",
    "CC_df = CC_df.drop(columns=\"Unnamed: 0\")\n",
    "# inserting column with static value in data frame \n",
    "CC_df.insert(2, \"organization\", \"Charlotte City\")\n",
    "\n",
    "# 3- For Durham City data\n",
    "DCity_df = pd.read_csv(r'C:\\Users\\Sultan\\Documents\\GitHub\\Budget_Text_Analysis\\util\\data\\2019-2020\\structured\\original\\DurhamCity_original_data.csv', engine='python')\n",
    "DCity_df = DCity_df.drop(columns=\"Unnamed: 0\")\n",
    "# inserting column with static value in data frame \n",
    "DCity_df.insert(2, \"organization\", \"Durham City\")\n",
    "\n",
    "# 4- For Durham County data\n",
    "DCounty_df = pd.read_csv(r'C:\\Users\\Sultan\\Documents\\GitHub\\Budget_Text_Analysis\\util\\data\\2019-2020\\structured\\original\\DurhamCounty_original_data.csv', engine='python')\n",
    "DCounty_df = DCounty_df.drop(columns=\"Unnamed: 0\")\n",
    "# inserting column with static value in data frame \n",
    "DCounty_df.insert(2, \"organization\", \"Durham County\")\n",
    "\n",
    "# 5- For Mecklenburg County data\n",
    "MC_df = pd.read_csv(r'C:\\Users\\Sultan\\Documents\\GitHub\\Budget_Text_Analysis\\util\\data\\2019-2020\\structured\\original\\MecklenburgCounty_original_data.csv', engine='python')\n",
    "MC_df = MC_df.drop(columns=\"Unnamed: 0\")\n",
    "# inserting column with static value in data frame \n",
    "MC_df.insert(2, \"organization\", \"Mecklenburg County\")\n",
    "\n",
    "# 6- For Raleigh City data\n",
    "RC_df = pd.read_csv(r'C:\\Users\\Sultan\\Documents\\GitHub\\Budget_Text_Analysis\\util\\data\\2019-2020\\structured\\original\\RaleighCity_original_data.csv', engine='python')\n",
    "RC_df = RC_df.drop(columns=\"Unnamed: 0\")\n",
    "# inserting column with static value in data frame \n",
    "RC_df.insert(2, \"organization\", \"Raleigh City\")\n",
    "\n",
    "# 7- For Wake County data\n",
    "WC_df = pd.read_csv(r'C:\\Users\\Sultan\\Documents\\GitHub\\Budget_Text_Analysis\\util\\data\\2019-2020\\structured\\original\\WakeCounty_original_data.csv', engine='python')\n",
    "WC_df = WC_df.drop(columns=\"Unnamed: 0\")\n",
    "# inserting column with static value in data frame \n",
    "WC_df.insert(2, \"organization\", \"Wake County\")"
   ]
  },
  {
   "cell_type": "markdown",
   "metadata": {},
   "source": [
    "### Converting Data Frames into CSV Files"
   ]
  },
  {
   "cell_type": "code",
   "execution_count": 4,
   "metadata": {},
   "outputs": [],
   "source": [
    "GC_df.to_csv(r'C:\\Users\\Sultan\\Documents\\GitHub\\Budget_Text_Analysis\\util\\data\\2019-2020\\structured\\processed\\GuilfordCounty.csv')\n",
    "CC_df.to_csv(r'C:\\Users\\Sultan\\Documents\\GitHub\\Budget_Text_Analysis\\util\\data\\2019-2020\\structured\\processed\\CharlotteCity.csv')\n",
    "DCity_df.to_csv(r'C:\\Users\\Sultan\\Documents\\GitHub\\Budget_Text_Analysis\\util\\data\\2019-2020\\structured\\processed\\DurhamCity.csv')\n",
    "DCounty_df.to_csv(r'C:\\Users\\Sultan\\Documents\\GitHub\\Budget_Text_Analysis\\util\\data\\2019-2020\\structured\\processed\\DurhamCounty.csv')\n",
    "MC_df.to_csv(r'C:\\Users\\Sultan\\Documents\\GitHub\\Budget_Text_Analysis\\util\\data\\2019-2020\\structured\\processed\\MecklenburgCounty.csv')\n",
    "RC_df.to_csv(r'C:\\Users\\Sultan\\Documents\\GitHub\\Budget_Text_Analysis\\util\\data\\2019-2020\\structured\\processed\\RaleighCity.csv')\n",
    "WC_df.to_csv(r'C:\\Users\\Sultan\\Documents\\GitHub\\Budget_Text_Analysis\\util\\data\\2019-2020\\structured\\processed\\WakeCounty.csv')"
   ]
  },
  {
   "cell_type": "markdown",
   "metadata": {},
   "source": [
    "### Setting the Working Directory to Combine Data Files"
   ]
  },
  {
   "cell_type": "code",
   "execution_count": 5,
   "metadata": {},
   "outputs": [],
   "source": [
    "os.chdir(r\"C:\\Users\\Sultan\\Documents\\GitHub\\Budget_Text_Analysis\\util\\data\\2019-2020\\structured\\processed\")"
   ]
  },
  {
   "cell_type": "markdown",
   "metadata": {},
   "source": [
    "### Using glob to Match the Pattern ‘csv’"
   ]
  },
  {
   "cell_type": "code",
   "execution_count": 6,
   "metadata": {},
   "outputs": [],
   "source": [
    "extension = 'csv'\n",
    "all_filenames = [i for i in glob.glob('*.{}'.format(extension))]"
   ]
  },
  {
   "cell_type": "markdown",
   "metadata": {},
   "source": [
    "### Combining All Data Files"
   ]
  },
  {
   "cell_type": "code",
   "execution_count": 7,
   "metadata": {},
   "outputs": [],
   "source": [
    "#combine all files in the list\n",
    "combined_csv = pd.concat([pd.read_csv(f) for f in all_filenames ])\n",
    "#export to csv\n",
    "combined_csv.to_csv( \"CombinedData2019-2020.csv\", index=False, encoding='utf-8-sig')"
   ]
  },
  {
   "cell_type": "code",
   "execution_count": 8,
   "metadata": {},
   "outputs": [],
   "source": [
    "#Change the dirctory back\n",
    "os.chdir(r\"C:\\Users\\Sultan\\Documents\\GitHub\\Budget_Text_Analysis\\src\")"
   ]
  },
  {
   "cell_type": "markdown",
   "metadata": {},
   "source": [
    "### Reading Data"
   ]
  },
  {
   "cell_type": "code",
   "execution_count": 9,
   "metadata": {},
   "outputs": [],
   "source": [
    "data = pd.read_csv(r'C:\\Users\\Sultan\\Documents\\GitHub\\Budget_Text_Analysis\\util\\data\\2019-2020\\structured\\processed\\CombinedData2019-2020.csv', engine='python')"
   ]
  },
  {
   "cell_type": "code",
   "execution_count": 10,
   "metadata": {},
   "outputs": [
    {
     "data": {
      "text/plain": [
       "['ï»¿Unnamed: 0', 'page_number', 'word', 'organization']"
      ]
     },
     "execution_count": 10,
     "metadata": {},
     "output_type": "execute_result"
    }
   ],
   "source": [
    "# listing columns in data frame \n",
    "list(data)"
   ]
  },
  {
   "cell_type": "markdown",
   "metadata": {},
   "source": [
    "### Dropping a Column Added Upon Combining the Data Files "
   ]
  },
  {
   "cell_type": "code",
   "execution_count": 11,
   "metadata": {},
   "outputs": [
    {
     "data": {
      "text/html": [
       "<div>\n",
       "<style scoped>\n",
       "    .dataframe tbody tr th:only-of-type {\n",
       "        vertical-align: middle;\n",
       "    }\n",
       "\n",
       "    .dataframe tbody tr th {\n",
       "        vertical-align: top;\n",
       "    }\n",
       "\n",
       "    .dataframe thead th {\n",
       "        text-align: right;\n",
       "    }\n",
       "</style>\n",
       "<table border=\"1\" class=\"dataframe\">\n",
       "  <thead>\n",
       "    <tr style=\"text-align: right;\">\n",
       "      <th></th>\n",
       "      <th>page_number</th>\n",
       "      <th>word</th>\n",
       "      <th>organization</th>\n",
       "    </tr>\n",
       "  </thead>\n",
       "  <tbody>\n",
       "    <tr>\n",
       "      <td>0</td>\n",
       "      <td>1</td>\n",
       "      <td>ensuring</td>\n",
       "      <td>Charlotte City</td>\n",
       "    </tr>\n",
       "    <tr>\n",
       "      <td>1</td>\n",
       "      <td>1</td>\n",
       "      <td>an</td>\n",
       "      <td>Charlotte City</td>\n",
       "    </tr>\n",
       "    <tr>\n",
       "      <td>2</td>\n",
       "      <td>1</td>\n",
       "      <td>equitable</td>\n",
       "      <td>Charlotte City</td>\n",
       "    </tr>\n",
       "    <tr>\n",
       "      <td>3</td>\n",
       "      <td>1</td>\n",
       "      <td>sustainable</td>\n",
       "      <td>Charlotte City</td>\n",
       "    </tr>\n",
       "    <tr>\n",
       "      <td>4</td>\n",
       "      <td>1</td>\n",
       "      <td>and</td>\n",
       "      <td>Charlotte City</td>\n",
       "    </tr>\n",
       "  </tbody>\n",
       "</table>\n",
       "</div>"
      ],
      "text/plain": [
       "   page_number         word    organization\n",
       "0            1     ensuring  Charlotte City\n",
       "1            1           an  Charlotte City\n",
       "2            1    equitable  Charlotte City\n",
       "3            1  sustainable  Charlotte City\n",
       "4            1          and  Charlotte City"
      ]
     },
     "execution_count": 11,
     "metadata": {},
     "output_type": "execute_result"
    }
   ],
   "source": [
    "# alternatively, delete columns using the columns parameter of drop\n",
    "data = data.drop(columns=\"ï»¿Unnamed: 0\")\n",
    "data.head()"
   ]
  },
  {
   "cell_type": "markdown",
   "metadata": {},
   "source": [
    "### Adding Year Colunm With A Static Value = 2019-2020"
   ]
  },
  {
   "cell_type": "code",
   "execution_count": 12,
   "metadata": {
    "scrolled": true
   },
   "outputs": [
    {
     "data": {
      "text/html": [
       "<div>\n",
       "<style scoped>\n",
       "    .dataframe tbody tr th:only-of-type {\n",
       "        vertical-align: middle;\n",
       "    }\n",
       "\n",
       "    .dataframe tbody tr th {\n",
       "        vertical-align: top;\n",
       "    }\n",
       "\n",
       "    .dataframe thead th {\n",
       "        text-align: right;\n",
       "    }\n",
       "</style>\n",
       "<table border=\"1\" class=\"dataframe\">\n",
       "  <thead>\n",
       "    <tr style=\"text-align: right;\">\n",
       "      <th></th>\n",
       "      <th>page_number</th>\n",
       "      <th>word</th>\n",
       "      <th>organization</th>\n",
       "      <th>year</th>\n",
       "    </tr>\n",
       "  </thead>\n",
       "  <tbody>\n",
       "    <tr>\n",
       "      <td>0</td>\n",
       "      <td>1</td>\n",
       "      <td>ensuring</td>\n",
       "      <td>Charlotte City</td>\n",
       "      <td>2019-2020</td>\n",
       "    </tr>\n",
       "    <tr>\n",
       "      <td>1</td>\n",
       "      <td>1</td>\n",
       "      <td>an</td>\n",
       "      <td>Charlotte City</td>\n",
       "      <td>2019-2020</td>\n",
       "    </tr>\n",
       "    <tr>\n",
       "      <td>2</td>\n",
       "      <td>1</td>\n",
       "      <td>equitable</td>\n",
       "      <td>Charlotte City</td>\n",
       "      <td>2019-2020</td>\n",
       "    </tr>\n",
       "    <tr>\n",
       "      <td>3</td>\n",
       "      <td>1</td>\n",
       "      <td>sustainable</td>\n",
       "      <td>Charlotte City</td>\n",
       "      <td>2019-2020</td>\n",
       "    </tr>\n",
       "    <tr>\n",
       "      <td>4</td>\n",
       "      <td>1</td>\n",
       "      <td>and</td>\n",
       "      <td>Charlotte City</td>\n",
       "      <td>2019-2020</td>\n",
       "    </tr>\n",
       "  </tbody>\n",
       "</table>\n",
       "</div>"
      ],
      "text/plain": [
       "   page_number         word    organization       year\n",
       "0            1     ensuring  Charlotte City  2019-2020\n",
       "1            1           an  Charlotte City  2019-2020\n",
       "2            1    equitable  Charlotte City  2019-2020\n",
       "3            1  sustainable  Charlotte City  2019-2020\n",
       "4            1          and  Charlotte City  2019-2020"
      ]
     },
     "execution_count": 12,
     "metadata": {},
     "output_type": "execute_result"
    }
   ],
   "source": [
    "data.insert(3, \"year\", \"2019-2020\")\n",
    "data.head()"
   ]
  },
  {
   "cell_type": "markdown",
   "metadata": {},
   "source": [
    "### Step 1: Transform all words into lower case"
   ]
  },
  {
   "cell_type": "code",
   "execution_count": 13,
   "metadata": {},
   "outputs": [
    {
     "data": {
      "text/plain": [
       "0        ensuring\n",
       "1              an\n",
       "2       equitable\n",
       "3     sustainable\n",
       "4             and\n",
       "5       resilient\n",
       "6       charlotte\n",
       "7         adopted\n",
       "8              fy\n",
       "9          budget\n",
       "10             fy\n",
       "11        capital\n",
       "12     investment\n",
       "13           plan\n",
       "14       ensuring\n",
       "15             an\n",
       "16      equitable\n",
       "17    sustainable\n",
       "18            and\n",
       "19      resilient\n",
       "Name: word, dtype: object"
      ]
     },
     "execution_count": 13,
     "metadata": {},
     "output_type": "execute_result"
    }
   ],
   "source": [
    "data['word'] = data['word'].apply(lambda x: \" \".join(x.lower() for x in x.split()))\n",
    "data['word'].head(20)"
   ]
  },
  {
   "cell_type": "markdown",
   "metadata": {},
   "source": [
    "### Step 2: Correcting spelling"
   ]
  },
  {
   "cell_type": "code",
   "execution_count": 20,
   "metadata": {},
   "outputs": [
    {
     "ename": "ModuleNotFoundError",
     "evalue": "No module named 'textblob'",
     "output_type": "error",
     "traceback": [
      "\u001b[1;31m---------------------------------------------------------------------------\u001b[0m",
      "\u001b[1;31mModuleNotFoundError\u001b[0m                       Traceback (most recent call last)",
      "\u001b[1;32m<ipython-input-20-68235b9fcfe4>\u001b[0m in \u001b[0;36m<module>\u001b[1;34m\u001b[0m\n\u001b[1;32m----> 1\u001b[1;33m \u001b[1;32mfrom\u001b[0m \u001b[0mtextblob\u001b[0m \u001b[1;32mimport\u001b[0m \u001b[0mTextBlob\u001b[0m\u001b[1;33m\u001b[0m\u001b[1;33m\u001b[0m\u001b[0m\n\u001b[0m\u001b[0;32m      2\u001b[0m \u001b[0mdata\u001b[0m\u001b[1;33m[\u001b[0m\u001b[1;34m'word'\u001b[0m\u001b[1;33m]\u001b[0m\u001b[1;33m[\u001b[0m\u001b[1;33m:\u001b[0m\u001b[1;36m20\u001b[0m\u001b[1;33m]\u001b[0m\u001b[1;33m.\u001b[0m\u001b[0mapply\u001b[0m\u001b[1;33m(\u001b[0m\u001b[1;32mlambda\u001b[0m \u001b[0mx\u001b[0m\u001b[1;33m:\u001b[0m \u001b[0mstr\u001b[0m\u001b[1;33m(\u001b[0m\u001b[0mTextBlob\u001b[0m\u001b[1;33m(\u001b[0m\u001b[0mx\u001b[0m\u001b[1;33m)\u001b[0m\u001b[1;33m.\u001b[0m\u001b[0mcorrect\u001b[0m\u001b[1;33m(\u001b[0m\u001b[1;33m)\u001b[0m\u001b[1;33m)\u001b[0m\u001b[1;33m)\u001b[0m\u001b[1;33m\u001b[0m\u001b[1;33m\u001b[0m\u001b[0m\n",
      "\u001b[1;31mModuleNotFoundError\u001b[0m: No module named 'textblob'"
     ]
    }
   ],
   "source": [
    "from textblob import TextBlob\n",
    "data['word'][:20].apply(lambda x: str(TextBlob(x).correct()))"
   ]
  },
  {
   "cell_type": "markdown",
   "metadata": {},
   "source": [
    "### Step 3: Lemmatization - Converting all words into their root words"
   ]
  },
  {
   "cell_type": "code",
   "execution_count": null,
   "metadata": {},
   "outputs": [],
   "source": [
    "import spacy as sp\n",
    "sp = sp.load('en_core_web_sm')"
   ]
  },
  {
   "cell_type": "markdown",
   "metadata": {},
   "source": [
    "### Step 4: Counting stopwords in data"
   ]
  },
  {
   "cell_type": "code",
   "execution_count": null,
   "metadata": {},
   "outputs": [],
   "source": [
    "from nltk.corpus import stopwords #importing stopwords from nltk\n",
    "stop = stopwords.words('english') #storing stopwords in variable stop\n",
    "\n",
    "data['stopwords'] = data['word'].apply(lambda x: len([x for x in x.split() if x in stop])) \n",
    "data[['word','stopwords']].head(20)"
   ]
  },
  {
   "cell_type": "markdown",
   "metadata": {},
   "source": [
    "### Step 5: Removing stop words"
   ]
  },
  {
   "cell_type": "code",
   "execution_count": null,
   "metadata": {
    "scrolled": true
   },
   "outputs": [],
   "source": [
    "data['word'] = data['word'].apply(lambda x: \" \".join(x for x in x.split() if x not in stop))\n",
    "data['word'].head(20)"
   ]
  },
  {
   "cell_type": "markdown",
   "metadata": {},
   "source": [
    "### Step 6: Finding term frequency, TF = (Number of times term T appears in the particular row) / (number of terms in that row)"
   ]
  },
  {
   "cell_type": "code",
   "execution_count": null,
   "metadata": {},
   "outputs": [],
   "source": [
    "tf1 = (data['word'][:30]).apply(lambda x: pd.value_counts(x.split(\" \"))).sum(axis = 0).reset_index()\n",
    "tf1.columns = ['words','tf']\n",
    "tf1.head(20)"
   ]
  },
  {
   "cell_type": "markdown",
   "metadata": {},
   "source": [
    "### Step 7: Finding Inverse Document Frequency (IDF)"
   ]
  },
  {
   "cell_type": "code",
   "execution_count": null,
   "metadata": {},
   "outputs": [],
   "source": [
    "#IDF = log(N/n), where, N is the total number of rows  \n",
    "#and n is the number of rows in which the word was present.\n",
    "for i, word in enumerate(tf1['words']):\n",
    "  tf1.loc[i, 'idf'] = np.log(data.shape[0]/(len(data[data['word'].str.contains(word)])))\n",
    "\n",
    "tf1.head(20)"
   ]
  },
  {
   "cell_type": "markdown",
   "metadata": {},
   "source": [
    "### Step 8: Term Frequency – Inverse Document Frequency (TF-IDF)"
   ]
  },
  {
   "cell_type": "code",
   "execution_count": null,
   "metadata": {},
   "outputs": [],
   "source": [
    "#TF-IDF is the multiplication of the TF and IDF which we calculated above.\n",
    "\n",
    "tf1['tfidf'] = tf1['tf'] * tf1['idf']\n",
    "tf1.head(20)"
   ]
  }
 ],
 "metadata": {
  "kernelspec": {
   "display_name": "Python 3",
   "language": "python",
   "name": "python3"
  },
  "language_info": {
   "codemirror_mode": {
    "name": "ipython",
    "version": 3
   },
   "file_extension": ".py",
   "mimetype": "text/x-python",
   "name": "python",
   "nbconvert_exporter": "python",
   "pygments_lexer": "ipython3",
   "version": "3.7.4"
  }
 },
 "nbformat": 4,
 "nbformat_minor": 2
}
