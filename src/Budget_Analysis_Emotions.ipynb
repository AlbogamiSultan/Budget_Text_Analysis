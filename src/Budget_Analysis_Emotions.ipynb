{
 "cells": [
  {
   "cell_type": "code",
   "execution_count": 1,
   "metadata": {},
   "outputs": [],
   "source": [
    "import pandas as pd\n",
    "import numpy as np"
   ]
  },
  {
   "cell_type": "code",
   "execution_count": 2,
   "metadata": {},
   "outputs": [
    {
     "data": {
      "text/plain": [
       "(17338, 5)"
      ]
     },
     "execution_count": 2,
     "metadata": {},
     "output_type": "execute_result"
    }
   ],
   "source": [
    "GCE = pd.read_csv(r\"C:\\Users\\akash\\Desktop\\GIT\\Budget_Text_Analysis\\util\\data\\structured\\emotion\\GuilfordCounty_emotion_data.csv\")\n",
    "GCE.drop(['Unnamed: 0'], axis=1,inplace=True)\n",
    "GCE.shape"
   ]
  },
  {
   "cell_type": "code",
   "execution_count": 4,
   "metadata": {},
   "outputs": [
    {
     "data": {
      "text/plain": [
       "(17010, 5)"
      ]
     },
     "execution_count": 4,
     "metadata": {},
     "output_type": "execute_result"
    }
   ],
   "source": [
    "CCE = pd.read_csv(r\"C:\\Users\\akash\\Desktop\\GIT\\Budget_Text_Analysis\\util\\data\\structured\\emotion\\CharlotteCity_emotion_data.csv\")\n",
    "CCE.drop(['Unnamed: 0'], axis=1,inplace=True)\n",
    "CCE.shape"
   ]
  },
  {
   "cell_type": "code",
   "execution_count": 5,
   "metadata": {},
   "outputs": [
    {
     "data": {
      "text/plain": [
       "(11410, 5)"
      ]
     },
     "execution_count": 5,
     "metadata": {},
     "output_type": "execute_result"
    }
   ],
   "source": [
    "RCE = pd.read_csv(r\"C:\\Users\\akash\\Desktop\\GIT\\Budget_Text_Analysis\\util\\data\\structured\\emotion\\RaleighCity_emotion_data.csv\")\n",
    "RCE.drop(['Unnamed: 0'], axis=1,inplace=True)\n",
    "RCE.shape"
   ]
  },
  {
   "cell_type": "code",
   "execution_count": 6,
   "metadata": {},
   "outputs": [
    {
     "data": {
      "text/plain": [
       "(15410, 5)"
      ]
     },
     "execution_count": 6,
     "metadata": {},
     "output_type": "execute_result"
    }
   ],
   "source": [
    "DCE = pd.read_csv(r\"C:\\Users\\akash\\Desktop\\GIT\\Budget_Text_Analysis\\util\\data\\structured\\emotion\\DurhamCity_emotion_data.csv\")\n",
    "DCE.drop(['Unnamed: 0'], axis=1,inplace=True)\n",
    "DCE.shape"
   ]
  },
  {
   "cell_type": "code",
   "execution_count": 7,
   "metadata": {},
   "outputs": [
    {
     "data": {
      "text/plain": [
       "(16703, 5)"
      ]
     },
     "execution_count": 7,
     "metadata": {},
     "output_type": "execute_result"
    }
   ],
   "source": [
    "DCNTE = pd.read_csv(r\"C:\\Users\\akash\\Desktop\\GIT\\Budget_Text_Analysis\\util\\data\\structured\\emotion\\DurhamCounty_emotion_data.csv\")\n",
    "DCNTE.drop(['Unnamed: 0'], axis=1,inplace=True)\n",
    "DCNTE.shape"
   ]
  },
  {
   "cell_type": "code",
   "execution_count": 9,
   "metadata": {},
   "outputs": [
    {
     "data": {
      "text/plain": [
       "(15660, 5)"
      ]
     },
     "execution_count": 9,
     "metadata": {},
     "output_type": "execute_result"
    }
   ],
   "source": [
    "MCE = pd.read_csv(r\"C:\\Users\\akash\\Desktop\\GIT\\Budget_Text_Analysis\\util\\data\\structured\\emotion\\MecklenburgCounty_emotion_data.csv\")\n",
    "MCE.drop(['Unnamed: 0'], axis=1,inplace=True)\n",
    "MCE.shape"
   ]
  },
  {
   "cell_type": "code",
   "execution_count": 10,
   "metadata": {},
   "outputs": [
    {
     "data": {
      "text/plain": [
       "(21389, 5)"
      ]
     },
     "execution_count": 10,
     "metadata": {},
     "output_type": "execute_result"
    }
   ],
   "source": [
    "WCE = pd.read_csv(r\"C:\\Users\\akash\\Desktop\\GIT\\Budget_Text_Analysis\\util\\data\\structured\\emotion\\WakeCounty_emotion_data.csv\")\n",
    "WCE.drop(['Unnamed: 0'], axis=1,inplace=True)\n",
    "WCE.shape"
   ]
  },
  {
   "cell_type": "code",
   "execution_count": null,
   "metadata": {},
   "outputs": [],
   "source": []
  }
 ],
 "metadata": {
  "kernelspec": {
   "display_name": "Python 3",
   "language": "python",
   "name": "python3"
  },
  "language_info": {
   "codemirror_mode": {
    "name": "ipython",
    "version": 3
   },
   "file_extension": ".py",
   "mimetype": "text/x-python",
   "name": "python",
   "nbconvert_exporter": "python",
   "pygments_lexer": "ipython3",
   "version": "3.6.5"
  }
 },
 "nbformat": 4,
 "nbformat_minor": 2
}
