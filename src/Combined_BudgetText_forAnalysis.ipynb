{
 "cells": [
  {
   "cell_type": "code",
   "execution_count": 1,
   "metadata": {},
   "outputs": [],
   "source": [
    "import pandas as pd\n",
    "import numpy as np"
   ]
  },
  {
   "cell_type": "code",
   "execution_count": 24,
   "metadata": {},
   "outputs": [
    {
     "data": {
      "text/plain": [
       "(94559, 3)"
      ]
     },
     "execution_count": 24,
     "metadata": {},
     "output_type": "execute_result"
    }
   ],
   "source": [
    "GC_df = pd.read_csv(r\"../util/data/structured/original/GuilfordCounty_original_data.csv\")\n",
    "GC_df.drop(['Unnamed: 0'], axis=1,inplace=True)\n",
    "GC_df['label']='0'\n",
    "GC_df.shape"
   ]
  },
  {
   "cell_type": "code",
   "execution_count": 25,
   "metadata": {},
   "outputs": [
    {
     "data": {
      "text/plain": [
       "(85648, 3)"
      ]
     },
     "execution_count": 25,
     "metadata": {},
     "output_type": "execute_result"
    }
   ],
   "source": [
    "CC_df = pd.read_csv(r\"../util/data/structured/original/CharlotteCity_original_data.csv\")\n",
    "CC_df.drop(['Unnamed: 0'], axis=1,inplace=True)\n",
    "CC_df['label']='1'\n",
    "CC_df.shape"
   ]
  },
  {
   "cell_type": "code",
   "execution_count": 26,
   "metadata": {},
   "outputs": [
    {
     "data": {
      "text/plain": [
       "(72573, 3)"
      ]
     },
     "execution_count": 26,
     "metadata": {},
     "output_type": "execute_result"
    }
   ],
   "source": [
    "RC_df = pd.read_csv(r\"../util/data/structured/original/RaleighCity_original_data.csv\")\n",
    "RC_df.drop(['Unnamed: 0'], axis=1,inplace=True)\n",
    "RC_df['label']='2'\n",
    "RC_df.shape"
   ]
  },
  {
   "cell_type": "code",
   "execution_count": 27,
   "metadata": {},
   "outputs": [
    {
     "data": {
      "text/plain": [
       "(81524, 3)"
      ]
     },
     "execution_count": 27,
     "metadata": {},
     "output_type": "execute_result"
    }
   ],
   "source": [
    "DC_df = pd.read_csv(r\"../util/data/structured/original/DurhamCity_original_data.csv\")\n",
    "DC_df.drop(['Unnamed: 0'], axis=1,inplace=True)\n",
    "DC_df['label']='3'\n",
    "DC_df.shape"
   ]
  },
  {
   "cell_type": "code",
   "execution_count": 28,
   "metadata": {},
   "outputs": [
    {
     "data": {
      "text/plain": [
       "(97576, 3)"
      ]
     },
     "execution_count": 28,
     "metadata": {},
     "output_type": "execute_result"
    }
   ],
   "source": [
    "\n",
    "DCNT_df = pd.read_csv(r\"../util/data/structured/original/DurhamCounty_original_data.csv\")\n",
    "DCNT_df.drop(['Unnamed: 0'], axis=1,inplace=True)\n",
    "DCNT_df['label']='4'\n",
    "DCNT_df.shape"
   ]
  },
  {
   "cell_type": "code",
   "execution_count": 31,
   "metadata": {},
   "outputs": [
    {
     "data": {
      "text/plain": [
       "(84235, 3)"
      ]
     },
     "execution_count": 31,
     "metadata": {},
     "output_type": "execute_result"
    }
   ],
   "source": [
    "MC_df = pd.read_csv(r\"../util/data/structured/original/MecklenburgCounty_original_data.csv\")\n",
    "MC_df.drop(['Unnamed: 0'], axis=1,inplace=True)\n",
    "MC_df['label']='5'\n",
    "MC_df.shape"
   ]
  },
  {
   "cell_type": "code",
   "execution_count": 32,
   "metadata": {},
   "outputs": [
    {
     "data": {
      "text/plain": [
       "(122016, 3)"
      ]
     },
     "execution_count": 32,
     "metadata": {},
     "output_type": "execute_result"
    }
   ],
   "source": [
    "WC_df = pd.read_csv(r\"../util/data/structured/original/WakeCounty_original_data.csv\")\n",
    "WC_df.drop(['Unnamed: 0'], axis=1,inplace=True)\n",
    "WC_df['label']='6'\n",
    "WC_df.shape"
   ]
  }
 ],
 "metadata": {
  "kernelspec": {
   "display_name": "Python 3",
   "language": "python",
   "name": "python3"
  },
  "language_info": {
   "codemirror_mode": {
    "name": "ipython",
    "version": 3
   },
   "file_extension": ".py",
   "mimetype": "text/x-python",
   "name": "python",
   "nbconvert_exporter": "python",
   "pygments_lexer": "ipython3",
   "version": "3.6.5"
  }
 },
 "nbformat": 4,
 "nbformat_minor": 2
}
