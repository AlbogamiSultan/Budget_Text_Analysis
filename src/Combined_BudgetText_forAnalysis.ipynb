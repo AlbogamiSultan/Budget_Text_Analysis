{
 "cells": [
  {
   "cell_type": "code",
   "execution_count": 1,
   "metadata": {},
   "outputs": [],
   "source": [
    "import pandas as pd\n",
    "import numpy as np"
   ]
  },
  {
   "cell_type": "code",
   "execution_count": 24,
   "metadata": {},
   "outputs": [
    {
     "data": {
      "text/plain": [
       "(94559, 3)"
      ]
     },
     "execution_count": 24,
     "metadata": {},
     "output_type": "execute_result"
    }
   ],
   "source": [
    "GC_df = pd.read_csv(r\"../util/data/structured/original/GuilfordCounty_original_data.csv\")\n",
    "GC_df.drop(['Unnamed: 0'], axis=1,inplace=True)\n",
    "GC_df['label']='0'\n",
    "GC_df.shape"
   ]
  },
  {
   "cell_type": "code",
   "execution_count": 25,
   "metadata": {},
   "outputs": [
    {
     "data": {
      "text/plain": [
       "(85648, 3)"
      ]
     },
     "execution_count": 25,
     "metadata": {},
     "output_type": "execute_result"
    }
   ],
   "source": [
    "CC_df = pd.read_csv(r\"../util/data/structured/original/CharlotteCity_original_data.csv\")\n",
    "CC_df.drop(['Unnamed: 0'], axis=1,inplace=True)\n",
    "CC_df['label']='1'\n",
    "CC_df.shape"
   ]
  },
  {
   "cell_type": "code",
   "execution_count": 26,
   "metadata": {},
   "outputs": [
    {
     "data": {
      "text/plain": [
       "(72573, 3)"
      ]
     },
     "execution_count": 26,
     "metadata": {},
     "output_type": "execute_result"
    }
   ],
   "source": [
    "RC_df = pd.read_csv(r\"../util/data/structured/original/RaleighCity_original_data.csv\")\n",
    "RC_df.drop(['Unnamed: 0'], axis=1,inplace=True)\n",
    "RC_df['label']='2'\n",
    "RC_df.shape"
   ]
  },
  {
   "cell_type": "code",
   "execution_count": 27,
   "metadata": {},
   "outputs": [
    {
     "data": {
      "text/plain": [
       "(81524, 3)"
      ]
     },
     "execution_count": 27,
     "metadata": {},
     "output_type": "execute_result"
    }
   ],
   "source": [
    "DC_df = pd.read_csv(r\"../util/data/structured/original/DurhamCity_original_data.csv\")\n",
    "DC_df.drop(['Unnamed: 0'], axis=1,inplace=True)\n",
    "DC_df['label']='3'\n",
    "DC_df.shape"
   ]
  },
  {
   "cell_type": "code",
   "execution_count": 28,
   "metadata": {},
   "outputs": [
    {
     "data": {
      "text/plain": [
       "(97576, 3)"
      ]
     },
     "execution_count": 28,
     "metadata": {},
     "output_type": "execute_result"
    }
   ],
   "source": [
    "\n",
    "DCNT_df = pd.read_csv(r\"../util/data/structured/original/DurhamCounty_original_data.csv\")\n",
    "DCNT_df.drop(['Unnamed: 0'], axis=1,inplace=True)\n",
    "DCNT_df['label']='4'\n",
    "DCNT_df.shape"
   ]
  },
  {
   "cell_type": "code",
   "execution_count": 31,
   "metadata": {},
   "outputs": [
    {
     "data": {
      "text/plain": [
       "(84235, 3)"
      ]
     },
     "execution_count": 31,
     "metadata": {},
     "output_type": "execute_result"
    }
   ],
   "source": [
    "MC_df = pd.read_csv(r\"../util/data/structured/original/MecklenburgCounty_original_data.csv\")\n",
    "MC_df.drop(['Unnamed: 0'], axis=1,inplace=True)\n",
    "MC_df['label']='5'\n",
    "MC_df.shape"
   ]
  },
  {
   "cell_type": "code",
   "execution_count": 32,
   "metadata": {},
   "outputs": [
    {
     "data": {
      "text/plain": [
       "(122016, 3)"
      ]
     },
     "execution_count": 32,
     "metadata": {},
     "output_type": "execute_result"
    }
   ],
   "source": [
    "WC_df = pd.read_csv(r\"../util/data/structured/original/WakeCounty_original_data.csv\")\n",
    "WC_df.drop(['Unnamed: 0'], axis=1,inplace=True)\n",
    "WC_df['label']='6'\n",
    "WC_df.shape"
   ]
  },
  {
   "cell_type": "code",
   "execution_count": 40,
   "metadata": {},
   "outputs": [],
   "source": [
    "Combined_df = pd.concat([GC_df, CC_df, RC_df, DC_df, DCNT_df, MC_df, WC_df])"
   ]
  },
  {
   "cell_type": "code",
   "execution_count": 41,
   "metadata": {},
   "outputs": [
    {
     "data": {
      "text/plain": [
       "1914393"
      ]
     },
     "execution_count": 41,
     "metadata": {},
     "output_type": "execute_result"
    }
   ],
   "source": [
    "Combined_df.size"
   ]
  },
  {
   "cell_type": "code",
   "execution_count": 42,
   "metadata": {},
   "outputs": [
    {
     "data": {
      "text/plain": [
       "<bound method NDFrame.head of         page_number             word label\n",
       "0                 2         guilford     0\n",
       "1                 2           county     0\n",
       "2                 2               by     0\n",
       "3                 2              the     0\n",
       "4                 2          numbers     0\n",
       "5                 2             what     0\n",
       "6                 2            makes     0\n",
       "7                 2               us     0\n",
       "8                 2            count     0\n",
       "9                 2           county     0\n",
       "10                2               ou     0\n",
       "11                2               ou     0\n",
       "12                2               un     0\n",
       "13                2              unt     0\n",
       "14                2              nty     0\n",
       "15                2               st     0\n",
       "16                2                n     0\n",
       "17                2                s     0\n",
       "18                2            staff     0\n",
       "19                2               ta     0\n",
       "20                2              taf     0\n",
       "21                2               af     0\n",
       "22                2         rerready     0\n",
       "23                2                e     0\n",
       "24                2               ea     0\n",
       "25                2              ead     0\n",
       "26                2               ad     0\n",
       "27                2              and     0\n",
       "28                2               nd     0\n",
       "29                2           cities     0\n",
       "...             ...              ...   ...\n",
       "121986          498         internal     6\n",
       "121987          498          service     6\n",
       "121988          498             fund     6\n",
       "121989          498            board     6\n",
       "121990          498               of     6\n",
       "121991          498           county     6\n",
       "121992          498    commissioners     6\n",
       "121993          498        corporate     6\n",
       "121994          498            fleet     6\n",
       "121995          498             fund     6\n",
       "121996          498            goals     6\n",
       "121997          498       objectives     6\n",
       "121998          498      initiatives     6\n",
       "121999          498             wake     6\n",
       "122000          498           county     6\n",
       "122001          498       government     6\n",
       "122002          498   organizational     6\n",
       "122003          498            chart     6\n",
       "122004          498                n     6\n",
       "122005          498  nondepartmental     6\n",
       "122006          498             wake     6\n",
       "122007          498           county     6\n",
       "122008          498       government     6\n",
       "122009          498   organizational     6\n",
       "122010          498            chart     6\n",
       "122011          498            index     6\n",
       "122012          498           fiscal     6\n",
       "122013          498             year     6\n",
       "122014          498          adopted     6\n",
       "122015          498           budget     6\n",
       "\n",
       "[638131 rows x 3 columns]>"
      ]
     },
     "execution_count": 42,
     "metadata": {},
     "output_type": "execute_result"
    }
   ],
   "source": [
    "Combined_df.head"
   ]
  },
  {
   "cell_type": "code",
   "execution_count": 47,
   "metadata": {},
   "outputs": [
    {
     "data": {
      "text/plain": [
       "(638131, 3)"
      ]
     },
     "execution_count": 47,
     "metadata": {},
     "output_type": "execute_result"
    }
   ],
   "source": [
    "Combined_df.shape"
   ]
  },
  {
   "cell_type": "code",
   "execution_count": 45,
   "metadata": {},
   "outputs": [
    {
     "data": {
      "text/html": [
       "<div>\n",
       "<style scoped>\n",
       "    .dataframe tbody tr th:only-of-type {\n",
       "        vertical-align: middle;\n",
       "    }\n",
       "\n",
       "    .dataframe tbody tr th {\n",
       "        vertical-align: top;\n",
       "    }\n",
       "\n",
       "    .dataframe thead th {\n",
       "        text-align: right;\n",
       "    }\n",
       "</style>\n",
       "<table border=\"1\" class=\"dataframe\">\n",
       "  <thead>\n",
       "    <tr style=\"text-align: right;\">\n",
       "      <th></th>\n",
       "      <th>page_number</th>\n",
       "    </tr>\n",
       "  </thead>\n",
       "  <tbody>\n",
       "    <tr>\n",
       "      <th>count</th>\n",
       "      <td>638131.000000</td>\n",
       "    </tr>\n",
       "    <tr>\n",
       "      <th>mean</th>\n",
       "      <td>213.602262</td>\n",
       "    </tr>\n",
       "    <tr>\n",
       "      <th>std</th>\n",
       "      <td>137.058241</td>\n",
       "    </tr>\n",
       "    <tr>\n",
       "      <th>min</th>\n",
       "      <td>1.000000</td>\n",
       "    </tr>\n",
       "    <tr>\n",
       "      <th>25%</th>\n",
       "      <td>100.000000</td>\n",
       "    </tr>\n",
       "    <tr>\n",
       "      <th>50%</th>\n",
       "      <td>203.000000</td>\n",
       "    </tr>\n",
       "    <tr>\n",
       "      <th>75%</th>\n",
       "      <td>305.000000</td>\n",
       "    </tr>\n",
       "    <tr>\n",
       "      <th>max</th>\n",
       "      <td>537.000000</td>\n",
       "    </tr>\n",
       "  </tbody>\n",
       "</table>\n",
       "</div>"
      ],
      "text/plain": [
       "         page_number\n",
       "count  638131.000000\n",
       "mean      213.602262\n",
       "std       137.058241\n",
       "min         1.000000\n",
       "25%       100.000000\n",
       "50%       203.000000\n",
       "75%       305.000000\n",
       "max       537.000000"
      ]
     },
     "execution_count": 45,
     "metadata": {},
     "output_type": "execute_result"
    }
   ],
   "source": [
    "Combined_df.describe()"
   ]
  },
  {
   "cell_type": "code",
   "execution_count": null,
   "metadata": {},
   "outputs": [],
   "source": []
  }
 ],
 "metadata": {
  "kernelspec": {
   "display_name": "Python 3",
   "language": "python",
   "name": "python3"
  },
  "language_info": {
   "codemirror_mode": {
    "name": "ipython",
    "version": 3
   },
   "file_extension": ".py",
   "mimetype": "text/x-python",
   "name": "python",
   "nbconvert_exporter": "python",
   "pygments_lexer": "ipython3",
   "version": "3.6.5"
  }
 },
 "nbformat": 4,
 "nbformat_minor": 2
}
