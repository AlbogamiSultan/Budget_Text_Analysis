{
 "cells": [
  {
   "cell_type": "markdown",
   "metadata": {},
   "source": [
    "### Data Pre-Processing\n",
    "\n",
    "\n",
    "1. **Obtaining the data -** data is loaded from local machine\n",
    "\n",
    "\n",
    "2. **Cleaning the data -** preforming some text pre-processing techniques\n",
    "\n",
    "\n",
    "3. **Organizing the data -** organizing the cleaned data into a way that is easy to input into other algorithms"
   ]
  },
  {
   "cell_type": "code",
   "execution_count": 1,
   "metadata": {},
   "outputs": [],
   "source": [
    "#Importing packages\n",
    "import os\n",
    "import glob\n",
    "import nltk\n",
    "import pandas as pd\n",
    "import numpy as np"
   ]
  },
  {
   "cell_type": "markdown",
   "metadata": {},
   "source": [
    "### 1- Obtaining the data"
   ]
  },
  {
   "cell_type": "markdown",
   "metadata": {},
   "source": [
    "#### Reading and labling data for all organizations"
   ]
  },
  {
   "cell_type": "code",
   "execution_count": 4,
   "metadata": {},
   "outputs": [],
   "source": [
    "# 1- Reading Guilford-County data file \n",
    "GC_df = pd.read_csv(r'C:\\Users\\Sultan\\Documents\\GitHub\\Budget_Text_Analysis\\util\\data\\2019-2020\\structured\\original\\GuilfordCounty_original_data.csv', engine='python')\n",
    "# inserting \"organization\" column with static value corresponding to the organization in question \n",
    "GC_df.insert(2, \"organization\", \"Guilford County\")\n",
    "\n",
    "\n",
    "# 2- For Charlotte-City data\n",
    "CC_df = pd.read_csv(r'C:\\Users\\Sultan\\Documents\\GitHub\\Budget_Text_Analysis\\util\\data\\2019-2020\\structured\\original\\CharlotteCity_original_data.csv', engine='python')\n",
    "CC_df.insert(2, \"organization\", \"Charlotte City\")\n",
    "\n",
    "# 3- For Durham-City data\n",
    "DCity_df = pd.read_csv(r'C:\\Users\\Sultan\\Documents\\GitHub\\Budget_Text_Analysis\\util\\data\\2019-2020\\structured\\original\\DurhamCity_original_data.csv', engine='python')\n",
    "DCity_df.insert(2, \"organization\", \"Durham City\")\n",
    "\n",
    "# 4- For Durham-County data\n",
    "DCounty_df = pd.read_csv(r'C:\\Users\\Sultan\\Documents\\GitHub\\Budget_Text_Analysis\\util\\data\\2019-2020\\structured\\original\\DurhamCounty_original_data.csv', engine='python')\n",
    "DCounty_df.insert(2, \"organization\", \"Durham County\")\n",
    "\n",
    "# 5- For Mecklenburg-County data\n",
    "MC_df = pd.read_csv(r'C:\\Users\\Sultan\\Documents\\GitHub\\Budget_Text_Analysis\\util\\data\\2019-2020\\structured\\original\\MecklenburgCounty_original_data.csv', engine='python')\n",
    "MC_df.insert(2, \"organization\", \"Mecklenburg County\")\n",
    "\n",
    "# 6- For Raleigh-City data\n",
    "RC_df = pd.read_csv(r'C:\\Users\\Sultan\\Documents\\GitHub\\Budget_Text_Analysis\\util\\data\\2019-2020\\structured\\original\\RaleighCity_original_data.csv', engine='python')\n",
    "RC_df.insert(2, \"organization\", \"Raleigh City\")\n",
    "\n",
    "# 7- For Wake-County data\n",
    "WC_df = pd.read_csv(r'C:\\Users\\Sultan\\Documents\\GitHub\\Budget_Text_Analysis\\util\\data\\2019-2020\\structured\\original\\WakeCounty_original_data.csv', engine='python')\n",
    "WC_df.insert(2, \"organization\", \"Wake County\")"
   ]
  },
  {
   "cell_type": "code",
   "execution_count": 27,
   "metadata": {},
   "outputs": [
    {
     "data": {
      "text/html": [
       "<div>\n",
       "<style scoped>\n",
       "    .dataframe tbody tr th:only-of-type {\n",
       "        vertical-align: middle;\n",
       "    }\n",
       "\n",
       "    .dataframe tbody tr th {\n",
       "        vertical-align: top;\n",
       "    }\n",
       "\n",
       "    .dataframe thead th {\n",
       "        text-align: right;\n",
       "    }\n",
       "</style>\n",
       "<table border=\"1\" class=\"dataframe\">\n",
       "  <thead>\n",
       "    <tr style=\"text-align: right;\">\n",
       "      <th></th>\n",
       "      <th>Unnamed: 0</th>\n",
       "      <th>page_number</th>\n",
       "      <th>organization</th>\n",
       "      <th>word</th>\n",
       "    </tr>\n",
       "  </thead>\n",
       "  <tbody>\n",
       "    <tr>\n",
       "      <td>0</td>\n",
       "      <td>1</td>\n",
       "      <td>2</td>\n",
       "      <td>Guilford County</td>\n",
       "      <td>guilford</td>\n",
       "    </tr>\n",
       "    <tr>\n",
       "      <td>1</td>\n",
       "      <td>2</td>\n",
       "      <td>2</td>\n",
       "      <td>Guilford County</td>\n",
       "      <td>county</td>\n",
       "    </tr>\n",
       "    <tr>\n",
       "      <td>2</td>\n",
       "      <td>3</td>\n",
       "      <td>2</td>\n",
       "      <td>Guilford County</td>\n",
       "      <td>by</td>\n",
       "    </tr>\n",
       "    <tr>\n",
       "      <td>3</td>\n",
       "      <td>4</td>\n",
       "      <td>2</td>\n",
       "      <td>Guilford County</td>\n",
       "      <td>the</td>\n",
       "    </tr>\n",
       "    <tr>\n",
       "      <td>4</td>\n",
       "      <td>5</td>\n",
       "      <td>2</td>\n",
       "      <td>Guilford County</td>\n",
       "      <td>numbers</td>\n",
       "    </tr>\n",
       "    <tr>\n",
       "      <td>...</td>\n",
       "      <td>...</td>\n",
       "      <td>...</td>\n",
       "      <td>...</td>\n",
       "      <td>...</td>\n",
       "    </tr>\n",
       "    <tr>\n",
       "      <td>638126</td>\n",
       "      <td>122012</td>\n",
       "      <td>498</td>\n",
       "      <td>Wake County</td>\n",
       "      <td>index</td>\n",
       "    </tr>\n",
       "    <tr>\n",
       "      <td>638127</td>\n",
       "      <td>122013</td>\n",
       "      <td>498</td>\n",
       "      <td>Wake County</td>\n",
       "      <td>fiscal</td>\n",
       "    </tr>\n",
       "    <tr>\n",
       "      <td>638128</td>\n",
       "      <td>122014</td>\n",
       "      <td>498</td>\n",
       "      <td>Wake County</td>\n",
       "      <td>year</td>\n",
       "    </tr>\n",
       "    <tr>\n",
       "      <td>638129</td>\n",
       "      <td>122015</td>\n",
       "      <td>498</td>\n",
       "      <td>Wake County</td>\n",
       "      <td>adopted</td>\n",
       "    </tr>\n",
       "    <tr>\n",
       "      <td>638130</td>\n",
       "      <td>122016</td>\n",
       "      <td>498</td>\n",
       "      <td>Wake County</td>\n",
       "      <td>budget</td>\n",
       "    </tr>\n",
       "  </tbody>\n",
       "</table>\n",
       "<p>638131 rows × 4 columns</p>\n",
       "</div>"
      ],
      "text/plain": [
       "        Unnamed: 0  page_number     organization      word\n",
       "0                1            2  Guilford County  guilford\n",
       "1                2            2  Guilford County    county\n",
       "2                3            2  Guilford County        by\n",
       "3                4            2  Guilford County       the\n",
       "4                5            2  Guilford County   numbers\n",
       "...            ...          ...              ...       ...\n",
       "638126      122012          498      Wake County     index\n",
       "638127      122013          498      Wake County    fiscal\n",
       "638128      122014          498      Wake County      year\n",
       "638129      122015          498      Wake County   adopted\n",
       "638130      122016          498      Wake County    budget\n",
       "\n",
       "[638131 rows x 4 columns]"
      ]
     },
     "execution_count": 27,
     "metadata": {},
     "output_type": "execute_result"
    }
   ],
   "source": [
    "#combine all data frames into a single data frame using concat() \n",
    "#function in pandas. Row lables are adjusted automaticlly by passing ignore_index=True\n",
    "data =  pd.concat([GC_df, CC_df, DCity_df, DCounty_df, MC_df, RC_df, WC_df], ignore_index=True)\n",
    "data"
   ]
  },
  {
   "cell_type": "markdown",
   "metadata": {},
   "source": [
    "### 2- Cleaning the Data"
   ]
  },
  {
   "cell_type": "code",
   "execution_count": 28,
   "metadata": {},
   "outputs": [
    {
     "data": {
      "text/plain": [
       "['Unnamed: 0', 'page_number', 'organization', 'word']"
      ]
     },
     "execution_count": 28,
     "metadata": {},
     "output_type": "execute_result"
    }
   ],
   "source": [
    "# listing columns in data frame \n",
    "list(data)"
   ]
  },
  {
   "cell_type": "markdown",
   "metadata": {},
   "source": [
    "#### Dropping and reordering columns"
   ]
  },
  {
   "cell_type": "code",
   "execution_count": 29,
   "metadata": {},
   "outputs": [
    {
     "data": {
      "text/html": [
       "<div>\n",
       "<style scoped>\n",
       "    .dataframe tbody tr th:only-of-type {\n",
       "        vertical-align: middle;\n",
       "    }\n",
       "\n",
       "    .dataframe tbody tr th {\n",
       "        vertical-align: top;\n",
       "    }\n",
       "\n",
       "    .dataframe thead th {\n",
       "        text-align: right;\n",
       "    }\n",
       "</style>\n",
       "<table border=\"1\" class=\"dataframe\">\n",
       "  <thead>\n",
       "    <tr style=\"text-align: right;\">\n",
       "      <th></th>\n",
       "      <th>page_number</th>\n",
       "      <th>word</th>\n",
       "      <th>organization</th>\n",
       "    </tr>\n",
       "  </thead>\n",
       "  <tbody>\n",
       "    <tr>\n",
       "      <td>0</td>\n",
       "      <td>2</td>\n",
       "      <td>guilford</td>\n",
       "      <td>Guilford County</td>\n",
       "    </tr>\n",
       "    <tr>\n",
       "      <td>1</td>\n",
       "      <td>2</td>\n",
       "      <td>county</td>\n",
       "      <td>Guilford County</td>\n",
       "    </tr>\n",
       "    <tr>\n",
       "      <td>2</td>\n",
       "      <td>2</td>\n",
       "      <td>by</td>\n",
       "      <td>Guilford County</td>\n",
       "    </tr>\n",
       "    <tr>\n",
       "      <td>3</td>\n",
       "      <td>2</td>\n",
       "      <td>the</td>\n",
       "      <td>Guilford County</td>\n",
       "    </tr>\n",
       "    <tr>\n",
       "      <td>4</td>\n",
       "      <td>2</td>\n",
       "      <td>numbers</td>\n",
       "      <td>Guilford County</td>\n",
       "    </tr>\n",
       "  </tbody>\n",
       "</table>\n",
       "</div>"
      ],
      "text/plain": [
       "   page_number      word     organization\n",
       "0            2  guilford  Guilford County\n",
       "1            2    county  Guilford County\n",
       "2            2        by  Guilford County\n",
       "3            2       the  Guilford County\n",
       "4            2   numbers  Guilford County"
      ]
     },
     "execution_count": 29,
     "metadata": {},
     "output_type": "execute_result"
    }
   ],
   "source": [
    "# delete columns using the columns parameter of drop\n",
    "data = data.drop(columns=\"Unnamed: 0\")\n",
    "\n",
    "# re-order columns\n",
    "data = data[['page_number','word','organization']]\n",
    "\n",
    "data.head()"
   ]
  },
  {
   "cell_type": "markdown",
   "metadata": {},
   "source": [
    "#### Adding \"Year\" column with a static value corresponding to the year in question"
   ]
  },
  {
   "cell_type": "code",
   "execution_count": 30,
   "metadata": {
    "scrolled": true
   },
   "outputs": [
    {
     "data": {
      "text/html": [
       "<div>\n",
       "<style scoped>\n",
       "    .dataframe tbody tr th:only-of-type {\n",
       "        vertical-align: middle;\n",
       "    }\n",
       "\n",
       "    .dataframe tbody tr th {\n",
       "        vertical-align: top;\n",
       "    }\n",
       "\n",
       "    .dataframe thead th {\n",
       "        text-align: right;\n",
       "    }\n",
       "</style>\n",
       "<table border=\"1\" class=\"dataframe\">\n",
       "  <thead>\n",
       "    <tr style=\"text-align: right;\">\n",
       "      <th></th>\n",
       "      <th>page_number</th>\n",
       "      <th>word</th>\n",
       "      <th>organization</th>\n",
       "      <th>year</th>\n",
       "    </tr>\n",
       "  </thead>\n",
       "  <tbody>\n",
       "    <tr>\n",
       "      <td>0</td>\n",
       "      <td>2</td>\n",
       "      <td>guilford</td>\n",
       "      <td>Guilford County</td>\n",
       "      <td>2019-2020</td>\n",
       "    </tr>\n",
       "    <tr>\n",
       "      <td>1</td>\n",
       "      <td>2</td>\n",
       "      <td>county</td>\n",
       "      <td>Guilford County</td>\n",
       "      <td>2019-2020</td>\n",
       "    </tr>\n",
       "    <tr>\n",
       "      <td>2</td>\n",
       "      <td>2</td>\n",
       "      <td>by</td>\n",
       "      <td>Guilford County</td>\n",
       "      <td>2019-2020</td>\n",
       "    </tr>\n",
       "    <tr>\n",
       "      <td>3</td>\n",
       "      <td>2</td>\n",
       "      <td>the</td>\n",
       "      <td>Guilford County</td>\n",
       "      <td>2019-2020</td>\n",
       "    </tr>\n",
       "    <tr>\n",
       "      <td>4</td>\n",
       "      <td>2</td>\n",
       "      <td>numbers</td>\n",
       "      <td>Guilford County</td>\n",
       "      <td>2019-2020</td>\n",
       "    </tr>\n",
       "  </tbody>\n",
       "</table>\n",
       "</div>"
      ],
      "text/plain": [
       "   page_number      word     organization       year\n",
       "0            2  guilford  Guilford County  2019-2020\n",
       "1            2    county  Guilford County  2019-2020\n",
       "2            2        by  Guilford County  2019-2020\n",
       "3            2       the  Guilford County  2019-2020\n",
       "4            2   numbers  Guilford County  2019-2020"
      ]
     },
     "execution_count": 30,
     "metadata": {},
     "output_type": "execute_result"
    }
   ],
   "source": [
    "data.insert(3, \"year\", \"2019-2020\")\n",
    "data.head()"
   ]
  },
  {
   "cell_type": "markdown",
   "metadata": {},
   "source": [
    "####  Lowercasing the words"
   ]
  },
  {
   "cell_type": "code",
   "execution_count": 31,
   "metadata": {},
   "outputs": [
    {
     "data": {
      "text/html": [
       "<div>\n",
       "<style scoped>\n",
       "    .dataframe tbody tr th:only-of-type {\n",
       "        vertical-align: middle;\n",
       "    }\n",
       "\n",
       "    .dataframe tbody tr th {\n",
       "        vertical-align: top;\n",
       "    }\n",
       "\n",
       "    .dataframe thead th {\n",
       "        text-align: right;\n",
       "    }\n",
       "</style>\n",
       "<table border=\"1\" class=\"dataframe\">\n",
       "  <thead>\n",
       "    <tr style=\"text-align: right;\">\n",
       "      <th></th>\n",
       "      <th>page_number</th>\n",
       "      <th>word</th>\n",
       "      <th>organization</th>\n",
       "      <th>year</th>\n",
       "    </tr>\n",
       "  </thead>\n",
       "  <tbody>\n",
       "    <tr>\n",
       "      <td>0</td>\n",
       "      <td>2</td>\n",
       "      <td>guilford</td>\n",
       "      <td>guilford county</td>\n",
       "      <td>2019-2020</td>\n",
       "    </tr>\n",
       "    <tr>\n",
       "      <td>1</td>\n",
       "      <td>2</td>\n",
       "      <td>county</td>\n",
       "      <td>guilford county</td>\n",
       "      <td>2019-2020</td>\n",
       "    </tr>\n",
       "    <tr>\n",
       "      <td>2</td>\n",
       "      <td>2</td>\n",
       "      <td>by</td>\n",
       "      <td>guilford county</td>\n",
       "      <td>2019-2020</td>\n",
       "    </tr>\n",
       "    <tr>\n",
       "      <td>3</td>\n",
       "      <td>2</td>\n",
       "      <td>the</td>\n",
       "      <td>guilford county</td>\n",
       "      <td>2019-2020</td>\n",
       "    </tr>\n",
       "    <tr>\n",
       "      <td>4</td>\n",
       "      <td>2</td>\n",
       "      <td>numbers</td>\n",
       "      <td>guilford county</td>\n",
       "      <td>2019-2020</td>\n",
       "    </tr>\n",
       "  </tbody>\n",
       "</table>\n",
       "</div>"
      ],
      "text/plain": [
       "   page_number      word     organization       year\n",
       "0            2  guilford  guilford county  2019-2020\n",
       "1            2    county  guilford county  2019-2020\n",
       "2            2        by  guilford county  2019-2020\n",
       "3            2       the  guilford county  2019-2020\n",
       "4            2   numbers  guilford county  2019-2020"
      ]
     },
     "execution_count": 31,
     "metadata": {},
     "output_type": "execute_result"
    }
   ],
   "source": [
    "# using a function to lowercase all text in the two cols\n",
    "data['word'] = data['word'].apply(lambda x: \" \".join(x.lower() for x in x.split()))\n",
    "data['organization'] = data['organization'].apply(lambda x: \" \".join(x.lower() for x in x.split()))\n",
    "data.head()"
   ]
  },
  {
   "cell_type": "markdown",
   "metadata": {},
   "source": [
    "#### Lemmatization"
   ]
  },
  {
   "cell_type": "code",
   "execution_count": 32,
   "metadata": {},
   "outputs": [
    {
     "data": {
      "text/html": [
       "<div>\n",
       "<style scoped>\n",
       "    .dataframe tbody tr th:only-of-type {\n",
       "        vertical-align: middle;\n",
       "    }\n",
       "\n",
       "    .dataframe tbody tr th {\n",
       "        vertical-align: top;\n",
       "    }\n",
       "\n",
       "    .dataframe thead th {\n",
       "        text-align: right;\n",
       "    }\n",
       "</style>\n",
       "<table border=\"1\" class=\"dataframe\">\n",
       "  <thead>\n",
       "    <tr style=\"text-align: right;\">\n",
       "      <th></th>\n",
       "      <th>page_number</th>\n",
       "      <th>word</th>\n",
       "      <th>organization</th>\n",
       "      <th>year</th>\n",
       "    </tr>\n",
       "  </thead>\n",
       "  <tbody>\n",
       "    <tr>\n",
       "      <td>0</td>\n",
       "      <td>2</td>\n",
       "      <td>guilford</td>\n",
       "      <td>guilford county</td>\n",
       "      <td>2019-2020</td>\n",
       "    </tr>\n",
       "    <tr>\n",
       "      <td>1</td>\n",
       "      <td>2</td>\n",
       "      <td>county</td>\n",
       "      <td>guilford county</td>\n",
       "      <td>2019-2020</td>\n",
       "    </tr>\n",
       "    <tr>\n",
       "      <td>2</td>\n",
       "      <td>2</td>\n",
       "      <td>by</td>\n",
       "      <td>guilford county</td>\n",
       "      <td>2019-2020</td>\n",
       "    </tr>\n",
       "    <tr>\n",
       "      <td>3</td>\n",
       "      <td>2</td>\n",
       "      <td>the</td>\n",
       "      <td>guilford county</td>\n",
       "      <td>2019-2020</td>\n",
       "    </tr>\n",
       "    <tr>\n",
       "      <td>4</td>\n",
       "      <td>2</td>\n",
       "      <td>numbers</td>\n",
       "      <td>guilford county</td>\n",
       "      <td>2019-2020</td>\n",
       "    </tr>\n",
       "  </tbody>\n",
       "</table>\n",
       "</div>"
      ],
      "text/plain": [
       "   page_number      word     organization       year\n",
       "0            2  guilford  guilford county  2019-2020\n",
       "1            2    county  guilford county  2019-2020\n",
       "2            2        by  guilford county  2019-2020\n",
       "3            2       the  guilford county  2019-2020\n",
       "4            2   numbers  guilford county  2019-2020"
      ]
     },
     "execution_count": 32,
     "metadata": {},
     "output_type": "execute_result"
    }
   ],
   "source": [
    "# Please enter code to lemmatize data col 'word' in the dataframe\n",
    "\n",
    "data.head()"
   ]
  },
  {
   "cell_type": "markdown",
   "metadata": {},
   "source": [
    "#### Removing stop words"
   ]
  },
  {
   "cell_type": "code",
   "execution_count": 33,
   "metadata": {
    "scrolled": true
   },
   "outputs": [
    {
     "name": "stderr",
     "output_type": "stream",
     "text": [
      "[nltk_data] Downloading package stopwords to\n",
      "[nltk_data]     C:\\Users\\Sultan\\AppData\\Roaming\\nltk_data...\n",
      "[nltk_data]   Package stopwords is already up-to-date!\n"
     ]
    },
    {
     "data": {
      "text/plain": [
       "0    guilford\n",
       "1      county\n",
       "2            \n",
       "3            \n",
       "4     numbers\n",
       "Name: word, dtype: object"
      ]
     },
     "execution_count": 33,
     "metadata": {},
     "output_type": "execute_result"
    }
   ],
   "source": [
    "# Load library\n",
    "from nltk.corpus import stopwords\n",
    "\n",
    "# Download the set of stop words the first time\n",
    "nltk.download('stopwords')\n",
    "\n",
    "# Load stop words\n",
    "stop_words = stopwords.words('english')\n",
    "\n",
    "data['word'] = data['word'].apply(lambda x: \" \".join(x for x in x.split() if x not in stop_words))\n",
    "data['word'].head()"
   ]
  },
  {
   "cell_type": "markdown",
   "metadata": {},
   "source": [
    "### 2- Organizing the Data"
   ]
  },
  {
   "cell_type": "markdown",
   "metadata": {},
   "source": [
    "We already created a corpus in an earlier step. The definition of a corpus is a collection of texts, and they are all put together neatly in a pandas dataframe here."
   ]
  },
  {
   "cell_type": "code",
   "execution_count": 34,
   "metadata": {},
   "outputs": [
    {
     "data": {
      "text/html": [
       "<div>\n",
       "<style scoped>\n",
       "    .dataframe tbody tr th:only-of-type {\n",
       "        vertical-align: middle;\n",
       "    }\n",
       "\n",
       "    .dataframe tbody tr th {\n",
       "        vertical-align: top;\n",
       "    }\n",
       "\n",
       "    .dataframe thead th {\n",
       "        text-align: right;\n",
       "    }\n",
       "</style>\n",
       "<table border=\"1\" class=\"dataframe\">\n",
       "  <thead>\n",
       "    <tr style=\"text-align: right;\">\n",
       "      <th></th>\n",
       "      <th>page_number</th>\n",
       "      <th>word</th>\n",
       "      <th>organization</th>\n",
       "      <th>year</th>\n",
       "    </tr>\n",
       "  </thead>\n",
       "  <tbody>\n",
       "    <tr>\n",
       "      <td>0</td>\n",
       "      <td>2</td>\n",
       "      <td>guilford</td>\n",
       "      <td>guilford county</td>\n",
       "      <td>2019-2020</td>\n",
       "    </tr>\n",
       "    <tr>\n",
       "      <td>1</td>\n",
       "      <td>2</td>\n",
       "      <td>county</td>\n",
       "      <td>guilford county</td>\n",
       "      <td>2019-2020</td>\n",
       "    </tr>\n",
       "    <tr>\n",
       "      <td>2</td>\n",
       "      <td>2</td>\n",
       "      <td></td>\n",
       "      <td>guilford county</td>\n",
       "      <td>2019-2020</td>\n",
       "    </tr>\n",
       "    <tr>\n",
       "      <td>3</td>\n",
       "      <td>2</td>\n",
       "      <td></td>\n",
       "      <td>guilford county</td>\n",
       "      <td>2019-2020</td>\n",
       "    </tr>\n",
       "    <tr>\n",
       "      <td>4</td>\n",
       "      <td>2</td>\n",
       "      <td>numbers</td>\n",
       "      <td>guilford county</td>\n",
       "      <td>2019-2020</td>\n",
       "    </tr>\n",
       "    <tr>\n",
       "      <td>...</td>\n",
       "      <td>...</td>\n",
       "      <td>...</td>\n",
       "      <td>...</td>\n",
       "      <td>...</td>\n",
       "    </tr>\n",
       "    <tr>\n",
       "      <td>638126</td>\n",
       "      <td>498</td>\n",
       "      <td>index</td>\n",
       "      <td>wake county</td>\n",
       "      <td>2019-2020</td>\n",
       "    </tr>\n",
       "    <tr>\n",
       "      <td>638127</td>\n",
       "      <td>498</td>\n",
       "      <td>fiscal</td>\n",
       "      <td>wake county</td>\n",
       "      <td>2019-2020</td>\n",
       "    </tr>\n",
       "    <tr>\n",
       "      <td>638128</td>\n",
       "      <td>498</td>\n",
       "      <td>year</td>\n",
       "      <td>wake county</td>\n",
       "      <td>2019-2020</td>\n",
       "    </tr>\n",
       "    <tr>\n",
       "      <td>638129</td>\n",
       "      <td>498</td>\n",
       "      <td>adopted</td>\n",
       "      <td>wake county</td>\n",
       "      <td>2019-2020</td>\n",
       "    </tr>\n",
       "    <tr>\n",
       "      <td>638130</td>\n",
       "      <td>498</td>\n",
       "      <td>budget</td>\n",
       "      <td>wake county</td>\n",
       "      <td>2019-2020</td>\n",
       "    </tr>\n",
       "  </tbody>\n",
       "</table>\n",
       "<p>638131 rows × 4 columns</p>\n",
       "</div>"
      ],
      "text/plain": [
       "        page_number      word     organization       year\n",
       "0                 2  guilford  guilford county  2019-2020\n",
       "1                 2    county  guilford county  2019-2020\n",
       "2                 2            guilford county  2019-2020\n",
       "3                 2            guilford county  2019-2020\n",
       "4                 2   numbers  guilford county  2019-2020\n",
       "...             ...       ...              ...        ...\n",
       "638126          498     index      wake county  2019-2020\n",
       "638127          498    fiscal      wake county  2019-2020\n",
       "638128          498      year      wake county  2019-2020\n",
       "638129          498   adopted      wake county  2019-2020\n",
       "638130          498    budget      wake county  2019-2020\n",
       "\n",
       "[638131 rows x 4 columns]"
      ]
     },
     "execution_count": 34,
     "metadata": {},
     "output_type": "execute_result"
    }
   ],
   "source": [
    "# Let's take a look at our dataframe\n",
    "data"
   ]
  },
  {
   "cell_type": "markdown",
   "metadata": {},
   "source": [
    "#### Dataframe to one single and clean csv file "
   ]
  },
  {
   "cell_type": "code",
   "execution_count": null,
   "metadata": {},
   "outputs": [],
   "source": [
    "# Export dataframe to csv\n",
    "data.to_csv(r\"C:\\Users\\Sultan\\Documents\\GitHub\\Budget_Text_Analysis\\util\\data\\Preprocessed_Data\\PreprocessedDataFY20.csv\", index=False, encoding='utf-8-sig')"
   ]
  },
  {
   "cell_type": "markdown",
   "metadata": {},
   "source": [
    "### Preprocessing FY19 Data"
   ]
  },
  {
   "cell_type": "markdown",
   "metadata": {},
   "source": [
    "#### Tokenization for FY19 budget documents"
   ]
  },
  {
   "cell_type": "code",
   "execution_count": 3,
   "metadata": {},
   "outputs": [
    {
     "ename": "NameError",
     "evalue": "name 'Compress' is not defined",
     "output_type": "error",
     "traceback": [
      "\u001b[1;31m---------------------------------------------------------------------------\u001b[0m",
      "\u001b[1;31mNameError\u001b[0m                                 Traceback (most recent call last)",
      "\u001b[1;32m<ipython-input-3-fa891c5aefb9>\u001b[0m in \u001b[0;36m<module>\u001b[1;34m\u001b[0m\n\u001b[0;32m      4\u001b[0m \u001b[1;32mfrom\u001b[0m \u001b[0mpylovepdf\u001b[0m\u001b[1;33m.\u001b[0m\u001b[0milovepdf\u001b[0m \u001b[1;32mimport\u001b[0m \u001b[0mILovePdf\u001b[0m\u001b[1;33m\u001b[0m\u001b[1;33m\u001b[0m\u001b[0m\n\u001b[0;32m      5\u001b[0m \u001b[1;33m\u001b[0m\u001b[0m\n\u001b[1;32m----> 6\u001b[1;33m \u001b[0mt\u001b[0m \u001b[1;33m=\u001b[0m \u001b[0mCompress\u001b[0m\u001b[1;33m(\u001b[0m\u001b[1;34m'public_key'\u001b[0m\u001b[1;33m,\u001b[0m \u001b[0mverify_ssl\u001b[0m\u001b[1;33m=\u001b[0m\u001b[1;32mTrue\u001b[0m\u001b[1;33m)\u001b[0m\u001b[1;33m\u001b[0m\u001b[1;33m\u001b[0m\u001b[0m\n\u001b[0m",
      "\u001b[1;31mNameError\u001b[0m: name 'Compress' is not defined"
     ]
    }
   ],
   "source": [
    "# Here we are compressing budget documents for to get them ready for tokenization\n",
    "# Compressing processUsing the tool created by Andrea Bruschi. For reference see https://pypi.org/project/pylovepdf/\n",
    "\n",
    "from pylovepdf.tools.compress import Compress\n",
    "\n",
    "t = Compress('public_key', verify_ssl=True)\n"
   ]
  },
  {
   "cell_type": "code",
   "execution_count": null,
   "metadata": {},
   "outputs": [],
   "source": []
  }
 ],
 "metadata": {
  "kernelspec": {
   "display_name": "Python 3",
   "language": "python",
   "name": "python3"
  },
  "language_info": {
   "codemirror_mode": {
    "name": "ipython",
    "version": 3
   },
   "file_extension": ".py",
   "mimetype": "text/x-python",
   "name": "python",
   "nbconvert_exporter": "python",
   "pygments_lexer": "ipython3",
   "version": "3.7.4"
  }
 },
 "nbformat": 4,
 "nbformat_minor": 2
}
