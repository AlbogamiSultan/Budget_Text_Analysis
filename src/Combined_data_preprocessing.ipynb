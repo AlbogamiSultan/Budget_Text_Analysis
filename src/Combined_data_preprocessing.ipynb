{
 "cells": [
  {
   "cell_type": "markdown",
   "metadata": {},
   "source": [
    "### Data Pre-Processing\n",
    "\n",
    "\n",
    "1. **Obtaining the data -** data is loaded from local machine\n",
    "\n",
    "\n",
    "2. **Cleaning the data -** preforming some text pre-processing techniques\n",
    "\n",
    "\n",
    "3. **Organizing the data -** organizing the cleaned data into a way that is easy to input into other algorithms"
   ]
  },
  {
   "cell_type": "code",
   "execution_count": 1,
   "metadata": {},
   "outputs": [],
   "source": [
    "#Importing packages\n",
    "import os\n",
    "import glob\n",
    "import nltk\n",
    "import pandas as pd\n",
    "import numpy as np"
   ]
  },
  {
   "cell_type": "markdown",
   "metadata": {},
   "source": [
    "### 1- Obtaining the data"
   ]
  },
  {
   "cell_type": "markdown",
   "metadata": {},
   "source": [
    "#### Labling Data For All Organizations"
   ]
  },
  {
   "cell_type": "code",
   "execution_count": 2,
   "metadata": {},
   "outputs": [],
   "source": [
    "# 1- For Guilford-County data \n",
    "GC_df = pd.read_csv(r'C:\\Users\\Sultan\\Documents\\GitHub\\Budget_Text_Analysis\\util\\data\\2019-2020\\structured\\original\\GuilfordCounty_original_data.csv', engine='python')\n",
    "GC_df = GC_df.drop(columns=\"Unnamed: 0\")\n",
    "# inserting column with static value in data frame \n",
    "GC_df.insert(2, \"organization\", \"Guilford County\")\n",
    "\n",
    "\n",
    "# 2- For Charlotte-City data\n",
    "CC_df = pd.read_csv(r'C:\\Users\\Sultan\\Documents\\GitHub\\Budget_Text_Analysis\\util\\data\\2019-2020\\structured\\original\\CharlotteCity_original_data.csv', engine='python')\n",
    "CC_df = CC_df.drop(columns=\"Unnamed: 0\")\n",
    "# inserting column with static value in data frame \n",
    "CC_df.insert(2, \"organization\", \"Charlotte City\")\n",
    "\n",
    "# 3- For Durham-City data\n",
    "DCity_df = pd.read_csv(r'C:\\Users\\Sultan\\Documents\\GitHub\\Budget_Text_Analysis\\util\\data\\2019-2020\\structured\\original\\DurhamCity_original_data.csv', engine='python')\n",
    "DCity_df = DCity_df.drop(columns=\"Unnamed: 0\")\n",
    "# inserting column with static value in data frame \n",
    "DCity_df.insert(2, \"organization\", \"Durham City\")\n",
    "\n",
    "# 4- For Durham-County data\n",
    "DCounty_df = pd.read_csv(r'C:\\Users\\Sultan\\Documents\\GitHub\\Budget_Text_Analysis\\util\\data\\2019-2020\\structured\\original\\DurhamCounty_original_data.csv', engine='python')\n",
    "DCounty_df = DCounty_df.drop(columns=\"Unnamed: 0\")\n",
    "# inserting column with static value in data frame \n",
    "DCounty_df.insert(2, \"organization\", \"Durham County\")\n",
    "\n",
    "# 5- For Mecklenburg-County data\n",
    "MC_df = pd.read_csv(r'C:\\Users\\Sultan\\Documents\\GitHub\\Budget_Text_Analysis\\util\\data\\2019-2020\\structured\\original\\MecklenburgCounty_original_data.csv', engine='python')\n",
    "MC_df = MC_df.drop(columns=\"Unnamed: 0\")\n",
    "# inserting column with static value in data frame \n",
    "MC_df.insert(2, \"organization\", \"Mecklenburg County\")\n",
    "\n",
    "# 6- For Raleigh-City data\n",
    "RC_df = pd.read_csv(r'C:\\Users\\Sultan\\Documents\\GitHub\\Budget_Text_Analysis\\util\\data\\2019-2020\\structured\\original\\RaleighCity_original_data.csv', engine='python')\n",
    "RC_df = RC_df.drop(columns=\"Unnamed: 0\")\n",
    "# inserting column with static value in data frame \n",
    "RC_df.insert(2, \"organization\", \"Raleigh City\")\n",
    "\n",
    "# 7- For Wake-County data\n",
    "WC_df = pd.read_csv(r'C:\\Users\\Sultan\\Documents\\GitHub\\Budget_Text_Analysis\\util\\data\\2019-2020\\structured\\original\\WakeCounty_original_data.csv', engine='python')\n",
    "WC_df = WC_df.drop(columns=\"Unnamed: 0\")\n",
    "# inserting column with static value in data frame \n",
    "WC_df.insert(2, \"organization\", \"Wake County\")"
   ]
  },
  {
   "cell_type": "markdown",
   "metadata": {},
   "source": [
    "#### Converting Data Frames into CSV Files"
   ]
  },
  {
   "cell_type": "code",
   "execution_count": 3,
   "metadata": {},
   "outputs": [],
   "source": [
    "GC_df.to_csv(r'C:\\Users\\Sultan\\Documents\\GitHub\\Budget_Text_Analysis\\util\\data\\2019-2020\\structured\\processed\\GuilfordCounty.csv')\n",
    "CC_df.to_csv(r'C:\\Users\\Sultan\\Documents\\GitHub\\Budget_Text_Analysis\\util\\data\\2019-2020\\structured\\processed\\CharlotteCity.csv')\n",
    "DCity_df.to_csv(r'C:\\Users\\Sultan\\Documents\\GitHub\\Budget_Text_Analysis\\util\\data\\2019-2020\\structured\\processed\\DurhamCity.csv')\n",
    "DCounty_df.to_csv(r'C:\\Users\\Sultan\\Documents\\GitHub\\Budget_Text_Analysis\\util\\data\\2019-2020\\structured\\processed\\DurhamCounty.csv')\n",
    "MC_df.to_csv(r'C:\\Users\\Sultan\\Documents\\GitHub\\Budget_Text_Analysis\\util\\data\\2019-2020\\structured\\processed\\MecklenburgCounty.csv')\n",
    "RC_df.to_csv(r'C:\\Users\\Sultan\\Documents\\GitHub\\Budget_Text_Analysis\\util\\data\\2019-2020\\structured\\processed\\RaleighCity.csv')\n",
    "WC_df.to_csv(r'C:\\Users\\Sultan\\Documents\\GitHub\\Budget_Text_Analysis\\util\\data\\2019-2020\\structured\\processed\\WakeCounty.csv')"
   ]
  },
  {
   "cell_type": "markdown",
   "metadata": {},
   "source": [
    "#### Setting the Working Directory to Combine Data Files"
   ]
  },
  {
   "cell_type": "code",
   "execution_count": 4,
   "metadata": {},
   "outputs": [],
   "source": [
    "os.chdir(r\"C:\\Users\\Sultan\\Documents\\GitHub\\Budget_Text_Analysis\\util\\data\\2019-2020\\structured\\processed\")"
   ]
  },
  {
   "cell_type": "markdown",
   "metadata": {},
   "source": [
    "#### Using glob to Match the Pattern ‘csv’"
   ]
  },
  {
   "cell_type": "code",
   "execution_count": 5,
   "metadata": {},
   "outputs": [],
   "source": [
    "extension = 'csv'\n",
    "all_filenames = [i for i in glob.glob('*.{}'.format(extension))]"
   ]
  },
  {
   "cell_type": "markdown",
   "metadata": {},
   "source": [
    "#### Combining All Data Files"
   ]
  },
  {
   "cell_type": "code",
   "execution_count": 6,
   "metadata": {},
   "outputs": [],
   "source": [
    "#combine all files in the list\n",
    "combined_csv = pd.concat([pd.read_csv(f) for f in all_filenames ])\n",
    "#export to csv\n",
    "combined_csv.to_csv( \"CombinedData2019-2020.csv\", index=False, encoding='utf-8-sig')"
   ]
  },
  {
   "cell_type": "code",
   "execution_count": 7,
   "metadata": {},
   "outputs": [],
   "source": [
    "#Change the dirctory back\n",
    "os.chdir(r\"C:\\Users\\Sultan\\Documents\\GitHub\\Budget_Text_Analysis\\src\")"
   ]
  },
  {
   "cell_type": "markdown",
   "metadata": {},
   "source": [
    "#### Reading Data"
   ]
  },
  {
   "cell_type": "code",
   "execution_count": 8,
   "metadata": {},
   "outputs": [],
   "source": [
    "data = pd.read_csv(r'C:\\Users\\Sultan\\Documents\\GitHub\\Budget_Text_Analysis\\util\\data\\2019-2020\\structured\\processed\\CombinedData2019-2020.csv', engine='python')"
   ]
  },
  {
   "cell_type": "markdown",
   "metadata": {},
   "source": [
    "### 2- Cleaning the Data"
   ]
  },
  {
   "cell_type": "code",
   "execution_count": 9,
   "metadata": {},
   "outputs": [
    {
     "data": {
      "text/plain": [
       "['ï»¿Unnamed: 0', 'page_number', 'word', 'organization']"
      ]
     },
     "execution_count": 9,
     "metadata": {},
     "output_type": "execute_result"
    }
   ],
   "source": [
    "# listing columns in data frame \n",
    "list(data)"
   ]
  },
  {
   "cell_type": "markdown",
   "metadata": {},
   "source": [
    "#### Dropping a Column Added Upon Combining the Data Files "
   ]
  },
  {
   "cell_type": "code",
   "execution_count": 10,
   "metadata": {},
   "outputs": [
    {
     "data": {
      "text/html": [
       "<div>\n",
       "<style scoped>\n",
       "    .dataframe tbody tr th:only-of-type {\n",
       "        vertical-align: middle;\n",
       "    }\n",
       "\n",
       "    .dataframe tbody tr th {\n",
       "        vertical-align: top;\n",
       "    }\n",
       "\n",
       "    .dataframe thead th {\n",
       "        text-align: right;\n",
       "    }\n",
       "</style>\n",
       "<table border=\"1\" class=\"dataframe\">\n",
       "  <thead>\n",
       "    <tr style=\"text-align: right;\">\n",
       "      <th></th>\n",
       "      <th>page_number</th>\n",
       "      <th>word</th>\n",
       "      <th>organization</th>\n",
       "    </tr>\n",
       "  </thead>\n",
       "  <tbody>\n",
       "    <tr>\n",
       "      <td>0</td>\n",
       "      <td>1</td>\n",
       "      <td>ensuring</td>\n",
       "      <td>Charlotte City</td>\n",
       "    </tr>\n",
       "    <tr>\n",
       "      <td>1</td>\n",
       "      <td>1</td>\n",
       "      <td>an</td>\n",
       "      <td>Charlotte City</td>\n",
       "    </tr>\n",
       "    <tr>\n",
       "      <td>2</td>\n",
       "      <td>1</td>\n",
       "      <td>equitable</td>\n",
       "      <td>Charlotte City</td>\n",
       "    </tr>\n",
       "    <tr>\n",
       "      <td>3</td>\n",
       "      <td>1</td>\n",
       "      <td>sustainable</td>\n",
       "      <td>Charlotte City</td>\n",
       "    </tr>\n",
       "    <tr>\n",
       "      <td>4</td>\n",
       "      <td>1</td>\n",
       "      <td>and</td>\n",
       "      <td>Charlotte City</td>\n",
       "    </tr>\n",
       "  </tbody>\n",
       "</table>\n",
       "</div>"
      ],
      "text/plain": [
       "   page_number         word    organization\n",
       "0            1     ensuring  Charlotte City\n",
       "1            1           an  Charlotte City\n",
       "2            1    equitable  Charlotte City\n",
       "3            1  sustainable  Charlotte City\n",
       "4            1          and  Charlotte City"
      ]
     },
     "execution_count": 10,
     "metadata": {},
     "output_type": "execute_result"
    }
   ],
   "source": [
    "# alternatively, delete columns using the columns parameter of drop\n",
    "data = data.drop(columns=\"ï»¿Unnamed: 0\")\n",
    "data.head()"
   ]
  },
  {
   "cell_type": "markdown",
   "metadata": {},
   "source": [
    "#### Adding Year Colunm With A Static Value = 2019-2020"
   ]
  },
  {
   "cell_type": "code",
   "execution_count": 11,
   "metadata": {
    "scrolled": true
   },
   "outputs": [
    {
     "data": {
      "text/html": [
       "<div>\n",
       "<style scoped>\n",
       "    .dataframe tbody tr th:only-of-type {\n",
       "        vertical-align: middle;\n",
       "    }\n",
       "\n",
       "    .dataframe tbody tr th {\n",
       "        vertical-align: top;\n",
       "    }\n",
       "\n",
       "    .dataframe thead th {\n",
       "        text-align: right;\n",
       "    }\n",
       "</style>\n",
       "<table border=\"1\" class=\"dataframe\">\n",
       "  <thead>\n",
       "    <tr style=\"text-align: right;\">\n",
       "      <th></th>\n",
       "      <th>page_number</th>\n",
       "      <th>word</th>\n",
       "      <th>organization</th>\n",
       "      <th>year</th>\n",
       "    </tr>\n",
       "  </thead>\n",
       "  <tbody>\n",
       "    <tr>\n",
       "      <td>0</td>\n",
       "      <td>1</td>\n",
       "      <td>ensuring</td>\n",
       "      <td>Charlotte City</td>\n",
       "      <td>2019-2020</td>\n",
       "    </tr>\n",
       "    <tr>\n",
       "      <td>1</td>\n",
       "      <td>1</td>\n",
       "      <td>an</td>\n",
       "      <td>Charlotte City</td>\n",
       "      <td>2019-2020</td>\n",
       "    </tr>\n",
       "    <tr>\n",
       "      <td>2</td>\n",
       "      <td>1</td>\n",
       "      <td>equitable</td>\n",
       "      <td>Charlotte City</td>\n",
       "      <td>2019-2020</td>\n",
       "    </tr>\n",
       "    <tr>\n",
       "      <td>3</td>\n",
       "      <td>1</td>\n",
       "      <td>sustainable</td>\n",
       "      <td>Charlotte City</td>\n",
       "      <td>2019-2020</td>\n",
       "    </tr>\n",
       "    <tr>\n",
       "      <td>4</td>\n",
       "      <td>1</td>\n",
       "      <td>and</td>\n",
       "      <td>Charlotte City</td>\n",
       "      <td>2019-2020</td>\n",
       "    </tr>\n",
       "  </tbody>\n",
       "</table>\n",
       "</div>"
      ],
      "text/plain": [
       "   page_number         word    organization       year\n",
       "0            1     ensuring  Charlotte City  2019-2020\n",
       "1            1           an  Charlotte City  2019-2020\n",
       "2            1    equitable  Charlotte City  2019-2020\n",
       "3            1  sustainable  Charlotte City  2019-2020\n",
       "4            1          and  Charlotte City  2019-2020"
      ]
     },
     "execution_count": 11,
     "metadata": {},
     "output_type": "execute_result"
    }
   ],
   "source": [
    "data.insert(3, \"year\", \"2019-2020\")\n",
    "data.head()"
   ]
  },
  {
   "cell_type": "markdown",
   "metadata": {},
   "source": [
    "####  Lower casing the words"
   ]
  },
  {
   "cell_type": "code",
   "execution_count": 19,
   "metadata": {},
   "outputs": [
    {
     "data": {
      "text/html": [
       "<div>\n",
       "<style scoped>\n",
       "    .dataframe tbody tr th:only-of-type {\n",
       "        vertical-align: middle;\n",
       "    }\n",
       "\n",
       "    .dataframe tbody tr th {\n",
       "        vertical-align: top;\n",
       "    }\n",
       "\n",
       "    .dataframe thead th {\n",
       "        text-align: right;\n",
       "    }\n",
       "</style>\n",
       "<table border=\"1\" class=\"dataframe\">\n",
       "  <thead>\n",
       "    <tr style=\"text-align: right;\">\n",
       "      <th></th>\n",
       "      <th>page_number</th>\n",
       "      <th>word</th>\n",
       "      <th>organization</th>\n",
       "      <th>year</th>\n",
       "    </tr>\n",
       "  </thead>\n",
       "  <tbody>\n",
       "    <tr>\n",
       "      <td>0</td>\n",
       "      <td>1</td>\n",
       "      <td>ensuring</td>\n",
       "      <td>charlotte city</td>\n",
       "      <td>2019-2020</td>\n",
       "    </tr>\n",
       "    <tr>\n",
       "      <td>1</td>\n",
       "      <td>1</td>\n",
       "      <td></td>\n",
       "      <td>charlotte city</td>\n",
       "      <td>2019-2020</td>\n",
       "    </tr>\n",
       "    <tr>\n",
       "      <td>2</td>\n",
       "      <td>1</td>\n",
       "      <td>equitable</td>\n",
       "      <td>charlotte city</td>\n",
       "      <td>2019-2020</td>\n",
       "    </tr>\n",
       "    <tr>\n",
       "      <td>3</td>\n",
       "      <td>1</td>\n",
       "      <td>sustainable</td>\n",
       "      <td>charlotte city</td>\n",
       "      <td>2019-2020</td>\n",
       "    </tr>\n",
       "    <tr>\n",
       "      <td>4</td>\n",
       "      <td>1</td>\n",
       "      <td></td>\n",
       "      <td>charlotte city</td>\n",
       "      <td>2019-2020</td>\n",
       "    </tr>\n",
       "  </tbody>\n",
       "</table>\n",
       "</div>"
      ],
      "text/plain": [
       "   page_number         word    organization       year\n",
       "0            1     ensuring  charlotte city  2019-2020\n",
       "1            1               charlotte city  2019-2020\n",
       "2            1    equitable  charlotte city  2019-2020\n",
       "3            1  sustainable  charlotte city  2019-2020\n",
       "4            1               charlotte city  2019-2020"
      ]
     },
     "execution_count": 19,
     "metadata": {},
     "output_type": "execute_result"
    }
   ],
   "source": [
    "data['word'] = data['word'].apply(lambda x: \" \".join(x.lower() for x in x.split()))\n",
    "data['organization'] = data['organization'].apply(lambda x: \" \".join(x.lower() for x in x.split()))\n",
    "data.head()"
   ]
  },
  {
   "cell_type": "markdown",
   "metadata": {},
   "source": [
    "#### Lemmatization"
   ]
  },
  {
   "cell_type": "code",
   "execution_count": 13,
   "metadata": {},
   "outputs": [
    {
     "data": {
      "text/html": [
       "<div>\n",
       "<style scoped>\n",
       "    .dataframe tbody tr th:only-of-type {\n",
       "        vertical-align: middle;\n",
       "    }\n",
       "\n",
       "    .dataframe tbody tr th {\n",
       "        vertical-align: top;\n",
       "    }\n",
       "\n",
       "    .dataframe thead th {\n",
       "        text-align: right;\n",
       "    }\n",
       "</style>\n",
       "<table border=\"1\" class=\"dataframe\">\n",
       "  <thead>\n",
       "    <tr style=\"text-align: right;\">\n",
       "      <th></th>\n",
       "      <th>page_number</th>\n",
       "      <th>word</th>\n",
       "      <th>organization</th>\n",
       "      <th>year</th>\n",
       "    </tr>\n",
       "  </thead>\n",
       "  <tbody>\n",
       "    <tr>\n",
       "      <td>0</td>\n",
       "      <td>1</td>\n",
       "      <td>ensuring</td>\n",
       "      <td>Charlotte City</td>\n",
       "      <td>2019-2020</td>\n",
       "    </tr>\n",
       "    <tr>\n",
       "      <td>1</td>\n",
       "      <td>1</td>\n",
       "      <td>an</td>\n",
       "      <td>Charlotte City</td>\n",
       "      <td>2019-2020</td>\n",
       "    </tr>\n",
       "    <tr>\n",
       "      <td>2</td>\n",
       "      <td>1</td>\n",
       "      <td>equitable</td>\n",
       "      <td>Charlotte City</td>\n",
       "      <td>2019-2020</td>\n",
       "    </tr>\n",
       "    <tr>\n",
       "      <td>3</td>\n",
       "      <td>1</td>\n",
       "      <td>sustainable</td>\n",
       "      <td>Charlotte City</td>\n",
       "      <td>2019-2020</td>\n",
       "    </tr>\n",
       "    <tr>\n",
       "      <td>4</td>\n",
       "      <td>1</td>\n",
       "      <td>and</td>\n",
       "      <td>Charlotte City</td>\n",
       "      <td>2019-2020</td>\n",
       "    </tr>\n",
       "  </tbody>\n",
       "</table>\n",
       "</div>"
      ],
      "text/plain": [
       "   page_number         word    organization       year\n",
       "0            1     ensuring  Charlotte City  2019-2020\n",
       "1            1           an  Charlotte City  2019-2020\n",
       "2            1    equitable  Charlotte City  2019-2020\n",
       "3            1  sustainable  Charlotte City  2019-2020\n",
       "4            1          and  Charlotte City  2019-2020"
      ]
     },
     "execution_count": 13,
     "metadata": {},
     "output_type": "execute_result"
    }
   ],
   "source": [
    "from textblob import Word\n",
    "data['word'] = data['word'].apply(lambda x: \" \".join([Word(x).lemmatize() for x in x.split()]))\n",
    "\n",
    "data.head()"
   ]
  },
  {
   "cell_type": "markdown",
   "metadata": {},
   "source": [
    "#### Removing stop words"
   ]
  },
  {
   "cell_type": "code",
   "execution_count": 17,
   "metadata": {
    "scrolled": true
   },
   "outputs": [
    {
     "data": {
      "text/plain": [
       "0       ensuring\n",
       "1               \n",
       "2      equitable\n",
       "3    sustainable\n",
       "4               \n",
       "Name: word, dtype: object"
      ]
     },
     "execution_count": 17,
     "metadata": {},
     "output_type": "execute_result"
    }
   ],
   "source": [
    "# Load library\n",
    "from nltk.corpus import stopwords\n",
    "\n",
    "# Download the set of stop words the first time\n",
    "nltk.download('stopwords')\n",
    "\n",
    "# Load stop words\n",
    "stop_words = stopwords.words('english')\n",
    "\n",
    "data['word'] = data['word'].apply(lambda x: \" \".join(x for x in x.split() if x not in stop_words))\n",
    "data['word'].head()"
   ]
  },
  {
   "cell_type": "markdown",
   "metadata": {},
   "source": [
    "### 2- Organizing the Data"
   ]
  },
  {
   "cell_type": "markdown",
   "metadata": {},
   "source": [
    "We already created a corpus in an earlier step. The definition of a corpus is a collection of texts, and they are all put together neatly in a pandas dataframe here."
   ]
  },
  {
   "cell_type": "code",
   "execution_count": 20,
   "metadata": {},
   "outputs": [
    {
     "data": {
      "text/html": [
       "<div>\n",
       "<style scoped>\n",
       "    .dataframe tbody tr th:only-of-type {\n",
       "        vertical-align: middle;\n",
       "    }\n",
       "\n",
       "    .dataframe tbody tr th {\n",
       "        vertical-align: top;\n",
       "    }\n",
       "\n",
       "    .dataframe thead th {\n",
       "        text-align: right;\n",
       "    }\n",
       "</style>\n",
       "<table border=\"1\" class=\"dataframe\">\n",
       "  <thead>\n",
       "    <tr style=\"text-align: right;\">\n",
       "      <th></th>\n",
       "      <th>page_number</th>\n",
       "      <th>word</th>\n",
       "      <th>organization</th>\n",
       "      <th>year</th>\n",
       "    </tr>\n",
       "  </thead>\n",
       "  <tbody>\n",
       "    <tr>\n",
       "      <td>0</td>\n",
       "      <td>1</td>\n",
       "      <td>ensuring</td>\n",
       "      <td>charlotte city</td>\n",
       "      <td>2019-2020</td>\n",
       "    </tr>\n",
       "    <tr>\n",
       "      <td>1</td>\n",
       "      <td>1</td>\n",
       "      <td></td>\n",
       "      <td>charlotte city</td>\n",
       "      <td>2019-2020</td>\n",
       "    </tr>\n",
       "    <tr>\n",
       "      <td>2</td>\n",
       "      <td>1</td>\n",
       "      <td>equitable</td>\n",
       "      <td>charlotte city</td>\n",
       "      <td>2019-2020</td>\n",
       "    </tr>\n",
       "    <tr>\n",
       "      <td>3</td>\n",
       "      <td>1</td>\n",
       "      <td>sustainable</td>\n",
       "      <td>charlotte city</td>\n",
       "      <td>2019-2020</td>\n",
       "    </tr>\n",
       "    <tr>\n",
       "      <td>4</td>\n",
       "      <td>1</td>\n",
       "      <td></td>\n",
       "      <td>charlotte city</td>\n",
       "      <td>2019-2020</td>\n",
       "    </tr>\n",
       "    <tr>\n",
       "      <td>...</td>\n",
       "      <td>...</td>\n",
       "      <td>...</td>\n",
       "      <td>...</td>\n",
       "      <td>...</td>\n",
       "    </tr>\n",
       "    <tr>\n",
       "      <td>2552519</td>\n",
       "      <td>498</td>\n",
       "      <td>index</td>\n",
       "      <td>wake county</td>\n",
       "      <td>2019-2020</td>\n",
       "    </tr>\n",
       "    <tr>\n",
       "      <td>2552520</td>\n",
       "      <td>498</td>\n",
       "      <td>fiscal</td>\n",
       "      <td>wake county</td>\n",
       "      <td>2019-2020</td>\n",
       "    </tr>\n",
       "    <tr>\n",
       "      <td>2552521</td>\n",
       "      <td>498</td>\n",
       "      <td>year</td>\n",
       "      <td>wake county</td>\n",
       "      <td>2019-2020</td>\n",
       "    </tr>\n",
       "    <tr>\n",
       "      <td>2552522</td>\n",
       "      <td>498</td>\n",
       "      <td>adopted</td>\n",
       "      <td>wake county</td>\n",
       "      <td>2019-2020</td>\n",
       "    </tr>\n",
       "    <tr>\n",
       "      <td>2552523</td>\n",
       "      <td>498</td>\n",
       "      <td>budget</td>\n",
       "      <td>wake county</td>\n",
       "      <td>2019-2020</td>\n",
       "    </tr>\n",
       "  </tbody>\n",
       "</table>\n",
       "<p>2552524 rows × 4 columns</p>\n",
       "</div>"
      ],
      "text/plain": [
       "         page_number         word    organization       year\n",
       "0                  1     ensuring  charlotte city  2019-2020\n",
       "1                  1               charlotte city  2019-2020\n",
       "2                  1    equitable  charlotte city  2019-2020\n",
       "3                  1  sustainable  charlotte city  2019-2020\n",
       "4                  1               charlotte city  2019-2020\n",
       "...              ...          ...             ...        ...\n",
       "2552519          498        index     wake county  2019-2020\n",
       "2552520          498       fiscal     wake county  2019-2020\n",
       "2552521          498         year     wake county  2019-2020\n",
       "2552522          498      adopted     wake county  2019-2020\n",
       "2552523          498       budget     wake county  2019-2020\n",
       "\n",
       "[2552524 rows x 4 columns]"
      ]
     },
     "execution_count": 20,
     "metadata": {},
     "output_type": "execute_result"
    }
   ],
   "source": [
    "# Let's take a look at our dataframe\n",
    "data"
   ]
  },
  {
   "cell_type": "code",
   "execution_count": 21,
   "metadata": {},
   "outputs": [],
   "source": [
    "# Pickle it for later use\n",
    "data.to_pickle(\"corpus.pkl\")"
   ]
  }
 ],
 "metadata": {
  "kernelspec": {
   "display_name": "Python 3",
   "language": "python",
   "name": "python3"
  },
  "language_info": {
   "codemirror_mode": {
    "name": "ipython",
    "version": 3
   },
   "file_extension": ".py",
   "mimetype": "text/x-python",
   "name": "python",
   "nbconvert_exporter": "python",
   "pygments_lexer": "ipython3",
   "version": "3.7.4"
  }
 },
 "nbformat": 4,
 "nbformat_minor": 2
}
