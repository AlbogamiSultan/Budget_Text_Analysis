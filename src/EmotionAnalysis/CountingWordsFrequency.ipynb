{
 "cells": [
  {
   "cell_type": "code",
   "execution_count": 1,
   "metadata": {},
   "outputs": [
    {
     "name": "stderr",
     "output_type": "stream",
     "text": [
      "[nltk_data] Downloading package punkt to\n",
      "[nltk_data]     C:\\Users\\webfr\\AppData\\Roaming\\nltk_data...\n",
      "[nltk_data]   Package punkt is already up-to-date!\n"
     ]
    },
    {
     "data": {
      "text/plain": [
       "True"
      ]
     },
     "execution_count": 1,
     "metadata": {},
     "output_type": "execute_result"
    }
   ],
   "source": [
    "import pandas as pd\n",
    "import numpy as np\n",
    "import nltk\n",
    "nltk.download('punkt')"
   ]
  },
  {
   "cell_type": "code",
   "execution_count": 10,
   "metadata": {},
   "outputs": [],
   "source": [
    "GCE = pd.read_csv(r\"C:\\Users\\webfr\\Desktop\\DataScienceProject\\GuilfordCounty_emotion_data.csv\")\n",
    "GCE.drop(['Unnamed: 0'], axis=1,inplace=True)\n"
   ]
  },
  {
   "cell_type": "code",
   "execution_count": 11,
   "metadata": {},
   "outputs": [
    {
     "name": "stdout",
     "output_type": "stream",
     "text": [
      "      Word  Frequency\n",
      "0   County        353\n",
      "1   Public        330\n",
      "2  General        288\n",
      "3   Budget        274\n"
     ]
    }
   ],
   "source": [
    "\n",
    "top_freq_num = 4\n",
    "a = GCE['word'].str.cat(sep=' ')\n",
    "words = nltk.tokenize.word_tokenize(a)\n",
    "word_freq = nltk.FreqDist(words)\n",
    "freq_result = pd.DataFrame(word_freq.most_common(top_freq_num),\n",
    "                    columns=['Word', 'Frequency'])\n",
    "print(freq_result)"
   ]
  },
  {
   "cell_type": "code",
   "execution_count": 12,
   "metadata": {},
   "outputs": [],
   "source": [
    "CCE = pd.read_csv(r\"C:\\Users\\webfr\\Desktop\\DataScienceProject\\CharlotteCity_emotion_data.csv\")\n",
    "CCE.drop(['Unnamed: 0'], axis=1,inplace=True)"
   ]
  },
  {
   "cell_type": "code",
   "execution_count": 13,
   "metadata": {},
   "outputs": [
    {
     "name": "stdout",
     "output_type": "stream",
     "text": [
      "         Word  Frequency\n",
      "0    Planning        468\n",
      "1     Council        420\n",
      "2         Pay        344\n",
      "3  Retirement        336\n",
      "4     General        318\n",
      "5      Public        304\n",
      "6     Provide        284\n",
      "7      Budget        251\n",
      "8     Improve        232\n",
      "9         Art        205\n"
     ]
    }
   ],
   "source": [
    "top_freq_num = 10\n",
    "a = CCE['word'].str.cat(sep=' ')\n",
    "words = nltk.tokenize.word_tokenize(a)\n",
    "word_freq = nltk.FreqDist(words)\n",
    "freq_result = pd.DataFrame(word_freq.most_common(top_freq_num),\n",
    "                    columns=['Word', 'Frequency'])\n",
    "print(freq_result)"
   ]
  },
  {
   "cell_type": "code",
   "execution_count": 14,
   "metadata": {},
   "outputs": [],
   "source": [
    "RCE = pd.read_csv(r\"C:\\Users\\webfr\\Desktop\\DataScienceProject\\RaleighCity_emotion_data.csv\")\n",
    "RCE.drop(['Unnamed: 0'], axis=1,inplace=True)"
   ]
  },
  {
   "cell_type": "code",
   "execution_count": 15,
   "metadata": {},
   "outputs": [
    {
     "name": "stdout",
     "output_type": "stream",
     "text": [
      "        Word  Frequency\n",
      "0  Resources        288\n",
      "1    Council        225\n",
      "2     Public        220\n",
      "3    General        216\n"
     ]
    }
   ],
   "source": [
    "top_freq_num = 4\n",
    "a = RCE['word'].str.cat(sep=' ')\n",
    "words = nltk.tokenize.word_tokenize(a)\n",
    "word_freq = nltk.FreqDist(words)\n",
    "freq_result = pd.DataFrame(word_freq.most_common(top_freq_num),\n",
    "                    columns=['Word', 'Frequency'])\n",
    "print(freq_result)"
   ]
  },
  {
   "cell_type": "code",
   "execution_count": 16,
   "metadata": {},
   "outputs": [],
   "source": [
    "DCE = pd.read_csv(r\"C:\\Users\\webfr\\Desktop\\DataScienceProject\\DurhamCity_emotion_data.csv\")\n",
    "DCE.drop(['Unnamed: 0'], axis=1,inplace=True)"
   ]
  },
  {
   "cell_type": "code",
   "execution_count": 17,
   "metadata": {},
   "outputs": [
    {
     "name": "stdout",
     "output_type": "stream",
     "text": [
      "       Word  Frequency\n",
      "0    Public        268\n",
      "1   General        262\n",
      "2    Income        258\n",
      "3  Planning        249\n"
     ]
    }
   ],
   "source": [
    "top_freq_num = 4\n",
    "a = DCE['word'].str.cat(sep=' ')\n",
    "words = nltk.tokenize.word_tokenize(a)\n",
    "word_freq = nltk.FreqDist(words)\n",
    "freq_result = pd.DataFrame(word_freq.most_common(top_freq_num),\n",
    "                    columns=['Word', 'Frequency'])\n",
    "print(freq_result)"
   ]
  },
  {
   "cell_type": "code",
   "execution_count": 18,
   "metadata": {},
   "outputs": [],
   "source": [
    "DCNTE = pd.read_csv(r\"C:\\Users\\webfr\\Desktop\\DataScienceProject\\DurhamCounty_emotion_data.csv\")\n",
    "DCNTE.drop(['Unnamed: 0'], axis=1,inplace=True)"
   ]
  },
  {
   "cell_type": "code",
   "execution_count": 19,
   "metadata": {},
   "outputs": [
    {
     "name": "stdout",
     "output_type": "stream",
     "text": [
      "     Word  Frequency\n",
      "0   Youth        264\n",
      "1  Public        252\n",
      "2  Income        252\n",
      "3  County        240\n"
     ]
    }
   ],
   "source": [
    "top_freq_num = 4\n",
    "a = DCNTE['word'].str.cat(sep=' ')\n",
    "words = nltk.tokenize.word_tokenize(a)\n",
    "word_freq = nltk.FreqDist(words)\n",
    "freq_result = pd.DataFrame(word_freq.most_common(top_freq_num),\n",
    "                    columns=['Word', 'Frequency'])\n",
    "print(freq_result)"
   ]
  },
  {
   "cell_type": "code",
   "execution_count": 20,
   "metadata": {},
   "outputs": [],
   "source": [
    "MCE = pd.read_csv(r\"C:\\Users\\webfr\\Desktop\\DataScienceProject\\MecklenburgCounty_emotion_data.csv\")\n",
    "MCE.drop(['Unnamed: 0'], axis=1,inplace=True)"
   ]
  },
  {
   "cell_type": "code",
   "execution_count": 21,
   "metadata": {},
   "outputs": [
    {
     "name": "stdout",
     "output_type": "stream",
     "text": [
      "     Word  Frequency\n",
      "0  Budget        529\n",
      "1  County        529\n",
      "2   Count        510\n",
      "3  Rating        416\n"
     ]
    }
   ],
   "source": [
    "top_freq_num = 4\n",
    "a = MCE['word'].str.cat(sep=' ')\n",
    "words = nltk.tokenize.word_tokenize(a)\n",
    "word_freq = nltk.FreqDist(words)\n",
    "freq_result = pd.DataFrame(word_freq.most_common(top_freq_num),\n",
    "                    columns=['Word', 'Frequency'])\n",
    "print(freq_result)"
   ]
  },
  {
   "cell_type": "code",
   "execution_count": 22,
   "metadata": {},
   "outputs": [],
   "source": [
    "WCE = pd.read_csv(r\"C:\\Users\\webfr\\Desktop\\DataScienceProject\\WakeCounty_emotion_data.csv\")\n",
    "WCE.drop(['Unnamed: 0'], axis=1,inplace=True)"
   ]
  },
  {
   "cell_type": "code",
   "execution_count": 23,
   "metadata": {},
   "outputs": [
    {
     "name": "stdout",
     "output_type": "stream",
     "text": [
      "      Word  Frequency\n",
      "0   Budget        497\n",
      "1   Public        450\n",
      "2  General        408\n",
      "3   County        378\n"
     ]
    }
   ],
   "source": [
    "top_freq_num = 4\n",
    "a = WCE['word'].str.cat(sep=' ')\n",
    "words = nltk.tokenize.word_tokenize(a)\n",
    "word_freq = nltk.FreqDist(words)\n",
    "freq_result = pd.DataFrame(word_freq.most_common(top_freq_num),\n",
    "                    columns=['Word', 'Frequency'])\n",
    "print(freq_result)"
   ]
  },
  {
   "cell_type": "code",
   "execution_count": 37,
   "metadata": {},
   "outputs": [
    {
     "name": "stdout",
     "output_type": "stream",
     "text": [
      "      Sentiment  Frequency\n",
      "0      Positive       7318\n",
      "1         Trust       5058\n",
      "2  Anticipation       2547\n",
      "3      Negative       1932\n",
      "4           Joy       1412\n",
      "5          Fear       1058\n",
      "6       Sadness        799\n",
      "7         Anger        498\n",
      "8      Surprise        436\n",
      "9       Disgust        331\n"
     ]
    }
   ],
   "source": [
    "top_freq_num = 10\n",
    "a = WCE['sentiment'].str.cat(sep=' ')\n",
    "words = nltk.tokenize.word_tokenize(a)\n",
    "word_freq = nltk.FreqDist(words)\n",
    "freq_result = pd.DataFrame(word_freq.most_common(top_freq_num),\n",
    "                    columns=['Sentiment', 'Frequency'])\n",
    "print(freq_result)"
   ]
  },
  {
   "cell_type": "code",
   "execution_count": 36,
   "metadata": {},
   "outputs": [
    {
     "name": "stdout",
     "output_type": "stream",
     "text": [
      "      Sentiment  Frequency\n",
      "0      Positive       4912\n",
      "1         Trust       4134\n",
      "2      Negative       1540\n",
      "3  Anticipation       1539\n",
      "4          Fear       1030\n",
      "5           Joy        893\n",
      "6       Sadness        631\n",
      "7         Anger        502\n",
      "8      Surprise        255\n",
      "9       Disgust        224\n"
     ]
    }
   ],
   "source": [
    "top_freq_num = 10\n",
    "a = MCE['sentiment'].str.cat(sep=' ')\n",
    "words = nltk.tokenize.word_tokenize(a)\n",
    "word_freq = nltk.FreqDist(words)\n",
    "freq_result = pd.DataFrame(word_freq.most_common(top_freq_num),\n",
    "                    columns=['Sentiment', 'Frequency'])\n",
    "print(freq_result)"
   ]
  },
  {
   "cell_type": "code",
   "execution_count": 35,
   "metadata": {},
   "outputs": [
    {
     "name": "stdout",
     "output_type": "stream",
     "text": [
      "      Sentiment  Frequency\n",
      "0      Positive       5557\n",
      "1         Trust       3696\n",
      "2  Anticipation       1993\n",
      "3      Negative       1546\n",
      "4           Joy       1189\n",
      "5          Fear        930\n",
      "6       Sadness        657\n",
      "7         Anger        480\n",
      "8      Surprise        397\n",
      "9       Disgust        258\n"
     ]
    }
   ],
   "source": [
    "top_freq_num = 10\n",
    "a = DCNTE['sentiment'].str.cat(sep=' ')\n",
    "words = nltk.tokenize.word_tokenize(a)\n",
    "word_freq = nltk.FreqDist(words)\n",
    "freq_result = pd.DataFrame(word_freq.most_common(top_freq_num),\n",
    "                    columns=['Sentiment', 'Frequency'])\n",
    "print(freq_result)"
   ]
  },
  {
   "cell_type": "code",
   "execution_count": 34,
   "metadata": {},
   "outputs": [
    {
     "name": "stdout",
     "output_type": "stream",
     "text": [
      "      Sentiment  Frequency\n",
      "0      Positive       5492\n",
      "1         Trust       3394\n",
      "2  Anticipation       1945\n",
      "3      Negative       1312\n",
      "4           Joy       1113\n",
      "5          Fear        714\n",
      "6       Sadness        452\n",
      "7         Anger        384\n",
      "8      Surprise        349\n",
      "9       Disgust        255\n"
     ]
    }
   ],
   "source": [
    "top_freq_num = 10\n",
    "a = DCE['sentiment'].str.cat(sep=' ')\n",
    "words = nltk.tokenize.word_tokenize(a)\n",
    "word_freq = nltk.FreqDist(words)\n",
    "freq_result = pd.DataFrame(word_freq.most_common(top_freq_num),\n",
    "                    columns=['Sentiment', 'Frequency'])\n",
    "print(freq_result)"
   ]
  },
  {
   "cell_type": "code",
   "execution_count": 33,
   "metadata": {},
   "outputs": [
    {
     "name": "stdout",
     "output_type": "stream",
     "text": [
      "      Sentiment  Frequency\n",
      "0      Positive       3992\n",
      "1         Trust       2697\n",
      "2  Anticipation       1296\n",
      "3      Negative        905\n",
      "4           Joy        896\n",
      "5          Fear        514\n",
      "6       Sadness        363\n",
      "7         Anger        271\n",
      "8      Surprise        260\n",
      "9       Disgust        216\n"
     ]
    }
   ],
   "source": [
    "top_freq_num = 10\n",
    "a = RCE['sentiment'].str.cat(sep=' ')\n",
    "words = nltk.tokenize.word_tokenize(a)\n",
    "word_freq = nltk.FreqDist(words)\n",
    "freq_result = pd.DataFrame(word_freq.most_common(top_freq_num),\n",
    "                    columns=['Sentiment', 'Frequency'])\n",
    "print(freq_result)"
   ]
  },
  {
   "cell_type": "code",
   "execution_count": 32,
   "metadata": {},
   "outputs": [
    {
     "name": "stdout",
     "output_type": "stream",
     "text": [
      "      Sentiment  Frequency\n",
      "0      Positive       5994\n",
      "1         Trust       4016\n",
      "2  Anticipation       2303\n",
      "3      Negative       1293\n",
      "4           Joy       1147\n",
      "5          Fear        837\n",
      "6       Sadness        528\n",
      "7         Anger        391\n",
      "8      Surprise        320\n",
      "9       Disgust        181\n"
     ]
    }
   ],
   "source": [
    "top_freq_num = 10\n",
    "a = CCE['sentiment'].str.cat(sep=' ')\n",
    "words = nltk.tokenize.word_tokenize(a)\n",
    "word_freq = nltk.FreqDist(words)\n",
    "freq_result = pd.DataFrame(word_freq.most_common(top_freq_num),\n",
    "                    columns=['Sentiment', 'Frequency'])\n",
    "print(freq_result)"
   ]
  },
  {
   "cell_type": "code",
   "execution_count": 38,
   "metadata": {},
   "outputs": [
    {
     "name": "stdout",
     "output_type": "stream",
     "text": [
      "      Sentiment  Frequency\n",
      "0      Positive       5729\n",
      "1         Trust       4051\n",
      "2  Anticipation       2043\n",
      "3      Negative       1728\n",
      "4           Joy       1066\n",
      "5          Fear        930\n",
      "6       Sadness        659\n",
      "7         Anger        459\n",
      "8      Surprise        367\n",
      "9       Disgust        306\n"
     ]
    }
   ],
   "source": [
    "top_freq_num = 10\n",
    "a = GCE['sentiment'].str.cat(sep=' ')\n",
    "words = nltk.tokenize.word_tokenize(a)\n",
    "word_freq = nltk.FreqDist(words)\n",
    "freq_result = pd.DataFrame(word_freq.most_common(top_freq_num),\n",
    "                    columns=['Sentiment', 'Frequency'])\n",
    "print(freq_result)"
   ]
  },
  {
   "cell_type": "code",
   "execution_count": null,
   "metadata": {},
   "outputs": [],
   "source": []
  }
 ],
 "metadata": {
  "kernelspec": {
   "display_name": "Python 3",
   "language": "python",
   "name": "python3"
  },
  "language_info": {
   "codemirror_mode": {
    "name": "ipython",
    "version": 3
   },
   "file_extension": ".py",
   "mimetype": "text/x-python",
   "name": "python",
   "nbconvert_exporter": "python",
   "pygments_lexer": "ipython3",
   "version": "3.7.3"
  }
 },
 "nbformat": 4,
 "nbformat_minor": 2
}
