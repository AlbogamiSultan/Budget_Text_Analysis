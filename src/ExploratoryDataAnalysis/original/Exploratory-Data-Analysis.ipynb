{
 "cells": [
  {
   "cell_type": "markdown",
   "metadata": {},
   "source": [
    "## Exploratory Data Analysis"
   ]
  },
  {
   "cell_type": "markdown",
   "metadata": {},
   "source": [
    "### 1. Reading the data and some cleaning"
   ]
  },
  {
   "cell_type": "code",
   "execution_count": 37,
   "metadata": {},
   "outputs": [],
   "source": [
    "#Importing packages\n",
    "import os\n",
    "import glob\n",
    "import nltk\n",
    "import pandas as pd\n",
    "import numpy as np\n",
    "import matplotlib.pyplot as plt"
   ]
  },
  {
   "cell_type": "code",
   "execution_count": 9,
   "metadata": {},
   "outputs": [],
   "source": [
    "# Change the dirctory for pickle file to be read\n",
    "os.chdir(r\"C:\\Users\\Sultan\\Documents\\GitHub\\Budget_Text_Analysis\\util\\data\\PreprocessedOriginalData\") \n"
   ]
  },
  {
   "cell_type": "code",
   "execution_count": 23,
   "metadata": {},
   "outputs": [],
   "source": [
    "# Read the data file\n",
    "data = pd.read_csv(r'PreprocessedOriginalDataAll.csv', engine='python')"
   ]
  },
  {
   "cell_type": "code",
   "execution_count": 24,
   "metadata": {},
   "outputs": [
    {
     "data": {
      "text/html": [
       "<div>\n",
       "<style scoped>\n",
       "    .dataframe tbody tr th:only-of-type {\n",
       "        vertical-align: middle;\n",
       "    }\n",
       "\n",
       "    .dataframe tbody tr th {\n",
       "        vertical-align: top;\n",
       "    }\n",
       "\n",
       "    .dataframe thead th {\n",
       "        text-align: right;\n",
       "    }\n",
       "</style>\n",
       "<table border=\"1\" class=\"dataframe\">\n",
       "  <thead>\n",
       "    <tr style=\"text-align: right;\">\n",
       "      <th></th>\n",
       "      <th>ï»¿word</th>\n",
       "      <th>organization</th>\n",
       "      <th>year</th>\n",
       "    </tr>\n",
       "  </thead>\n",
       "  <tbody>\n",
       "    <tr>\n",
       "      <td>0</td>\n",
       "      <td>fiscal</td>\n",
       "      <td>Guilford County</td>\n",
       "      <td>FY2013</td>\n",
       "    </tr>\n",
       "    <tr>\n",
       "      <td>1</td>\n",
       "      <td>year</td>\n",
       "      <td>Guilford County</td>\n",
       "      <td>FY2013</td>\n",
       "    </tr>\n",
       "    <tr>\n",
       "      <td>2</td>\n",
       "      <td>adopted</td>\n",
       "      <td>Guilford County</td>\n",
       "      <td>FY2013</td>\n",
       "    </tr>\n",
       "    <tr>\n",
       "      <td>3</td>\n",
       "      <td>budget</td>\n",
       "      <td>Guilford County</td>\n",
       "      <td>FY2013</td>\n",
       "    </tr>\n",
       "    <tr>\n",
       "      <td>4</td>\n",
       "      <td>brenda</td>\n",
       "      <td>Guilford County</td>\n",
       "      <td>FY2013</td>\n",
       "    </tr>\n",
       "    <tr>\n",
       "      <td>...</td>\n",
       "      <td>...</td>\n",
       "      <td>...</td>\n",
       "      <td>...</td>\n",
       "    </tr>\n",
       "    <tr>\n",
       "      <td>3528440</td>\n",
       "      <td>index</td>\n",
       "      <td>Wake County</td>\n",
       "      <td>FY2020</td>\n",
       "    </tr>\n",
       "    <tr>\n",
       "      <td>3528441</td>\n",
       "      <td>fiscal</td>\n",
       "      <td>Wake County</td>\n",
       "      <td>FY2020</td>\n",
       "    </tr>\n",
       "    <tr>\n",
       "      <td>3528442</td>\n",
       "      <td>year</td>\n",
       "      <td>Wake County</td>\n",
       "      <td>FY2020</td>\n",
       "    </tr>\n",
       "    <tr>\n",
       "      <td>3528443</td>\n",
       "      <td>adopted</td>\n",
       "      <td>Wake County</td>\n",
       "      <td>FY2020</td>\n",
       "    </tr>\n",
       "    <tr>\n",
       "      <td>3528444</td>\n",
       "      <td>budget</td>\n",
       "      <td>Wake County</td>\n",
       "      <td>FY2020</td>\n",
       "    </tr>\n",
       "  </tbody>\n",
       "</table>\n",
       "<p>3528445 rows × 3 columns</p>\n",
       "</div>"
      ],
      "text/plain": [
       "         ï»¿word     organization    year\n",
       "0         fiscal  Guilford County  FY2013\n",
       "1           year  Guilford County  FY2013\n",
       "2        adopted  Guilford County  FY2013\n",
       "3         budget  Guilford County  FY2013\n",
       "4         brenda  Guilford County  FY2013\n",
       "...          ...              ...     ...\n",
       "3528440    index      Wake County  FY2020\n",
       "3528441   fiscal      Wake County  FY2020\n",
       "3528442     year      Wake County  FY2020\n",
       "3528443  adopted      Wake County  FY2020\n",
       "3528444   budget      Wake County  FY2020\n",
       "\n",
       "[3528445 rows x 3 columns]"
      ]
     },
     "execution_count": 24,
     "metadata": {},
     "output_type": "execute_result"
    }
   ],
   "source": [
    "# Take a look at the dataframe \n",
    "data"
   ]
  },
  {
   "cell_type": "code",
   "execution_count": 25,
   "metadata": {},
   "outputs": [
    {
     "data": {
      "text/html": [
       "<div>\n",
       "<style scoped>\n",
       "    .dataframe tbody tr th:only-of-type {\n",
       "        vertical-align: middle;\n",
       "    }\n",
       "\n",
       "    .dataframe tbody tr th {\n",
       "        vertical-align: top;\n",
       "    }\n",
       "\n",
       "    .dataframe thead th {\n",
       "        text-align: right;\n",
       "    }\n",
       "</style>\n",
       "<table border=\"1\" class=\"dataframe\">\n",
       "  <thead>\n",
       "    <tr style=\"text-align: right;\">\n",
       "      <th></th>\n",
       "      <th>word</th>\n",
       "      <th>organization</th>\n",
       "      <th>year</th>\n",
       "    </tr>\n",
       "  </thead>\n",
       "  <tbody>\n",
       "    <tr>\n",
       "      <td>0</td>\n",
       "      <td>fiscal</td>\n",
       "      <td>Guilford County</td>\n",
       "      <td>FY2013</td>\n",
       "    </tr>\n",
       "    <tr>\n",
       "      <td>1</td>\n",
       "      <td>year</td>\n",
       "      <td>Guilford County</td>\n",
       "      <td>FY2013</td>\n",
       "    </tr>\n",
       "    <tr>\n",
       "      <td>2</td>\n",
       "      <td>adopted</td>\n",
       "      <td>Guilford County</td>\n",
       "      <td>FY2013</td>\n",
       "    </tr>\n",
       "    <tr>\n",
       "      <td>3</td>\n",
       "      <td>budget</td>\n",
       "      <td>Guilford County</td>\n",
       "      <td>FY2013</td>\n",
       "    </tr>\n",
       "    <tr>\n",
       "      <td>4</td>\n",
       "      <td>brenda</td>\n",
       "      <td>Guilford County</td>\n",
       "      <td>FY2013</td>\n",
       "    </tr>\n",
       "  </tbody>\n",
       "</table>\n",
       "</div>"
      ],
      "text/plain": [
       "      word     organization    year\n",
       "0   fiscal  Guilford County  FY2013\n",
       "1     year  Guilford County  FY2013\n",
       "2  adopted  Guilford County  FY2013\n",
       "3   budget  Guilford County  FY2013\n",
       "4   brenda  Guilford County  FY2013"
      ]
     },
     "execution_count": 25,
     "metadata": {},
     "output_type": "execute_result"
    }
   ],
   "source": [
    "# Rename col 0\n",
    "data.columns = ['word','organization','year']\n",
    "data.head()"
   ]
  },
  {
   "cell_type": "code",
   "execution_count": 27,
   "metadata": {},
   "outputs": [
    {
     "data": {
      "text/plain": [
       "count     3528445\n",
       "unique      36734\n",
       "top            fy\n",
       "freq       102578\n",
       "Name: word, dtype: object"
      ]
     },
     "execution_count": 27,
     "metadata": {},
     "output_type": "execute_result"
    }
   ],
   "source": [
    "# count, unique, top and frequency of 'word' column\n",
    "data.word.describe()"
   ]
  },
  {
   "cell_type": "code",
   "execution_count": 28,
   "metadata": {},
   "outputs": [],
   "source": [
    "# We would like to remove fy from the dataframe \n",
    "data['word'] = data['word'].str.replace('fy','')\n",
    "\n",
    "# Replacing empty cells with null values, so we can drop all NaN values later\n",
    "data['word'].replace('', np.nan, inplace=True)\n",
    "\n",
    "# Drop all NaN values from the data frames\n",
    "data.dropna(subset=['word'], inplace=True)"
   ]
  },
  {
   "cell_type": "code",
   "execution_count": 29,
   "metadata": {},
   "outputs": [
    {
     "data": {
      "text/plain": [
       "count     3425549\n",
       "unique      36704\n",
       "top        county\n",
       "freq        45071\n",
       "Name: word, dtype: object"
      ]
     },
     "execution_count": 29,
     "metadata": {},
     "output_type": "execute_result"
    }
   ],
   "source": [
    "# Lets discribe the dataframe again\n",
    "data.word.describe()"
   ]
  },
  {
   "cell_type": "markdown",
   "metadata": {},
   "source": [
    "### 2. Most common words\n",
    "\n",
    "Counting the frequency of words using python native Counter, <br/>\n",
    "which has a nice most_common(n) function returning the top n\n",
    "elements in the list."
   ]
  },
  {
   "cell_type": "code",
   "execution_count": 38,
   "metadata": {},
   "outputs": [
    {
     "data": {
      "text/plain": [
       "<matplotlib.axes._subplots.AxesSubplot at 0x1e77eecc948>"
      ]
     },
     "execution_count": 38,
     "metadata": {},
     "output_type": "execute_result"
    },
    {
     "data": {
      "image/png": "[encoded data removed]",
      "text/plain": [
       "<Figure size 432x288 with 1 Axes>"
      ]
     },
     "metadata": {
      "needs_background": "light"
     },
     "output_type": "display_data"
    }
   ],
   "source": [
    "from collections import Counter \n",
    "\n",
    "counter = Counter(data.word)\n",
    "\n",
    "# Top 20 words in the documents from 2013-2020\n",
    "counter.most_common(20)\n",
    "\n",
    "# Visualizing the top words\n",
    "freq_df = pd.DataFrame.from_records(counter.most_common(20),\n",
    "                              columns=['word', 'count'])\n",
    "\n",
    "# Create bar plot\n",
    "freq_df.plot(kind='bar', x='word')"
   ]
  },
  {
   "cell_type": "markdown",
   "metadata": {},
   "source": [
    "### 3. "
   ]
  },
  {
   "cell_type": "code",
   "execution_count": null,
   "metadata": {},
   "outputs": [],
   "source": []
  }
 ],
 "metadata": {
  "kernelspec": {
   "display_name": "Python 3",
   "language": "python",
   "name": "python3"
  },
  "language_info": {
   "codemirror_mode": {
    "name": "ipython",
    "version": 3
   },
   "file_extension": ".py",
   "mimetype": "text/x-python",
   "name": "python",
   "nbconvert_exporter": "python",
   "pygments_lexer": "ipython3",
   "version": "3.7.4"
  }
 },
 "nbformat": 4,
 "nbformat_minor": 2
}
