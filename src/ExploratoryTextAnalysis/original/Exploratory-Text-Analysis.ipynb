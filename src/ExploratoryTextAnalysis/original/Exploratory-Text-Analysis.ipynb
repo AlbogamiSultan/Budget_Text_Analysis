{
 "cells": [
  {
   "cell_type": "markdown",
   "metadata": {},
   "source": [
    "## Exploratory Text Analysis"
   ]
  },
  {
   "cell_type": "markdown",
   "metadata": {},
   "source": [
    "### 1. Reading the data and some cleaning"
   ]
  },
  {
   "cell_type": "code",
   "execution_count": 1,
   "metadata": {},
   "outputs": [],
   "source": [
    "#Importing packages\n",
    "import os\n",
    "import glob\n",
    "import nltk\n",
    "import pandas as pd\n",
    "import numpy as np\n",
    "import matplotlib.pyplot as plt\n",
    "from matplotlib.pyplot import figure\n",
    "from matplotlib import style\n",
    "style.use('ggplot')"
   ]
  },
  {
   "cell_type": "code",
   "execution_count": 2,
   "metadata": {},
   "outputs": [],
   "source": [
    "# Change the dirctory for file to be read\n",
    "os.chdir(r\"C:\\Users\\Sultan\\Desktop\\data\\PreprocessedData\") "
   ]
  },
  {
   "cell_type": "code",
   "execution_count": 3,
   "metadata": {},
   "outputs": [
    {
     "data": {
      "text/html": [
       "<div>\n",
       "<style scoped>\n",
       "    .dataframe tbody tr th:only-of-type {\n",
       "        vertical-align: middle;\n",
       "    }\n",
       "\n",
       "    .dataframe tbody tr th {\n",
       "        vertical-align: top;\n",
       "    }\n",
       "\n",
       "    .dataframe thead th {\n",
       "        text-align: right;\n",
       "    }\n",
       "</style>\n",
       "<table border=\"1\" class=\"dataframe\">\n",
       "  <thead>\n",
       "    <tr style=\"text-align: right;\">\n",
       "      <th></th>\n",
       "      <th>ï»¿word</th>\n",
       "      <th>organization</th>\n",
       "      <th>year</th>\n",
       "    </tr>\n",
       "  </thead>\n",
       "  <tbody>\n",
       "    <tr>\n",
       "      <td>0</td>\n",
       "      <td>fiscal</td>\n",
       "      <td>Guilford County</td>\n",
       "      <td>FY2013</td>\n",
       "    </tr>\n",
       "    <tr>\n",
       "      <td>1</td>\n",
       "      <td>year</td>\n",
       "      <td>Guilford County</td>\n",
       "      <td>FY2013</td>\n",
       "    </tr>\n",
       "    <tr>\n",
       "      <td>2</td>\n",
       "      <td>adopted</td>\n",
       "      <td>Guilford County</td>\n",
       "      <td>FY2013</td>\n",
       "    </tr>\n",
       "    <tr>\n",
       "      <td>3</td>\n",
       "      <td>budget</td>\n",
       "      <td>Guilford County</td>\n",
       "      <td>FY2013</td>\n",
       "    </tr>\n",
       "    <tr>\n",
       "      <td>4</td>\n",
       "      <td>brenda</td>\n",
       "      <td>Guilford County</td>\n",
       "      <td>FY2013</td>\n",
       "    </tr>\n",
       "  </tbody>\n",
       "</table>\n",
       "</div>"
      ],
      "text/plain": [
       "   ï»¿word     organization    year\n",
       "0   fiscal  Guilford County  FY2013\n",
       "1     year  Guilford County  FY2013\n",
       "2  adopted  Guilford County  FY2013\n",
       "3   budget  Guilford County  FY2013\n",
       "4   brenda  Guilford County  FY2013"
      ]
     },
     "execution_count": 3,
     "metadata": {},
     "output_type": "execute_result"
    }
   ],
   "source": [
    "# Read the data file\n",
    "df = pd.read_csv(r'CombinedData.csv', engine='python')\n",
    "\n",
    "# Take a look at the dataframe \n",
    "df.head()"
   ]
  },
  {
   "cell_type": "code",
   "execution_count": 4,
   "metadata": {},
   "outputs": [
    {
     "data": {
      "text/html": [
       "<div>\n",
       "<style scoped>\n",
       "    .dataframe tbody tr th:only-of-type {\n",
       "        vertical-align: middle;\n",
       "    }\n",
       "\n",
       "    .dataframe tbody tr th {\n",
       "        vertical-align: top;\n",
       "    }\n",
       "\n",
       "    .dataframe thead th {\n",
       "        text-align: right;\n",
       "    }\n",
       "</style>\n",
       "<table border=\"1\" class=\"dataframe\">\n",
       "  <thead>\n",
       "    <tr style=\"text-align: right;\">\n",
       "      <th></th>\n",
       "      <th>word</th>\n",
       "      <th>organization</th>\n",
       "      <th>year</th>\n",
       "    </tr>\n",
       "  </thead>\n",
       "  <tbody>\n",
       "    <tr>\n",
       "      <td>0</td>\n",
       "      <td>fiscal</td>\n",
       "      <td>Guilford County</td>\n",
       "      <td>FY2013</td>\n",
       "    </tr>\n",
       "    <tr>\n",
       "      <td>1</td>\n",
       "      <td>year</td>\n",
       "      <td>Guilford County</td>\n",
       "      <td>FY2013</td>\n",
       "    </tr>\n",
       "    <tr>\n",
       "      <td>2</td>\n",
       "      <td>adopted</td>\n",
       "      <td>Guilford County</td>\n",
       "      <td>FY2013</td>\n",
       "    </tr>\n",
       "    <tr>\n",
       "      <td>3</td>\n",
       "      <td>budget</td>\n",
       "      <td>Guilford County</td>\n",
       "      <td>FY2013</td>\n",
       "    </tr>\n",
       "    <tr>\n",
       "      <td>4</td>\n",
       "      <td>brenda</td>\n",
       "      <td>Guilford County</td>\n",
       "      <td>FY2013</td>\n",
       "    </tr>\n",
       "  </tbody>\n",
       "</table>\n",
       "</div>"
      ],
      "text/plain": [
       "      word     organization    year\n",
       "0   fiscal  Guilford County  FY2013\n",
       "1     year  Guilford County  FY2013\n",
       "2  adopted  Guilford County  FY2013\n",
       "3   budget  Guilford County  FY2013\n",
       "4   brenda  Guilford County  FY2013"
      ]
     },
     "execution_count": 4,
     "metadata": {},
     "output_type": "execute_result"
    }
   ],
   "source": [
    "# Rename col 0\n",
    "df.columns = ['word','organization','year']\n",
    "df.head()"
   ]
  },
  {
   "cell_type": "code",
   "execution_count": 5,
   "metadata": {},
   "outputs": [
    {
     "data": {
      "text/plain": [
       "count     3184264\n",
       "unique      34155\n",
       "top        county\n",
       "freq        45070\n",
       "Name: word, dtype: object"
      ]
     },
     "execution_count": 5,
     "metadata": {},
     "output_type": "execute_result"
    }
   ],
   "source": [
    "# Lets discribe the dataframe again\n",
    "df.word.describe()"
   ]
  },
  {
   "cell_type": "markdown",
   "metadata": {},
   "source": [
    "### 2. Most common words\n",
    "\n",
    "Counting the frequency of words using python native Counter, <br/>\n",
    "which has a most_common(n) function returning the top n\n",
    "elements in the list."
   ]
  },
  {
   "cell_type": "code",
   "execution_count": 6,
   "metadata": {},
   "outputs": [
    {
     "data": {
      "text/plain": [
       "<matplotlib.axes._subplots.AxesSubplot at 0x22e669b9c08>"
      ]
     },
     "execution_count": 6,
     "metadata": {},
     "output_type": "execute_result"
    },
    {
     "data": {
      "image/png": "[encoded data removed]",
      "text/plain": [
       "<Figure size 576x432 with 1 Axes>"
      ]
     },
     "metadata": {
      "needs_background": "light"
     },
     "output_type": "display_data"
    }
   ],
   "source": [
    "from collections import Counter \n",
    "\n",
    "counter = Counter(df.word)\n",
    "\n",
    "# Top 20 words in the documents from 2013-2020\n",
    "counter.most_common(20)\n",
    "\n",
    "# Visualizing the top words\n",
    "freq_df = pd.DataFrame.from_records(counter.most_common(20),\n",
    "                              columns=['word', 'count'])\n",
    "\n",
    "# Create bar plot\n",
    "freq_df.plot(figsize=(8, 6), kind='bar', x='word')"
   ]
  },
  {
   "cell_type": "markdown",
   "metadata": {},
   "source": [
    "### 3. number of words visualized"
   ]
  },
  {
   "cell_type": "markdown",
   "metadata": {},
   "source": [
    "#### Year wise "
   ]
  },
  {
   "cell_type": "code",
   "execution_count": 7,
   "metadata": {},
   "outputs": [
    {
     "data": {
      "text/plain": [
       "dict_keys(['FY2013', 'FY2014', 'FY2015', 'FY2016', 'FY2017', 'FY2018', 'FY2019', 'FY2020'])"
      ]
     },
     "execution_count": 7,
     "metadata": {},
     "output_type": "execute_result"
    }
   ],
   "source": [
    "# Checking the group keys for year col\n",
    "df.groupby(['year']).groups.keys()"
   ]
  },
  {
   "cell_type": "code",
   "execution_count": 8,
   "metadata": {},
   "outputs": [
    {
     "data": {
      "text/plain": [
       "<matplotlib.axes._subplots.AxesSubplot at 0x22e66e07348>"
      ]
     },
     "execution_count": 8,
     "metadata": {},
     "output_type": "execute_result"
    },
    {
     "data": {
      "image/png": "[encoded data removed]",
      "text/plain": [
       "<Figure size 864x360 with 1 Axes>"
      ]
     },
     "metadata": {
      "needs_background": "light"
     },
     "output_type": "display_data"
    }
   ],
   "source": [
    "# Plot count of text data grouped by year \n",
    "fig, ax = plt.subplots(figsize=(12,5))\n",
    "df.groupby(['year']).count()['word'].plot(ax=ax)"
   ]
  },
  {
   "cell_type": "code",
   "execution_count": 9,
   "metadata": {},
   "outputs": [
    {
     "data": {
      "text/plain": [
       "362319"
      ]
     },
     "execution_count": 9,
     "metadata": {},
     "output_type": "execute_result"
    }
   ],
   "source": [
    "# Lets verify what we just saw\n",
    "# find the length of the data grouped by year and key ['FY2019']\n",
    "len(df.groupby(['year']).groups['FY2019'])"
   ]
  },
  {
   "cell_type": "markdown",
   "metadata": {},
   "source": [
    "#### Now let's compare them organization wise"
   ]
  },
  {
   "cell_type": "code",
   "execution_count": 10,
   "metadata": {
    "scrolled": true
   },
   "outputs": [
    {
     "data": {
      "text/plain": [
       "<matplotlib.axes._subplots.AxesSubplot at 0x22e66e5d188>"
      ]
     },
     "execution_count": 10,
     "metadata": {},
     "output_type": "execute_result"
    },
    {
     "data": {
      "image/png": "[encoded data removed]",
      "text/plain": [
       "<Figure size 864x288 with 1 Axes>"
      ]
     },
     "metadata": {
      "needs_background": "light"
     },
     "output_type": "display_data"
    }
   ],
   "source": [
    "# Plot count of text data grouped by organization\n",
    "fig, ax = plt.subplots(figsize=(12,4))\n",
    "df.groupby(['organization']).count()['word'].plot(ax=ax)"
   ]
  },
  {
   "cell_type": "markdown",
   "metadata": {},
   "source": [
    "### 4. Exploring the data from 2020"
   ]
  },
  {
   "cell_type": "code",
   "execution_count": 11,
   "metadata": {},
   "outputs": [
    {
     "data": {
      "text/html": [
       "<div>\n",
       "<style scoped>\n",
       "    .dataframe tbody tr th:only-of-type {\n",
       "        vertical-align: middle;\n",
       "    }\n",
       "\n",
       "    .dataframe tbody tr th {\n",
       "        vertical-align: top;\n",
       "    }\n",
       "\n",
       "    .dataframe thead th {\n",
       "        text-align: right;\n",
       "    }\n",
       "</style>\n",
       "<table border=\"1\" class=\"dataframe\">\n",
       "  <thead>\n",
       "    <tr style=\"text-align: right;\">\n",
       "      <th></th>\n",
       "      <th>word</th>\n",
       "      <th>organization</th>\n",
       "      <th>year</th>\n",
       "    </tr>\n",
       "  </thead>\n",
       "  <tbody>\n",
       "    <tr>\n",
       "      <td>2767745</td>\n",
       "      <td>guilford</td>\n",
       "      <td>Guilford County</td>\n",
       "      <td>FY2020</td>\n",
       "    </tr>\n",
       "    <tr>\n",
       "      <td>2767746</td>\n",
       "      <td>county</td>\n",
       "      <td>Guilford County</td>\n",
       "      <td>FY2020</td>\n",
       "    </tr>\n",
       "    <tr>\n",
       "      <td>2767747</td>\n",
       "      <td>numbers</td>\n",
       "      <td>Guilford County</td>\n",
       "      <td>FY2020</td>\n",
       "    </tr>\n",
       "    <tr>\n",
       "      <td>2767748</td>\n",
       "      <td>makes</td>\n",
       "      <td>Guilford County</td>\n",
       "      <td>FY2020</td>\n",
       "    </tr>\n",
       "    <tr>\n",
       "      <td>2767749</td>\n",
       "      <td>count</td>\n",
       "      <td>Guilford County</td>\n",
       "      <td>FY2020</td>\n",
       "    </tr>\n",
       "  </tbody>\n",
       "</table>\n",
       "</div>"
      ],
      "text/plain": [
       "             word     organization    year\n",
       "2767745  guilford  Guilford County  FY2020\n",
       "2767746    county  Guilford County  FY2020\n",
       "2767747   numbers  Guilford County  FY2020\n",
       "2767748     makes  Guilford County  FY2020\n",
       "2767749     count  Guilford County  FY2020"
      ]
     },
     "execution_count": 11,
     "metadata": {},
     "output_type": "execute_result"
    }
   ],
   "source": [
    "# Now let's select the data entries from columns 'word' and 'organization' that \n",
    "# has the label FY2020 and store it in a different dataframe\n",
    "FY20_df = df.loc[df['year'] == 'FY2020', ['word', 'organization', 'year']]\n",
    "FY20_df.head()"
   ]
  },
  {
   "cell_type": "code",
   "execution_count": 12,
   "metadata": {},
   "outputs": [],
   "source": [
    "# Use loc to slice and extract 2020 data \n",
    "gc_df      = FY20_df.loc[FY20_df['organization'] == 'Guilford County', ['word', 'organization']]\n",
    "cc_df      = FY20_df.loc[FY20_df['organization'] == 'Charlotte City', ['word', 'organization']]\n",
    "dcity_df   = FY20_df.loc[FY20_df['organization'] == 'Durham City', ['word', 'organization']]\n",
    "dcounty_df = FY20_df.loc[FY20_df['organization'] == 'Durham County', ['word', 'organization']]\n",
    "mc_df      = FY20_df.loc[FY20_df['organization'] == 'Mecklenburg County', ['word', 'organization']]\n",
    "rc_df      = FY20_df.loc[FY20_df['organization'] == 'Raleigh City', ['word', 'organization']]\n",
    "wc_df      = FY20_df.loc[FY20_df['organization'] == 'Wake County', ['word', 'organization']]"
   ]
  },
  {
   "cell_type": "code",
   "execution_count": 13,
   "metadata": {},
   "outputs": [],
   "source": [
    "# Create series out of the word col \n",
    "corpus  = gc_df.word\n",
    "corpus1 = cc_df.word\n",
    "corpus2 = dcity_df.word\n",
    "corpus3 = dcounty_df.word\n",
    "corpus4 = mc_df.word\n",
    "corpus5 = rc_df.word\n",
    "corpus6 = wc_df.word"
   ]
  },
  {
   "cell_type": "code",
   "execution_count": 14,
   "metadata": {},
   "outputs": [],
   "source": [
    "# For each text, join the elements and sperate them by a single space\n",
    "gc_text      = ' '.join(word for word in corpus)\n",
    "cc_text      = ' '.join(word for word in corpus1)\n",
    "dcity_text   = ' '.join(word for word in corpus2)\n",
    "dcounty_text = ' '.join(word for word in corpus3)\n",
    "mc_text      = ' '.join(word for word in corpus4)\n",
    "rc_text      = ' '.join(word for word in corpus5)\n",
    "wc_text      = ' '.join(word for word in corpus6)"
   ]
  },
  {
   "cell_type": "code",
   "execution_count": 15,
   "metadata": {},
   "outputs": [],
   "source": [
    "# Now let's make a list of lists with each org. having its corresponding text. \n",
    "data = [['Guilford County', gc_text], ['Charlotte City', cc_text], ['Durham City', dcity_text], \n",
    "        ['Durham County', dcounty_text], ['Mecklenburg County', mc_text],\n",
    "        ['Raleigh City', rc_text],['Wake County', wc_text]] "
   ]
  },
  {
   "cell_type": "code",
   "execution_count": 16,
   "metadata": {},
   "outputs": [
    {
     "data": {
      "text/html": [
       "<div>\n",
       "<style scoped>\n",
       "    .dataframe tbody tr th:only-of-type {\n",
       "        vertical-align: middle;\n",
       "    }\n",
       "\n",
       "    .dataframe tbody tr th {\n",
       "        vertical-align: top;\n",
       "    }\n",
       "\n",
       "    .dataframe thead th {\n",
       "        text-align: right;\n",
       "    }\n",
       "</style>\n",
       "<table border=\"1\" class=\"dataframe\">\n",
       "  <thead>\n",
       "    <tr style=\"text-align: right;\">\n",
       "      <th></th>\n",
       "      <th>organization</th>\n",
       "      <th>content</th>\n",
       "    </tr>\n",
       "  </thead>\n",
       "  <tbody>\n",
       "    <tr>\n",
       "      <td>0</td>\n",
       "      <td>Guilford County</td>\n",
       "      <td>guilford county numbers makes count county sta...</td>\n",
       "    </tr>\n",
       "    <tr>\n",
       "      <td>1</td>\n",
       "      <td>Charlotte City</td>\n",
       "      <td>ensuring equitable sustainable resilient charl...</td>\n",
       "    </tr>\n",
       "    <tr>\n",
       "      <td>2</td>\n",
       "      <td>Durham City</td>\n",
       "      <td>fiscal year adopted budget july june city durh...</td>\n",
       "    </tr>\n",
       "    <tr>\n",
       "      <td>3</td>\n",
       "      <td>Durham County</td>\n",
       "      <td>approved budget durham county north carolina a...</td>\n",
       "    </tr>\n",
       "    <tr>\n",
       "      <td>4</td>\n",
       "      <td>Mecklenburg County</td>\n",
       "      <td>meckncgov fiscal year adopted budget mecklenbu...</td>\n",
       "    </tr>\n",
       "    <tr>\n",
       "      <td>5</td>\n",
       "      <td>Raleigh City</td>\n",
       "      <td>adopted budget strengthening foundation workfo...</td>\n",
       "    </tr>\n",
       "    <tr>\n",
       "      <td>6</td>\n",
       "      <td>Wake County</td>\n",
       "      <td>adopted operating budget capital improvement p...</td>\n",
       "    </tr>\n",
       "  </tbody>\n",
       "</table>\n",
       "</div>"
      ],
      "text/plain": [
       "         organization                                            content\n",
       "0     Guilford County  guilford county numbers makes count county sta...\n",
       "1      Charlotte City  ensuring equitable sustainable resilient charl...\n",
       "2         Durham City  fiscal year adopted budget july june city durh...\n",
       "3       Durham County  approved budget durham county north carolina a...\n",
       "4  Mecklenburg County  meckncgov fiscal year adopted budget mecklenbu...\n",
       "5        Raleigh City  adopted budget strengthening foundation workfo...\n",
       "6         Wake County  adopted operating budget capital improvement p..."
      ]
     },
     "execution_count": 16,
     "metadata": {},
     "output_type": "execute_result"
    }
   ],
   "source": [
    "# One more step, let's create a data frame from the list of lists we have\n",
    "df = pd.DataFrame(data, columns = ['organization', 'content'])\n",
    "df"
   ]
  },
  {
   "cell_type": "code",
   "execution_count": 17,
   "metadata": {},
   "outputs": [
    {
     "data": {
      "text/html": [
       "<div>\n",
       "<style scoped>\n",
       "    .dataframe tbody tr th:only-of-type {\n",
       "        vertical-align: middle;\n",
       "    }\n",
       "\n",
       "    .dataframe tbody tr th {\n",
       "        vertical-align: top;\n",
       "    }\n",
       "\n",
       "    .dataframe thead th {\n",
       "        text-align: right;\n",
       "    }\n",
       "</style>\n",
       "<table border=\"1\" class=\"dataframe\">\n",
       "  <thead>\n",
       "    <tr style=\"text-align: right;\">\n",
       "      <th></th>\n",
       "      <th>organization</th>\n",
       "      <th>content</th>\n",
       "      <th>num_wds</th>\n",
       "    </tr>\n",
       "  </thead>\n",
       "  <tbody>\n",
       "    <tr>\n",
       "      <td>0</td>\n",
       "      <td>Guilford County</td>\n",
       "      <td>guilford county numbers makes count county sta...</td>\n",
       "      <td>62061</td>\n",
       "    </tr>\n",
       "    <tr>\n",
       "      <td>1</td>\n",
       "      <td>Charlotte City</td>\n",
       "      <td>ensuring equitable sustainable resilient charl...</td>\n",
       "      <td>57569</td>\n",
       "    </tr>\n",
       "    <tr>\n",
       "      <td>2</td>\n",
       "      <td>Durham City</td>\n",
       "      <td>fiscal year adopted budget july june city durh...</td>\n",
       "      <td>52919</td>\n",
       "    </tr>\n",
       "    <tr>\n",
       "      <td>3</td>\n",
       "      <td>Durham County</td>\n",
       "      <td>approved budget durham county north carolina a...</td>\n",
       "      <td>61340</td>\n",
       "    </tr>\n",
       "    <tr>\n",
       "      <td>4</td>\n",
       "      <td>Mecklenburg County</td>\n",
       "      <td>meckncgov fiscal year adopted budget mecklenbu...</td>\n",
       "      <td>54658</td>\n",
       "    </tr>\n",
       "    <tr>\n",
       "      <td>5</td>\n",
       "      <td>Raleigh City</td>\n",
       "      <td>adopted budget strengthening foundation workfo...</td>\n",
       "      <td>46635</td>\n",
       "    </tr>\n",
       "    <tr>\n",
       "      <td>6</td>\n",
       "      <td>Wake County</td>\n",
       "      <td>adopted operating budget capital improvement p...</td>\n",
       "      <td>81337</td>\n",
       "    </tr>\n",
       "  </tbody>\n",
       "</table>\n",
       "</div>"
      ],
      "text/plain": [
       "         organization                                            content  \\\n",
       "0     Guilford County  guilford county numbers makes count county sta...   \n",
       "1      Charlotte City  ensuring equitable sustainable resilient charl...   \n",
       "2         Durham City  fiscal year adopted budget july june city durh...   \n",
       "3       Durham County  approved budget durham county north carolina a...   \n",
       "4  Mecklenburg County  meckncgov fiscal year adopted budget mecklenbu...   \n",
       "5        Raleigh City  adopted budget strengthening foundation workfo...   \n",
       "6         Wake County  adopted operating budget capital improvement p...   \n",
       "\n",
       "   num_wds  \n",
       "0    62061  \n",
       "1    57569  \n",
       "2    52919  \n",
       "3    61340  \n",
       "4    54658  \n",
       "5    46635  \n",
       "6    81337  "
      ]
     },
     "execution_count": 17,
     "metadata": {},
     "output_type": "execute_result"
    }
   ],
   "source": [
    "# Count the number of words per document\n",
    "df['num_wds'] = df['content'].apply(lambda x: len(x.split()))\n",
    "df"
   ]
  },
  {
   "cell_type": "code",
   "execution_count": 18,
   "metadata": {},
   "outputs": [
    {
     "data": {
      "text/plain": [
       "81337"
      ]
     },
     "execution_count": 18,
     "metadata": {},
     "output_type": "execute_result"
    }
   ],
   "source": [
    "df['num_wds'].max()"
   ]
  },
  {
   "cell_type": "code",
   "execution_count": 19,
   "metadata": {},
   "outputs": [
    {
     "data": {
      "text/plain": [
       "59502.71428571428"
      ]
     },
     "execution_count": 19,
     "metadata": {},
     "output_type": "execute_result"
    }
   ],
   "source": [
    "df['num_wds'].mean()"
   ]
  },
  {
   "cell_type": "code",
   "execution_count": 20,
   "metadata": {},
   "outputs": [
    {
     "data": {
      "text/plain": [
       "46635"
      ]
     },
     "execution_count": 20,
     "metadata": {},
     "output_type": "execute_result"
    }
   ],
   "source": [
    "df['num_wds'].min()"
   ]
  },
  {
   "cell_type": "markdown",
   "metadata": {},
   "source": [
    "#### Visualize the word count per document"
   ]
  },
  {
   "cell_type": "code",
   "execution_count": 21,
   "metadata": {},
   "outputs": [
    {
     "data": {
      "image/png": "[encoded data removed]",
      "text/plain": [
       "<Figure size 720x576 with 1 Axes>"
      ]
     },
     "metadata": {
      "needs_background": "light"
     },
     "output_type": "display_data"
    }
   ],
   "source": [
    "ax=df['num_wds'].plot(kind='hist', bins=50, fontsize=14, figsize=(10,8))\n",
    "ax.set_title('Document Length in Words\\n', fontsize=20)\n",
    "ax.set_ylabel('Frequency', fontsize=18)\n",
    "ax.set_xlabel('Number of Words', fontsize=18);"
   ]
  },
  {
   "cell_type": "markdown",
   "metadata": {},
   "source": [
    "#### Find the count of unique words per documents"
   ]
  },
  {
   "cell_type": "code",
   "execution_count": 22,
   "metadata": {},
   "outputs": [
    {
     "data": {
      "text/plain": [
       "0    6110\n",
       "1    5315\n",
       "2    6027\n",
       "3    6498\n",
       "4    4781\n",
       "5    5185\n",
       "6    6651\n",
       "Name: uniq_wds, dtype: int64"
      ]
     },
     "execution_count": 22,
     "metadata": {},
     "output_type": "execute_result"
    }
   ],
   "source": [
    "df['uniq_wds'] = df['content'].str.split().apply(lambda x: len(set(x)))\n",
    "df['uniq_wds']"
   ]
  },
  {
   "cell_type": "markdown",
   "metadata": {},
   "source": [
    "#### Min, Mean, Max of unique words"
   ]
  },
  {
   "cell_type": "code",
   "execution_count": 23,
   "metadata": {},
   "outputs": [
    {
     "data": {
      "text/plain": [
       "4781"
      ]
     },
     "execution_count": 23,
     "metadata": {},
     "output_type": "execute_result"
    }
   ],
   "source": [
    "df['uniq_wds'].min()"
   ]
  },
  {
   "cell_type": "code",
   "execution_count": 24,
   "metadata": {},
   "outputs": [
    {
     "data": {
      "text/plain": [
       "5795.285714285715"
      ]
     },
     "execution_count": 24,
     "metadata": {},
     "output_type": "execute_result"
    }
   ],
   "source": [
    "df['uniq_wds'].mean()"
   ]
  },
  {
   "cell_type": "code",
   "execution_count": 25,
   "metadata": {},
   "outputs": [
    {
     "data": {
      "text/plain": [
       "6651"
      ]
     },
     "execution_count": 25,
     "metadata": {},
     "output_type": "execute_result"
    }
   ],
   "source": [
    "df['uniq_wds'].max()"
   ]
  },
  {
   "cell_type": "markdown",
   "metadata": {},
   "source": [
    "#### Visualize the number of unique words per document"
   ]
  },
  {
   "cell_type": "code",
   "execution_count": 27,
   "metadata": {},
   "outputs": [
    {
     "data": {
      "image/png": "[encoded data removed]",
      "text/plain": [
       "<Figure size 720x576 with 1 Axes>"
      ]
     },
     "metadata": {
      "needs_background": "light"
     },
     "output_type": "display_data"
    }
   ],
   "source": [
    "ax=df['uniq_wds'].plot(kind='hist', bins=50, fontsize=14, figsize=(10,8))\n",
    "ax.set_title('Unique Words Per Document\\n', fontsize=20)\n",
    "ax.set_ylabel('Frequency', fontsize=18)\n",
    "ax.set_xlabel('Number of Unique Words', fontsize=18);"
   ]
  },
  {
   "cell_type": "code",
   "execution_count": null,
   "metadata": {},
   "outputs": [],
   "source": []
  }
 ],
 "metadata": {
  "kernelspec": {
   "display_name": "Python 3",
   "language": "python",
   "name": "python3"
  },
  "language_info": {
   "codemirror_mode": {
    "name": "ipython",
    "version": 3
   },
   "file_extension": ".py",
   "mimetype": "text/x-python",
   "name": "python",
   "nbconvert_exporter": "python",
   "pygments_lexer": "ipython3",
   "version": "3.7.4"
  }
 },
 "nbformat": 4,
 "nbformat_minor": 2
}
