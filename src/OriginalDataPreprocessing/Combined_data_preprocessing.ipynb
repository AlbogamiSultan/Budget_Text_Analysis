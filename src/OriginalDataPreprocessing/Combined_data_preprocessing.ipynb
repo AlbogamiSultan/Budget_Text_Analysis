{
 "cells": [
  {
   "cell_type": "markdown",
   "metadata": {},
   "source": [
    "### Data Pre-Processing\n",
    "\n",
    "\n",
    "1. **Obtaining the data -** data is in the form of PDF files obtained from the following organizations: \n",
    "\n",
    "   * [Guilford County](https://www.guilfordcountync.gov/home/showdocument?id=9497)\n",
    "   * [Durham County](https://www.dconc.gov/home/showdocument?id=27985)\n",
    "   * [City of Durham](https://durhamnc.gov/DocumentCenter/View/27412/FY20-Final-Budget)\n",
    "   * [City of Charlotte](https://charlottenc.gov/budget/FY2020%20Documents/FY%202020%20Adopted%20Budget%20Book%207-31%20Complete.pdf)\n",
    "   * [Mecklenburg County](https://www.mecknc.gov/CountyManagersOffice/OMB/Documents/FY2020%20Adopted%20Budget.pdf) <br/>\n",
    "   * [Wake County](http://www.wakegov.com/budget/fy20/Documents/FY20%20Adopted%20Budget%20Book.pdf)\n",
    "   * [City of Raleigh](https://user-2081353526.cld.bz/FY2020AdoptedBudget)\n",
    "   \n",
    "After the PDF files are collected, they are compressed to reduce the size getting them ready for tokenizations and conversion to CSV files using an app developed by project mentor:\n",
    "           **[Jason Jones](https://www.linkedin.com/in/jones-jason-adam/),**\n",
    "           **click [here](https://jason-jones.shinyapps.io/Emotionizer/) for the App**\n",
    "       \n",
    "2. **Cleaning the data -** preforming some popular text pre-processing techniques\n",
    "\n",
    "\n",
    "3. **Organizing the data -** organizing the cleaned data into a way that is easy to input into other algorithms"
   ]
  },
  {
   "cell_type": "markdown",
   "metadata": {},
   "source": [
    "### FY2020 Data Preprocessig Starts Here"
   ]
  },
  {
   "cell_type": "code",
   "execution_count": 1,
   "metadata": {},
   "outputs": [],
   "source": [
    "#Importing packages\n",
    "import os\n",
    "import glob\n",
    "import nltk\n",
    "import pandas as pd\n",
    "import numpy as np"
   ]
  },
  {
   "cell_type": "markdown",
   "metadata": {},
   "source": [
    "### 1- Obtaining the data"
   ]
  },
  {
   "cell_type": "markdown",
   "metadata": {},
   "source": [
    "#### Reading and labling data for all organizations"
   ]
  },
  {
   "cell_type": "code",
   "execution_count": 2,
   "metadata": {},
   "outputs": [],
   "source": [
    "# 1- Reading Guilford-County data file \n",
    "GC_df = pd.read_csv(r'C:\\Users\\Sultan\\Documents\\GitHub\\Budget_Text_Analysis\\util\\data\\FY2020\\structured\\original\\GuilfordCounty_original_data.csv', engine='python')\n",
    "# inserting \"organization\" column with static value corresponding to the organization in question \n",
    "GC_df.insert(2, \"organization\", \"Guilford County\")\n",
    "\n",
    "\n",
    "# 2- For Charlotte-City data\n",
    "CC_df = pd.read_csv(r'C:\\Users\\Sultan\\Documents\\GitHub\\Budget_Text_Analysis\\util\\data\\FY2020\\structured\\original\\CharlotteCity_original_data.csv', engine='python')\n",
    "CC_df.insert(2, \"organization\", \"Charlotte City\")\n",
    "\n",
    "# 3- For Durham-City data\n",
    "DCity_df = pd.read_csv(r'C:\\Users\\Sultan\\Documents\\GitHub\\Budget_Text_Analysis\\util\\data\\FY2020\\structured\\original\\DurhamCity_original_data.csv', engine='python')\n",
    "DCity_df.insert(2, \"organization\", \"Durham City\")\n",
    "\n",
    "# 4- For Durham-County data\n",
    "DCounty_df = pd.read_csv(r'C:\\Users\\Sultan\\Documents\\GitHub\\Budget_Text_Analysis\\util\\data\\FY2020\\structured\\original\\DurhamCounty_original_data.csv', engine='python')\n",
    "DCounty_df.insert(2, \"organization\", \"Durham County\")\n",
    "\n",
    "# 5- For Mecklenburg-County data\n",
    "MC_df = pd.read_csv(r'C:\\Users\\Sultan\\Documents\\GitHub\\Budget_Text_Analysis\\util\\data\\FY2020\\structured\\original\\MecklenburgCounty_original_data.csv', engine='python')\n",
    "MC_df.insert(2, \"organization\", \"Mecklenburg County\")\n",
    "\n",
    "# 6- For Raleigh-City data\n",
    "RC_df = pd.read_csv(r'C:\\Users\\Sultan\\Documents\\GitHub\\Budget_Text_Analysis\\util\\data\\FY2020\\structured\\original\\RaleighCity_original_data.csv', engine='python')\n",
    "RC_df.insert(2, \"organization\", \"Raleigh City\")\n",
    "\n",
    "# 7- For Wake-County data\n",
    "WC_df = pd.read_csv(r'C:\\Users\\Sultan\\Documents\\GitHub\\Budget_Text_Analysis\\util\\data\\FY2020\\structured\\original\\WakeCounty_original_data.csv', engine='python')\n",
    "WC_df.insert(2, \"organization\", \"Wake County\")"
   ]
  },
  {
   "cell_type": "code",
   "execution_count": 3,
   "metadata": {},
   "outputs": [
    {
     "data": {
      "text/html": [
       "<div>\n",
       "<style scoped>\n",
       "    .dataframe tbody tr th:only-of-type {\n",
       "        vertical-align: middle;\n",
       "    }\n",
       "\n",
       "    .dataframe tbody tr th {\n",
       "        vertical-align: top;\n",
       "    }\n",
       "\n",
       "    .dataframe thead th {\n",
       "        text-align: right;\n",
       "    }\n",
       "</style>\n",
       "<table border=\"1\" class=\"dataframe\">\n",
       "  <thead>\n",
       "    <tr style=\"text-align: right;\">\n",
       "      <th></th>\n",
       "      <th>Unnamed: 0</th>\n",
       "      <th>page_number</th>\n",
       "      <th>organization</th>\n",
       "      <th>word</th>\n",
       "    </tr>\n",
       "  </thead>\n",
       "  <tbody>\n",
       "    <tr>\n",
       "      <td>0</td>\n",
       "      <td>1</td>\n",
       "      <td>2</td>\n",
       "      <td>Guilford County</td>\n",
       "      <td>guilford</td>\n",
       "    </tr>\n",
       "    <tr>\n",
       "      <td>1</td>\n",
       "      <td>2</td>\n",
       "      <td>2</td>\n",
       "      <td>Guilford County</td>\n",
       "      <td>county</td>\n",
       "    </tr>\n",
       "    <tr>\n",
       "      <td>2</td>\n",
       "      <td>3</td>\n",
       "      <td>2</td>\n",
       "      <td>Guilford County</td>\n",
       "      <td>by</td>\n",
       "    </tr>\n",
       "    <tr>\n",
       "      <td>3</td>\n",
       "      <td>4</td>\n",
       "      <td>2</td>\n",
       "      <td>Guilford County</td>\n",
       "      <td>the</td>\n",
       "    </tr>\n",
       "    <tr>\n",
       "      <td>4</td>\n",
       "      <td>5</td>\n",
       "      <td>2</td>\n",
       "      <td>Guilford County</td>\n",
       "      <td>numbers</td>\n",
       "    </tr>\n",
       "    <tr>\n",
       "      <td>...</td>\n",
       "      <td>...</td>\n",
       "      <td>...</td>\n",
       "      <td>...</td>\n",
       "      <td>...</td>\n",
       "    </tr>\n",
       "    <tr>\n",
       "      <td>638126</td>\n",
       "      <td>122012</td>\n",
       "      <td>498</td>\n",
       "      <td>Wake County</td>\n",
       "      <td>index</td>\n",
       "    </tr>\n",
       "    <tr>\n",
       "      <td>638127</td>\n",
       "      <td>122013</td>\n",
       "      <td>498</td>\n",
       "      <td>Wake County</td>\n",
       "      <td>fiscal</td>\n",
       "    </tr>\n",
       "    <tr>\n",
       "      <td>638128</td>\n",
       "      <td>122014</td>\n",
       "      <td>498</td>\n",
       "      <td>Wake County</td>\n",
       "      <td>year</td>\n",
       "    </tr>\n",
       "    <tr>\n",
       "      <td>638129</td>\n",
       "      <td>122015</td>\n",
       "      <td>498</td>\n",
       "      <td>Wake County</td>\n",
       "      <td>adopted</td>\n",
       "    </tr>\n",
       "    <tr>\n",
       "      <td>638130</td>\n",
       "      <td>122016</td>\n",
       "      <td>498</td>\n",
       "      <td>Wake County</td>\n",
       "      <td>budget</td>\n",
       "    </tr>\n",
       "  </tbody>\n",
       "</table>\n",
       "<p>638131 rows × 4 columns</p>\n",
       "</div>"
      ],
      "text/plain": [
       "        Unnamed: 0  page_number     organization      word\n",
       "0                1            2  Guilford County  guilford\n",
       "1                2            2  Guilford County    county\n",
       "2                3            2  Guilford County        by\n",
       "3                4            2  Guilford County       the\n",
       "4                5            2  Guilford County   numbers\n",
       "...            ...          ...              ...       ...\n",
       "638126      122012          498      Wake County     index\n",
       "638127      122013          498      Wake County    fiscal\n",
       "638128      122014          498      Wake County      year\n",
       "638129      122015          498      Wake County   adopted\n",
       "638130      122016          498      Wake County    budget\n",
       "\n",
       "[638131 rows x 4 columns]"
      ]
     },
     "execution_count": 3,
     "metadata": {},
     "output_type": "execute_result"
    }
   ],
   "source": [
    "#combine all data frames into a single data frame using concat() \n",
    "#function in pandas. Row lables are adjusted automaticlly by passing ignore_index=True\n",
    "data =  pd.concat([GC_df, CC_df, DCity_df, DCounty_df, MC_df, RC_df, WC_df], ignore_index=True)\n",
    "data"
   ]
  },
  {
   "cell_type": "markdown",
   "metadata": {},
   "source": [
    "### 2- Cleaning the Data"
   ]
  },
  {
   "cell_type": "code",
   "execution_count": 4,
   "metadata": {},
   "outputs": [
    {
     "data": {
      "text/plain": [
       "['Unnamed: 0', 'page_number', 'organization', 'word']"
      ]
     },
     "execution_count": 4,
     "metadata": {},
     "output_type": "execute_result"
    }
   ],
   "source": [
    "# listing columns in data frame \n",
    "list(data)"
   ]
  },
  {
   "cell_type": "markdown",
   "metadata": {},
   "source": [
    "#### Dropping and reordering columns"
   ]
  },
  {
   "cell_type": "code",
   "execution_count": 5,
   "metadata": {},
   "outputs": [
    {
     "data": {
      "text/html": [
       "<div>\n",
       "<style scoped>\n",
       "    .dataframe tbody tr th:only-of-type {\n",
       "        vertical-align: middle;\n",
       "    }\n",
       "\n",
       "    .dataframe tbody tr th {\n",
       "        vertical-align: top;\n",
       "    }\n",
       "\n",
       "    .dataframe thead th {\n",
       "        text-align: right;\n",
       "    }\n",
       "</style>\n",
       "<table border=\"1\" class=\"dataframe\">\n",
       "  <thead>\n",
       "    <tr style=\"text-align: right;\">\n",
       "      <th></th>\n",
       "      <th>page_number</th>\n",
       "      <th>word</th>\n",
       "      <th>organization</th>\n",
       "    </tr>\n",
       "  </thead>\n",
       "  <tbody>\n",
       "    <tr>\n",
       "      <td>0</td>\n",
       "      <td>2</td>\n",
       "      <td>guilford</td>\n",
       "      <td>Guilford County</td>\n",
       "    </tr>\n",
       "    <tr>\n",
       "      <td>1</td>\n",
       "      <td>2</td>\n",
       "      <td>county</td>\n",
       "      <td>Guilford County</td>\n",
       "    </tr>\n",
       "    <tr>\n",
       "      <td>2</td>\n",
       "      <td>2</td>\n",
       "      <td>by</td>\n",
       "      <td>Guilford County</td>\n",
       "    </tr>\n",
       "    <tr>\n",
       "      <td>3</td>\n",
       "      <td>2</td>\n",
       "      <td>the</td>\n",
       "      <td>Guilford County</td>\n",
       "    </tr>\n",
       "    <tr>\n",
       "      <td>4</td>\n",
       "      <td>2</td>\n",
       "      <td>numbers</td>\n",
       "      <td>Guilford County</td>\n",
       "    </tr>\n",
       "  </tbody>\n",
       "</table>\n",
       "</div>"
      ],
      "text/plain": [
       "   page_number      word     organization\n",
       "0            2  guilford  Guilford County\n",
       "1            2    county  Guilford County\n",
       "2            2        by  Guilford County\n",
       "3            2       the  Guilford County\n",
       "4            2   numbers  Guilford County"
      ]
     },
     "execution_count": 5,
     "metadata": {},
     "output_type": "execute_result"
    }
   ],
   "source": [
    "# delete columns using the columns parameter of drop\n",
    "data = data.drop(columns=\"Unnamed: 0\")\n",
    "\n",
    "# re-order columns\n",
    "data = data[['page_number','word','organization']]\n",
    "\n",
    "data.head()"
   ]
  },
  {
   "cell_type": "markdown",
   "metadata": {},
   "source": [
    "#### Adding \"Year\" column with a static value corresponding to the year in question"
   ]
  },
  {
   "cell_type": "code",
   "execution_count": 6,
   "metadata": {
    "scrolled": true
   },
   "outputs": [
    {
     "data": {
      "text/html": [
       "<div>\n",
       "<style scoped>\n",
       "    .dataframe tbody tr th:only-of-type {\n",
       "        vertical-align: middle;\n",
       "    }\n",
       "\n",
       "    .dataframe tbody tr th {\n",
       "        vertical-align: top;\n",
       "    }\n",
       "\n",
       "    .dataframe thead th {\n",
       "        text-align: right;\n",
       "    }\n",
       "</style>\n",
       "<table border=\"1\" class=\"dataframe\">\n",
       "  <thead>\n",
       "    <tr style=\"text-align: right;\">\n",
       "      <th></th>\n",
       "      <th>page_number</th>\n",
       "      <th>word</th>\n",
       "      <th>organization</th>\n",
       "      <th>year</th>\n",
       "    </tr>\n",
       "  </thead>\n",
       "  <tbody>\n",
       "    <tr>\n",
       "      <td>0</td>\n",
       "      <td>2</td>\n",
       "      <td>guilford</td>\n",
       "      <td>Guilford County</td>\n",
       "      <td>FY2020</td>\n",
       "    </tr>\n",
       "    <tr>\n",
       "      <td>1</td>\n",
       "      <td>2</td>\n",
       "      <td>county</td>\n",
       "      <td>Guilford County</td>\n",
       "      <td>FY2020</td>\n",
       "    </tr>\n",
       "    <tr>\n",
       "      <td>2</td>\n",
       "      <td>2</td>\n",
       "      <td>by</td>\n",
       "      <td>Guilford County</td>\n",
       "      <td>FY2020</td>\n",
       "    </tr>\n",
       "    <tr>\n",
       "      <td>3</td>\n",
       "      <td>2</td>\n",
       "      <td>the</td>\n",
       "      <td>Guilford County</td>\n",
       "      <td>FY2020</td>\n",
       "    </tr>\n",
       "    <tr>\n",
       "      <td>4</td>\n",
       "      <td>2</td>\n",
       "      <td>numbers</td>\n",
       "      <td>Guilford County</td>\n",
       "      <td>FY2020</td>\n",
       "    </tr>\n",
       "  </tbody>\n",
       "</table>\n",
       "</div>"
      ],
      "text/plain": [
       "   page_number      word     organization    year\n",
       "0            2  guilford  Guilford County  FY2020\n",
       "1            2    county  Guilford County  FY2020\n",
       "2            2        by  Guilford County  FY2020\n",
       "3            2       the  Guilford County  FY2020\n",
       "4            2   numbers  Guilford County  FY2020"
      ]
     },
     "execution_count": 6,
     "metadata": {},
     "output_type": "execute_result"
    }
   ],
   "source": [
    "data.insert(3, \"year\", \"FY2020\")\n",
    "data.head()"
   ]
  },
  {
   "cell_type": "markdown",
   "metadata": {},
   "source": [
    "####  Text normalization:\n",
    "\n",
    "* ##### Lowercasing"
   ]
  },
  {
   "cell_type": "code",
   "execution_count": 7,
   "metadata": {},
   "outputs": [
    {
     "data": {
      "text/html": [
       "<div>\n",
       "<style scoped>\n",
       "    .dataframe tbody tr th:only-of-type {\n",
       "        vertical-align: middle;\n",
       "    }\n",
       "\n",
       "    .dataframe tbody tr th {\n",
       "        vertical-align: top;\n",
       "    }\n",
       "\n",
       "    .dataframe thead th {\n",
       "        text-align: right;\n",
       "    }\n",
       "</style>\n",
       "<table border=\"1\" class=\"dataframe\">\n",
       "  <thead>\n",
       "    <tr style=\"text-align: right;\">\n",
       "      <th></th>\n",
       "      <th>page_number</th>\n",
       "      <th>word</th>\n",
       "      <th>organization</th>\n",
       "      <th>year</th>\n",
       "    </tr>\n",
       "  </thead>\n",
       "  <tbody>\n",
       "    <tr>\n",
       "      <td>0</td>\n",
       "      <td>2</td>\n",
       "      <td>guilford</td>\n",
       "      <td>guilford county</td>\n",
       "      <td>FY2020</td>\n",
       "    </tr>\n",
       "    <tr>\n",
       "      <td>1</td>\n",
       "      <td>2</td>\n",
       "      <td>county</td>\n",
       "      <td>guilford county</td>\n",
       "      <td>FY2020</td>\n",
       "    </tr>\n",
       "    <tr>\n",
       "      <td>2</td>\n",
       "      <td>2</td>\n",
       "      <td>by</td>\n",
       "      <td>guilford county</td>\n",
       "      <td>FY2020</td>\n",
       "    </tr>\n",
       "    <tr>\n",
       "      <td>3</td>\n",
       "      <td>2</td>\n",
       "      <td>the</td>\n",
       "      <td>guilford county</td>\n",
       "      <td>FY2020</td>\n",
       "    </tr>\n",
       "    <tr>\n",
       "      <td>4</td>\n",
       "      <td>2</td>\n",
       "      <td>numbers</td>\n",
       "      <td>guilford county</td>\n",
       "      <td>FY2020</td>\n",
       "    </tr>\n",
       "  </tbody>\n",
       "</table>\n",
       "</div>"
      ],
      "text/plain": [
       "   page_number      word     organization    year\n",
       "0            2  guilford  guilford county  FY2020\n",
       "1            2    county  guilford county  FY2020\n",
       "2            2        by  guilford county  FY2020\n",
       "3            2       the  guilford county  FY2020\n",
       "4            2   numbers  guilford county  FY2020"
      ]
     },
     "execution_count": 7,
     "metadata": {},
     "output_type": "execute_result"
    }
   ],
   "source": [
    "# using a function to lowercase all text in the two cols\n",
    "data['word'] = data['word'].apply(lambda x: \" \".join(x.lower() for x in x.split()))\n",
    "data['organization'] = data['organization'].apply(lambda x: \" \".join(x.lower() for x in x.split()))\n",
    "data.head()"
   ]
  },
  {
   "cell_type": "markdown",
   "metadata": {},
   "source": [
    "* ##### Lemmatization"
   ]
  },
  {
   "cell_type": "code",
   "execution_count": 8,
   "metadata": {},
   "outputs": [
    {
     "data": {
      "text/html": [
       "<div>\n",
       "<style scoped>\n",
       "    .dataframe tbody tr th:only-of-type {\n",
       "        vertical-align: middle;\n",
       "    }\n",
       "\n",
       "    .dataframe tbody tr th {\n",
       "        vertical-align: top;\n",
       "    }\n",
       "\n",
       "    .dataframe thead th {\n",
       "        text-align: right;\n",
       "    }\n",
       "</style>\n",
       "<table border=\"1\" class=\"dataframe\">\n",
       "  <thead>\n",
       "    <tr style=\"text-align: right;\">\n",
       "      <th></th>\n",
       "      <th>page_number</th>\n",
       "      <th>word</th>\n",
       "      <th>organization</th>\n",
       "      <th>year</th>\n",
       "    </tr>\n",
       "  </thead>\n",
       "  <tbody>\n",
       "    <tr>\n",
       "      <td>0</td>\n",
       "      <td>2</td>\n",
       "      <td>guilford</td>\n",
       "      <td>guilford county</td>\n",
       "      <td>FY2020</td>\n",
       "    </tr>\n",
       "    <tr>\n",
       "      <td>1</td>\n",
       "      <td>2</td>\n",
       "      <td>county</td>\n",
       "      <td>guilford county</td>\n",
       "      <td>FY2020</td>\n",
       "    </tr>\n",
       "    <tr>\n",
       "      <td>2</td>\n",
       "      <td>2</td>\n",
       "      <td>by</td>\n",
       "      <td>guilford county</td>\n",
       "      <td>FY2020</td>\n",
       "    </tr>\n",
       "    <tr>\n",
       "      <td>3</td>\n",
       "      <td>2</td>\n",
       "      <td>the</td>\n",
       "      <td>guilford county</td>\n",
       "      <td>FY2020</td>\n",
       "    </tr>\n",
       "    <tr>\n",
       "      <td>4</td>\n",
       "      <td>2</td>\n",
       "      <td>numbers</td>\n",
       "      <td>guilford county</td>\n",
       "      <td>FY2020</td>\n",
       "    </tr>\n",
       "  </tbody>\n",
       "</table>\n",
       "</div>"
      ],
      "text/plain": [
       "   page_number      word     organization    year\n",
       "0            2  guilford  guilford county  FY2020\n",
       "1            2    county  guilford county  FY2020\n",
       "2            2        by  guilford county  FY2020\n",
       "3            2       the  guilford county  FY2020\n",
       "4            2   numbers  guilford county  FY2020"
      ]
     },
     "execution_count": 8,
     "metadata": {},
     "output_type": "execute_result"
    }
   ],
   "source": [
    "# Please enter code to lemmatize data col 'word' in the dataframe\n",
    "\n",
    "data.head()"
   ]
  },
  {
   "cell_type": "markdown",
   "metadata": {},
   "source": [
    "#### Removing stop words"
   ]
  },
  {
   "cell_type": "code",
   "execution_count": 9,
   "metadata": {
    "scrolled": true
   },
   "outputs": [
    {
     "name": "stderr",
     "output_type": "stream",
     "text": [
      "[nltk_data] Downloading package stopwords to\n",
      "[nltk_data]     C:\\Users\\Sultan\\AppData\\Roaming\\nltk_data...\n",
      "[nltk_data]   Package stopwords is already up-to-date!\n"
     ]
    },
    {
     "data": {
      "text/plain": [
       "0    guilford\n",
       "1      county\n",
       "2            \n",
       "3            \n",
       "4     numbers\n",
       "Name: word, dtype: object"
      ]
     },
     "execution_count": 9,
     "metadata": {},
     "output_type": "execute_result"
    }
   ],
   "source": [
    "# Load library\n",
    "from nltk.corpus import stopwords\n",
    "\n",
    "# Download the set of stop words the first time\n",
    "nltk.download('stopwords')\n",
    "\n",
    "# Load stop words\n",
    "stop_words = stopwords.words('english')\n",
    "\n",
    "data['word'] = data['word'].apply(lambda x: \" \".join(x for x in x.split() if x not in stop_words))\n",
    "data['word'].head()"
   ]
  },
  {
   "cell_type": "markdown",
   "metadata": {},
   "source": [
    "### 2- Organizing the Data"
   ]
  },
  {
   "cell_type": "markdown",
   "metadata": {},
   "source": [
    "We already created a corpus in an earlier step. The definition of a corpus is a collection of texts, and they are all put together neatly in a pandas dataframe here."
   ]
  },
  {
   "cell_type": "code",
   "execution_count": 10,
   "metadata": {},
   "outputs": [
    {
     "data": {
      "text/html": [
       "<div>\n",
       "<style scoped>\n",
       "    .dataframe tbody tr th:only-of-type {\n",
       "        vertical-align: middle;\n",
       "    }\n",
       "\n",
       "    .dataframe tbody tr th {\n",
       "        vertical-align: top;\n",
       "    }\n",
       "\n",
       "    .dataframe thead th {\n",
       "        text-align: right;\n",
       "    }\n",
       "</style>\n",
       "<table border=\"1\" class=\"dataframe\">\n",
       "  <thead>\n",
       "    <tr style=\"text-align: right;\">\n",
       "      <th></th>\n",
       "      <th>page_number</th>\n",
       "      <th>word</th>\n",
       "      <th>organization</th>\n",
       "      <th>year</th>\n",
       "    </tr>\n",
       "  </thead>\n",
       "  <tbody>\n",
       "    <tr>\n",
       "      <td>0</td>\n",
       "      <td>2</td>\n",
       "      <td>guilford</td>\n",
       "      <td>guilford county</td>\n",
       "      <td>FY2020</td>\n",
       "    </tr>\n",
       "    <tr>\n",
       "      <td>1</td>\n",
       "      <td>2</td>\n",
       "      <td>county</td>\n",
       "      <td>guilford county</td>\n",
       "      <td>FY2020</td>\n",
       "    </tr>\n",
       "    <tr>\n",
       "      <td>2</td>\n",
       "      <td>2</td>\n",
       "      <td></td>\n",
       "      <td>guilford county</td>\n",
       "      <td>FY2020</td>\n",
       "    </tr>\n",
       "    <tr>\n",
       "      <td>3</td>\n",
       "      <td>2</td>\n",
       "      <td></td>\n",
       "      <td>guilford county</td>\n",
       "      <td>FY2020</td>\n",
       "    </tr>\n",
       "    <tr>\n",
       "      <td>4</td>\n",
       "      <td>2</td>\n",
       "      <td>numbers</td>\n",
       "      <td>guilford county</td>\n",
       "      <td>FY2020</td>\n",
       "    </tr>\n",
       "    <tr>\n",
       "      <td>...</td>\n",
       "      <td>...</td>\n",
       "      <td>...</td>\n",
       "      <td>...</td>\n",
       "      <td>...</td>\n",
       "    </tr>\n",
       "    <tr>\n",
       "      <td>638126</td>\n",
       "      <td>498</td>\n",
       "      <td>index</td>\n",
       "      <td>wake county</td>\n",
       "      <td>FY2020</td>\n",
       "    </tr>\n",
       "    <tr>\n",
       "      <td>638127</td>\n",
       "      <td>498</td>\n",
       "      <td>fiscal</td>\n",
       "      <td>wake county</td>\n",
       "      <td>FY2020</td>\n",
       "    </tr>\n",
       "    <tr>\n",
       "      <td>638128</td>\n",
       "      <td>498</td>\n",
       "      <td>year</td>\n",
       "      <td>wake county</td>\n",
       "      <td>FY2020</td>\n",
       "    </tr>\n",
       "    <tr>\n",
       "      <td>638129</td>\n",
       "      <td>498</td>\n",
       "      <td>adopted</td>\n",
       "      <td>wake county</td>\n",
       "      <td>FY2020</td>\n",
       "    </tr>\n",
       "    <tr>\n",
       "      <td>638130</td>\n",
       "      <td>498</td>\n",
       "      <td>budget</td>\n",
       "      <td>wake county</td>\n",
       "      <td>FY2020</td>\n",
       "    </tr>\n",
       "  </tbody>\n",
       "</table>\n",
       "<p>638131 rows × 4 columns</p>\n",
       "</div>"
      ],
      "text/plain": [
       "        page_number      word     organization    year\n",
       "0                 2  guilford  guilford county  FY2020\n",
       "1                 2    county  guilford county  FY2020\n",
       "2                 2            guilford county  FY2020\n",
       "3                 2            guilford county  FY2020\n",
       "4                 2   numbers  guilford county  FY2020\n",
       "...             ...       ...              ...     ...\n",
       "638126          498     index      wake county  FY2020\n",
       "638127          498    fiscal      wake county  FY2020\n",
       "638128          498      year      wake county  FY2020\n",
       "638129          498   adopted      wake county  FY2020\n",
       "638130          498    budget      wake county  FY2020\n",
       "\n",
       "[638131 rows x 4 columns]"
      ]
     },
     "execution_count": 10,
     "metadata": {},
     "output_type": "execute_result"
    }
   ],
   "source": [
    "# Let's take a look at our dataframe\n",
    "data"
   ]
  },
  {
   "cell_type": "markdown",
   "metadata": {},
   "source": [
    "#### Dataframe to one single and clean csv file "
   ]
  },
  {
   "cell_type": "code",
   "execution_count": 11,
   "metadata": {},
   "outputs": [],
   "source": [
    "# Export dataframe to csv\n",
    "data.to_csv(r\"C:\\Users\\Sultan\\Documents\\GitHub\\Budget_Text_Analysis\\util\\data\\Preprocessed_Data\\PreprocessedDataFY20.csv\", index=False, encoding='utf-8-sig')"
   ]
  },
  {
   "cell_type": "markdown",
   "metadata": {},
   "source": [
    "### FY2019 Data Preprocessing"
   ]
  },
  {
   "cell_type": "code",
   "execution_count": null,
   "metadata": {},
   "outputs": [],
   "source": []
  }
 ],
 "metadata": {
  "kernelspec": {
   "display_name": "Python 3",
   "language": "python",
   "name": "python3"
  },
  "language_info": {
   "codemirror_mode": {
    "name": "ipython",
    "version": 3
   },
   "file_extension": ".py",
   "mimetype": "text/x-python",
   "name": "python",
   "nbconvert_exporter": "python",
   "pygments_lexer": "ipython3",
   "version": "3.7.4"
  }
 },
 "nbformat": 4,
 "nbformat_minor": 2
}
