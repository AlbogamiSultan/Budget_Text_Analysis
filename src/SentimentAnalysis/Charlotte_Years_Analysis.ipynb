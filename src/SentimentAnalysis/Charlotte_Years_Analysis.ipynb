{
 "cells": [
  {
   "cell_type": "code",
   "execution_count": 51,
   "metadata": {},
   "outputs": [],
   "source": [
    "import pandas as pd\n",
    "import numpy as np\n",
    "from numpy import cov\n",
    "import scipy.stats as stats\n",
    "#import scipy.stats as ttest_ind\n",
    "import matplotlib.pyplot as plt\n",
    "import math"
   ]
  },
  {
   "cell_type": "code",
   "execution_count": 52,
   "metadata": {},
   "outputs": [],
   "source": [
    "GCE = pd.read_csv(r\"C:\\unnati\\datascience\\data\\FY2008\\structured\\emotion\\GuilfordCountyEmotionDataFY08.csv\")\n",
    "GCE.drop(['Unnamed: 0'], axis=1,inplace=True)\n"
   ]
  },
  {
   "cell_type": "code",
   "execution_count": 53,
   "metadata": {},
   "outputs": [],
   "source": [
    "CCE = pd.read_csv(r\"C:\\unnati\\datascience\\data\\FY2008\\structured\\emotion\\CharlotteCityEmotionDataFY08.csv\")\n",
    "CCE.drop(['Unnamed: 0'], axis=1,inplace=True)\n"
   ]
  },
  {
   "cell_type": "code",
   "execution_count": 54,
   "metadata": {},
   "outputs": [],
   "source": [
    "CCF13 = pd.read_csv(r\"C:\\unnati\\datascience\\data\\FY2013\\structured\\emotion\\CharlotteCityEmotionDataFY13.csv\")   \n",
    "CCF13.drop(['Unnamed: 0'], axis=1,inplace=True)"
   ]
  },
  {
   "cell_type": "code",
   "execution_count": 55,
   "metadata": {},
   "outputs": [],
   "source": [
    "CCF14 = pd.read_csv(r\"C:\\unnati\\datascience\\data\\FY2014\\structured\\emotion\\CharlotteCityEmotionDataFY14.csv\")    \n",
    "CCF14.drop(['Unnamed: 0'], axis=1,inplace=True)"
   ]
  },
  {
   "cell_type": "code",
   "execution_count": 56,
   "metadata": {},
   "outputs": [],
   "source": [
    "CCF15 = pd.read_csv(r\"C:\\unnati\\datascience\\data\\FY2015\\structured\\emotion\\CharlotteCityEmotionDataFY15.csv\")    \n",
    "CCF15.drop(['Unnamed: 0'], axis=1,inplace=True)"
   ]
  },
  {
   "cell_type": "code",
   "execution_count": 57,
   "metadata": {},
   "outputs": [],
   "source": [
    "CCF16 = pd.read_csv(r\"C:\\unnati\\datascience\\data\\FY2016\\structured\\emotion\\CharlotteCityEmotionDataFY16.csv\")    \n",
    "CCF16.drop(['Unnamed: 0'], axis=1,inplace=True)"
   ]
  },
  {
   "cell_type": "code",
   "execution_count": 58,
   "metadata": {},
   "outputs": [],
   "source": [
    "CCF17 = pd.read_csv(r\"C:\\unnati\\datascience\\data\\FY2017\\structured\\emotion\\CharlotteCityEmotionDataFY17.csv\")    \n",
    "CCF17.drop(['Unnamed: 0'], axis=1,inplace=True)"
   ]
  },
  {
   "cell_type": "code",
   "execution_count": 59,
   "metadata": {},
   "outputs": [],
   "source": [
    "CCF18 = pd.read_csv(r\"C:\\unnati\\datascience\\data\\FY2018\\structured\\emotion\\CharlotteCityEmotionDataFY18.csv\")    \n",
    "CCF18.drop(['Unnamed: 0'], axis=1,inplace=True)"
   ]
  },
  {
   "cell_type": "code",
   "execution_count": 60,
   "metadata": {},
   "outputs": [],
   "source": [
    "CCF19 = pd.read_csv(r\"C:\\unnati\\datascience\\data\\FY2019\\structured\\emotion\\CharlotteCityEmotionDataFY19.csv\")    \n",
    "CCF19.drop(['Unnamed: 0'], axis=1,inplace=True)"
   ]
  },
  {
   "cell_type": "code",
   "execution_count": 61,
   "metadata": {},
   "outputs": [],
   "source": [
    "CCF20 = pd.read_csv(r\"C:\\unnati\\datascience\\data\\FY2020\\structured\\emotion\\CharlotteCityEmotionDataFY20.csv\")    \n",
    "CCF20.drop(['Unnamed: 0'], axis=1,inplace=True)"
   ]
  },
  {
   "cell_type": "code",
   "execution_count": 62,
   "metadata": {},
   "outputs": [],
   "source": [
    "#CCF13 = CCF13.drop(columns=['page_number'])\n",
    "#CCE = CCE.drop(columns=['page_number'])\n",
    "#CCF13 = CCF13.drop(columns=['page_number'])\n",
    "CCF14 = CCF14.drop(columns=['page_number'])\n",
    "CCF15 = CCF15.drop(columns=['page_number'])\n",
    "CCF16 = CCF16.drop(columns=['page_number'])\n",
    "CCF17 = CCF17.drop(columns=['page_number'])\n",
    "CCF18 = CCF18.drop(columns=['page_number'])\n",
    "CCF19 = CCF19.drop(columns=['page_number'])\n",
    "CCF20 = CCF20.drop(columns=['page_number'])"
   ]
  },
  {
   "cell_type": "code",
   "execution_count": 63,
   "metadata": {},
   "outputs": [],
   "source": [
    "#CCE.sentiment = CCE.sentiment.replace({\"Negative\": \"0\",\"Positive\": \"1\",\"Trust\" :\"2\",\"Sadness\":\"0\",\"Anticipation\":\"3\",\"Surprise\":\"4\",\"Fear\":\"5\",\"Joy\":\"6\",\"Anger\":\"7\",\"Disgust\":\"8\"})"
   ]
  },
  {
   "cell_type": "code",
   "execution_count": 64,
   "metadata": {},
   "outputs": [],
   "source": [
    "#CCF13.sentiment = CCF13.sentiment.replace({\"Negative\": \"0\",\"Positive\": \"1\",\"Trust\" :\"2\",\"Sadness\":\"0\",\"Anticipation\":\"3\",\"Surprise\":\"4\",\"Fear\":\"5\",\"Joy\":\"6\",\"Anger\":\"7\",\"Disgust\":\"8\"})"
   ]
  },
  {
   "cell_type": "code",
   "execution_count": 65,
   "metadata": {},
   "outputs": [],
   "source": [
    "#CCF14.sentiment = CCF14.sentiment.replace({\"Negative\": \"0\",\"Positive\": \"1\",\"Trust\" :\"2\",\"Sadness\":\"0\",\"Anticipation\":\"3\",\"Surprise\":\"4\",\"Fear\":\"5\",\"Joy\":\"6\",\"Anger\":\"7\",\"Disgust\":\"8\"})"
   ]
  },
  {
   "cell_type": "code",
   "execution_count": 66,
   "metadata": {},
   "outputs": [],
   "source": [
    "#CCF15.sentiment = CCF15.sentiment.replace({\"Negative\": \"0\",\"Positive\": \"1\",\"Trust\" :\"2\",\"Sadness\":\"0\",\"Anticipation\":\"3\",\"Surprise\":\"4\",\"Fear\":\"5\",\"Joy\":\"6\",\"Anger\":\"7\",\"Disgust\":\"8\"})"
   ]
  },
  {
   "cell_type": "code",
   "execution_count": 67,
   "metadata": {},
   "outputs": [],
   "source": [
    "#CCF16.sentiment = CCF16.sentiment.replace({\"Negative\": \"0\",\"Positive\": \"1\",\"Trust\" :\"2\",\"Sadness\":\"0\",\"Anticipation\":\"3\",\"Surprise\":\"4\",\"Fear\":\"5\",\"Joy\":\"6\",\"Anger\":\"7\",\"Disgust\":\"8\"})"
   ]
  },
  {
   "cell_type": "code",
   "execution_count": 68,
   "metadata": {},
   "outputs": [],
   "source": [
    "#CCF17.sentiment = CCF17.sentiment.replace({\"Negative\": \"0\",\"Positive\": \"1\",\"Trust\" :\"2\",\"Sadness\":\"0\",\"Anticipation\":\"3\",\"Surprise\":\"4\",\"Fear\":\"5\",\"Joy\":\"6\",\"Anger\":\"7\",\"Disgust\":\"8\"})"
   ]
  },
  {
   "cell_type": "code",
   "execution_count": 69,
   "metadata": {},
   "outputs": [],
   "source": [
    "#CCF18.sentiment = CCF18.sentiment.replace({\"Negative\": \"0\",\"Positive\": \"1\",\"Trust\" :\"2\",\"Sadness\":\"0\",\"Anticipation\":\"3\",\"Surprise\":\"4\",\"Fear\":\"5\",\"Joy\":\"6\",\"Anger\":\"7\",\"Disgust\":\"8\"})"
   ]
  },
  {
   "cell_type": "code",
   "execution_count": 70,
   "metadata": {},
   "outputs": [],
   "source": [
    "#CCF19.sentiment = CCF19.sentiment.replace({\"Negative\": \"0\",\"Positive\": \"1\",\"Trust\" :\"2\",\"Sadness\":\"0\",\"Anticipation\":\"3\",\"Surprise\":\"4\",\"Fear\":\"5\",\"Joy\":\"6\",\"Anger\":\"7\",\"Disgust\":\"8\"})"
   ]
  },
  {
   "cell_type": "code",
   "execution_count": 71,
   "metadata": {},
   "outputs": [],
   "source": [
    "#CCF20.sentiment = CCF20.sentiment.replace({\"Negative\": \"0\",\"Positive\": \"1\",\"Trust\" :\"2\",\"Sadness\":\"0\",\"Anticipation\":\"3\",\"Surprise\":\"4\",\"Fear\":\"5\",\"Joy\":\"6\",\"Anger\":\"7\",\"Disgust\":\"8\"})"
   ]
  },
  {
   "cell_type": "code",
   "execution_count": 72,
   "metadata": {},
   "outputs": [
    {
     "data": {
      "text/html": [
       "<div>\n",
       "<style scoped>\n",
       "    .dataframe tbody tr th:only-of-type {\n",
       "        vertical-align: middle;\n",
       "    }\n",
       "\n",
       "    .dataframe tbody tr th {\n",
       "        vertical-align: top;\n",
       "    }\n",
       "\n",
       "    .dataframe thead th {\n",
       "        text-align: right;\n",
       "    }\n",
       "</style>\n",
       "<table border=\"1\" class=\"dataframe\">\n",
       "  <thead>\n",
       "    <tr style=\"text-align: right;\">\n",
       "      <th></th>\n",
       "      <th>page_number</th>\n",
       "      <th>word</th>\n",
       "      <th>sent_count</th>\n",
       "      <th>sentiment</th>\n",
       "      <th>category</th>\n",
       "      <th>Year</th>\n",
       "    </tr>\n",
       "  </thead>\n",
       "  <tbody>\n",
       "    <tr>\n",
       "      <th>0</th>\n",
       "      <td>5</td>\n",
       "      <td>Budget</td>\n",
       "      <td>31</td>\n",
       "      <td>Trust</td>\n",
       "      <td>Emotion</td>\n",
       "      <td>2008</td>\n",
       "    </tr>\n",
       "    <tr>\n",
       "      <th>1</th>\n",
       "      <td>206</td>\n",
       "      <td>Sewer</td>\n",
       "      <td>23</td>\n",
       "      <td>Disgust</td>\n",
       "      <td>Emotion</td>\n",
       "      <td>2008</td>\n",
       "    </tr>\n",
       "    <tr>\n",
       "      <th>2</th>\n",
       "      <td>208</td>\n",
       "      <td>Budget</td>\n",
       "      <td>22</td>\n",
       "      <td>Trust</td>\n",
       "      <td>Emotion</td>\n",
       "      <td>2008</td>\n",
       "    </tr>\n",
       "    <tr>\n",
       "      <th>3</th>\n",
       "      <td>30</td>\n",
       "      <td>Increase</td>\n",
       "      <td>17</td>\n",
       "      <td>Positive</td>\n",
       "      <td>Sentiment</td>\n",
       "      <td>2008</td>\n",
       "    </tr>\n",
       "    <tr>\n",
       "      <th>4</th>\n",
       "      <td>153</td>\n",
       "      <td>Grant</td>\n",
       "      <td>17</td>\n",
       "      <td>Anticipation</td>\n",
       "      <td>Emotion</td>\n",
       "      <td>2008</td>\n",
       "    </tr>\n",
       "  </tbody>\n",
       "</table>\n",
       "</div>"
      ],
      "text/plain": [
       "   page_number      word  sent_count     sentiment   category  Year\n",
       "0            5    Budget          31         Trust    Emotion  2008\n",
       "1          206     Sewer          23       Disgust    Emotion  2008\n",
       "2          208    Budget          22         Trust    Emotion  2008\n",
       "3           30  Increase          17      Positive  Sentiment  2008\n",
       "4          153     Grant          17  Anticipation    Emotion  2008"
      ]
     },
     "execution_count": 72,
     "metadata": {},
     "output_type": "execute_result"
    }
   ],
   "source": [
    "CCE['Year'] = 2008\n",
    "CCE.head()"
   ]
  },
  {
   "cell_type": "code",
   "execution_count": 73,
   "metadata": {},
   "outputs": [],
   "source": [
    "CCF13['Year'] = 2013\n"
   ]
  },
  {
   "cell_type": "code",
   "execution_count": 74,
   "metadata": {},
   "outputs": [],
   "source": [
    "CCF14['Year'] = 2014\n",
    "CCF15['Year'] = 2015\n",
    "CCF16['Year'] = 2016\n",
    "CCF17['Year'] = 2017\n",
    "CCF18['Year'] = 2018\n",
    "CCF19['Year'] = 2019\n",
    "CCF20['Year'] = 2020"
   ]
  },
  {
   "cell_type": "code",
   "execution_count": 75,
   "metadata": {},
   "outputs": [
    {
     "data": {
      "text/html": [
       "<div>\n",
       "<style scoped>\n",
       "    .dataframe tbody tr th:only-of-type {\n",
       "        vertical-align: middle;\n",
       "    }\n",
       "\n",
       "    .dataframe tbody tr th {\n",
       "        vertical-align: top;\n",
       "    }\n",
       "\n",
       "    .dataframe thead th {\n",
       "        text-align: right;\n",
       "    }\n",
       "</style>\n",
       "<table border=\"1\" class=\"dataframe\">\n",
       "  <thead>\n",
       "    <tr style=\"text-align: right;\">\n",
       "      <th></th>\n",
       "      <th>page_number</th>\n",
       "      <th>word</th>\n",
       "      <th>sent_count</th>\n",
       "      <th>sentiment</th>\n",
       "      <th>category</th>\n",
       "      <th>Year</th>\n",
       "    </tr>\n",
       "  </thead>\n",
       "  <tbody>\n",
       "    <tr>\n",
       "      <th>0</th>\n",
       "      <td>5</td>\n",
       "      <td>Budget</td>\n",
       "      <td>31</td>\n",
       "      <td>Trust</td>\n",
       "      <td>Emotion</td>\n",
       "      <td>2008</td>\n",
       "    </tr>\n",
       "    <tr>\n",
       "      <th>1</th>\n",
       "      <td>206</td>\n",
       "      <td>Sewer</td>\n",
       "      <td>23</td>\n",
       "      <td>Disgust</td>\n",
       "      <td>Emotion</td>\n",
       "      <td>2008</td>\n",
       "    </tr>\n",
       "    <tr>\n",
       "      <th>2</th>\n",
       "      <td>208</td>\n",
       "      <td>Budget</td>\n",
       "      <td>22</td>\n",
       "      <td>Trust</td>\n",
       "      <td>Emotion</td>\n",
       "      <td>2008</td>\n",
       "    </tr>\n",
       "    <tr>\n",
       "      <th>3</th>\n",
       "      <td>30</td>\n",
       "      <td>Increase</td>\n",
       "      <td>17</td>\n",
       "      <td>Positive</td>\n",
       "      <td>Sentiment</td>\n",
       "      <td>2008</td>\n",
       "    </tr>\n",
       "    <tr>\n",
       "      <th>4</th>\n",
       "      <td>153</td>\n",
       "      <td>Grant</td>\n",
       "      <td>17</td>\n",
       "      <td>Anticipation</td>\n",
       "      <td>Emotion</td>\n",
       "      <td>2008</td>\n",
       "    </tr>\n",
       "  </tbody>\n",
       "</table>\n",
       "</div>"
      ],
      "text/plain": [
       "   page_number      word  sent_count     sentiment   category  Year\n",
       "0            5    Budget          31         Trust    Emotion  2008\n",
       "1          206     Sewer          23       Disgust    Emotion  2008\n",
       "2          208    Budget          22         Trust    Emotion  2008\n",
       "3           30  Increase          17      Positive  Sentiment  2008\n",
       "4          153     Grant          17  Anticipation    Emotion  2008"
      ]
     },
     "execution_count": 75,
     "metadata": {},
     "output_type": "execute_result"
    }
   ],
   "source": [
    "CombinedCCF = pd.concat([CCE,CCF13]) \n",
    "CombinedCCF.head()"
   ]
  },
  {
   "cell_type": "code",
   "execution_count": 76,
   "metadata": {},
   "outputs": [],
   "source": [
    "#CombinedCCF = pd.concat([]) "
   ]
  },
  {
   "cell_type": "code",
   "execution_count": 77,
   "metadata": {},
   "outputs": [
    {
     "name": "stderr",
     "output_type": "stream",
     "text": [
      "C:\\Users\\webfr\\Anaconda3\\lib\\site-packages\\ipykernel_launcher.py:1: FutureWarning: Sorting because non-concatenation axis is not aligned. A future version\n",
      "of pandas will change to not sort by default.\n",
      "\n",
      "To accept the future behavior, pass 'sort=False'.\n",
      "\n",
      "To retain the current behavior and silence the warning, pass 'sort=True'.\n",
      "\n",
      "  \"\"\"Entry point for launching an IPython kernel.\n"
     ]
    }
   ],
   "source": [
    "CombinedCCF = pd.concat([CCE,CCF13,CCF14,CCF15,CCF16,CCF17,CCF18,CCF19,CCF20]) "
   ]
  },
  {
   "cell_type": "code",
   "execution_count": 81,
   "metadata": {},
   "outputs": [
    {
     "name": "stdout",
     "output_type": "stream",
     "text": [
      "92613\n",
      "sentiment     Anger  Anticipation   Disgust      Fear       Joy   Negative  \\\n",
      "Year                                                                         \n",
      "2008       3.394678     12.857498  1.827904  5.819448  5.695101  10.644118   \n",
      "2013       3.646237     13.897817  1.939488  6.228527  6.117699  10.794636   \n",
      "2014       3.394950     13.736861  1.908904  5.714631  6.185816  10.486891   \n",
      "2015       3.229595     13.834410  1.702877  5.449207  6.247798  10.099824   \n",
      "2016       3.048273     13.493550  1.508531  5.607574  5.857262   9.290470   \n",
      "2017       3.360417     13.251078  1.815628  5.667569  5.667569  10.121376   \n",
      "2018       3.217105     13.337996  1.638525  5.405135  6.124488   9.631332   \n",
      "2019       2.821652     12.602830  1.365581  5.051004  6.943073   9.197104   \n",
      "2020       2.298648     13.539095  1.064080  4.920635  6.743092   7.601411   \n",
      "\n",
      "sentiment   Positive   Sadness  Surprise      Trust  \n",
      "Year                                                 \n",
      "2008       32.889828  3.643372  1.715991  21.512062  \n",
      "2013       31.763272  3.867893  1.828660  19.915771  \n",
      "2014       32.886311  3.721155  1.824332  20.140147  \n",
      "2015       33.799178  3.746330  1.879037  20.011744  \n",
      "2016       34.685809  3.589263  1.862256  21.057012  \n",
      "2017       33.875013  3.601164  1.795566  20.844618  \n",
      "2018       34.468978  3.336997  1.848336  20.991108  \n",
      "2019       33.868049  3.471537  2.081277  22.597894  \n",
      "2020       35.238095  3.104056  1.881246  23.609641  \n"
     ]
    },
    {
     "data": {
      "text/plain": [
       "<matplotlib.axes._subplots.AxesSubplot at 0x1e3ecd2cac8>"
      ]
     },
     "execution_count": 81,
     "metadata": {},
     "output_type": "execute_result"
    },
    {
     "data": {
      "image/png": "[encoded data removed]",
      "text/plain": [
       "<Figure size 1080x576 with 1 Axes>"
      ]
     },
     "metadata": {
      "needs_background": "light"
     },
     "output_type": "display_data"
    }
   ],
   "source": [
    "len_DF = len(CombinedCCF)\n",
    "print(len_DF)\n",
    "budget_sentiment = CombinedCCF.groupby(['Year', 'sentiment']).sentiment.count()\n",
    "#budget_sentiment.plot(kind='bar')\n",
    "#print(budget_sentiment)\n",
    "abc = budget_sentiment.groupby(level=0).apply(lambda x:x*100/x.sum()).unstack()\n",
    "print(abc)\n",
    "abc.plot(kind='bar',figsize=(15,8))"
   ]
  },
  {
   "cell_type": "code",
   "execution_count": null,
   "metadata": {},
   "outputs": [],
   "source": []
  }
 ],
 "metadata": {
  "kernelspec": {
   "display_name": "Python 3",
   "language": "python",
   "name": "python3"
  },
  "language_info": {
   "codemirror_mode": {
    "name": "ipython",
    "version": 3
   },
   "file_extension": ".py",
   "mimetype": "text/x-python",
   "name": "python",
   "nbconvert_exporter": "python",
   "pygments_lexer": "ipython3",
   "version": "3.7.3"
  }
 },
 "nbformat": 4,
 "nbformat_minor": 2
}
