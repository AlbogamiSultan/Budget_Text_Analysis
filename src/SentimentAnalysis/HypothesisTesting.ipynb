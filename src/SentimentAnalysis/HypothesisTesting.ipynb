{
 "cells": [
  {
   "cell_type": "code",
   "execution_count": 256,
   "metadata": {},
   "outputs": [],
   "source": [
    "import pandas as pd\n",
    "import numpy as np\n",
    "import scipy.stats as stats\n",
    "import matplotlib.pyplot as plt"
   ]
  },
  {
   "cell_type": "code",
   "execution_count": 257,
   "metadata": {},
   "outputs": [],
   "source": [
    "CCE = pd.read_csv(r\"C:\\unnati\\datascience\\project\\Repo\\new branch\\Budget_Text_Analysis\\util\\data\\FY2008\\structured\\emotion\\CharlotteCityEmotionDataFY08.csv\")\n",
    "CCE.drop(['Unnamed: 0'], axis=1,inplace=True)"
   ]
  },
  {
   "cell_type": "code",
   "execution_count": 258,
   "metadata": {},
   "outputs": [],
   "source": [
    "CCE20 = pd.read_csv(r\"C:\\unnati\\datascience\\project\\Repo\\new branch\\Budget_Text_Analysis\\util\\data\\FY2020\\structured\\emotion\\CharlotteCityEmotionDataFY20.csv\")\n",
    "CCE20.drop(['Unnamed: 0'], axis=1,inplace=True)"
   ]
  },
  {
   "cell_type": "code",
   "execution_count": 259,
   "metadata": {},
   "outputs": [
    {
     "data": {
      "text/html": [
       "<div>\n",
       "<style scoped>\n",
       "    .dataframe tbody tr th:only-of-type {\n",
       "        vertical-align: middle;\n",
       "    }\n",
       "\n",
       "    .dataframe tbody tr th {\n",
       "        vertical-align: top;\n",
       "    }\n",
       "\n",
       "    .dataframe thead th {\n",
       "        text-align: right;\n",
       "    }\n",
       "</style>\n",
       "<table border=\"1\" class=\"dataframe\">\n",
       "  <thead>\n",
       "    <tr style=\"text-align: right;\">\n",
       "      <th></th>\n",
       "      <th>page_number</th>\n",
       "      <th>word</th>\n",
       "      <th>sent_count</th>\n",
       "      <th>sentiment</th>\n",
       "      <th>category</th>\n",
       "    </tr>\n",
       "  </thead>\n",
       "  <tbody>\n",
       "    <tr>\n",
       "      <th>0</th>\n",
       "      <td>5</td>\n",
       "      <td>Budget</td>\n",
       "      <td>31</td>\n",
       "      <td>Trust</td>\n",
       "      <td>Emotion</td>\n",
       "    </tr>\n",
       "    <tr>\n",
       "      <th>1</th>\n",
       "      <td>206</td>\n",
       "      <td>Sewer</td>\n",
       "      <td>23</td>\n",
       "      <td>Disgust</td>\n",
       "      <td>Emotion</td>\n",
       "    </tr>\n",
       "    <tr>\n",
       "      <th>2</th>\n",
       "      <td>208</td>\n",
       "      <td>Budget</td>\n",
       "      <td>22</td>\n",
       "      <td>Trust</td>\n",
       "      <td>Emotion</td>\n",
       "    </tr>\n",
       "    <tr>\n",
       "      <th>3</th>\n",
       "      <td>30</td>\n",
       "      <td>Increase</td>\n",
       "      <td>17</td>\n",
       "      <td>Positive</td>\n",
       "      <td>Sentiment</td>\n",
       "    </tr>\n",
       "    <tr>\n",
       "      <th>4</th>\n",
       "      <td>153</td>\n",
       "      <td>Grant</td>\n",
       "      <td>17</td>\n",
       "      <td>Anticipation</td>\n",
       "      <td>Emotion</td>\n",
       "    </tr>\n",
       "  </tbody>\n",
       "</table>\n",
       "</div>"
      ],
      "text/plain": [
       "   page_number      word  sent_count     sentiment   category\n",
       "0            5    Budget          31         Trust    Emotion\n",
       "1          206     Sewer          23       Disgust    Emotion\n",
       "2          208    Budget          22         Trust    Emotion\n",
       "3           30  Increase          17      Positive  Sentiment\n",
       "4          153     Grant          17  Anticipation    Emotion"
      ]
     },
     "execution_count": 259,
     "metadata": {},
     "output_type": "execute_result"
    }
   ],
   "source": [
    "CCE.head()"
   ]
  },
  {
   "cell_type": "code",
   "execution_count": 260,
   "metadata": {},
   "outputs": [
    {
     "data": {
      "text/html": [
       "<div>\n",
       "<style scoped>\n",
       "    .dataframe tbody tr th:only-of-type {\n",
       "        vertical-align: middle;\n",
       "    }\n",
       "\n",
       "    .dataframe tbody tr th {\n",
       "        vertical-align: top;\n",
       "    }\n",
       "\n",
       "    .dataframe thead th {\n",
       "        text-align: right;\n",
       "    }\n",
       "</style>\n",
       "<table border=\"1\" class=\"dataframe\">\n",
       "  <thead>\n",
       "    <tr style=\"text-align: right;\">\n",
       "      <th></th>\n",
       "      <th>page_number</th>\n",
       "      <th>sent_count</th>\n",
       "    </tr>\n",
       "  </thead>\n",
       "  <tbody>\n",
       "    <tr>\n",
       "      <th>count</th>\n",
       "      <td>8042.000000</td>\n",
       "      <td>8042.000000</td>\n",
       "    </tr>\n",
       "    <tr>\n",
       "      <th>mean</th>\n",
       "      <td>96.567147</td>\n",
       "      <td>1.621238</td>\n",
       "    </tr>\n",
       "    <tr>\n",
       "      <th>std</th>\n",
       "      <td>59.507300</td>\n",
       "      <td>1.524753</td>\n",
       "    </tr>\n",
       "    <tr>\n",
       "      <th>min</th>\n",
       "      <td>1.000000</td>\n",
       "      <td>1.000000</td>\n",
       "    </tr>\n",
       "    <tr>\n",
       "      <th>25%</th>\n",
       "      <td>46.000000</td>\n",
       "      <td>1.000000</td>\n",
       "    </tr>\n",
       "    <tr>\n",
       "      <th>50%</th>\n",
       "      <td>91.000000</td>\n",
       "      <td>1.000000</td>\n",
       "    </tr>\n",
       "    <tr>\n",
       "      <th>75%</th>\n",
       "      <td>143.000000</td>\n",
       "      <td>2.000000</td>\n",
       "    </tr>\n",
       "    <tr>\n",
       "      <th>max</th>\n",
       "      <td>210.000000</td>\n",
       "      <td>31.000000</td>\n",
       "    </tr>\n",
       "  </tbody>\n",
       "</table>\n",
       "</div>"
      ],
      "text/plain": [
       "       page_number   sent_count\n",
       "count  8042.000000  8042.000000\n",
       "mean     96.567147     1.621238\n",
       "std      59.507300     1.524753\n",
       "min       1.000000     1.000000\n",
       "25%      46.000000     1.000000\n",
       "50%      91.000000     1.000000\n",
       "75%     143.000000     2.000000\n",
       "max     210.000000    31.000000"
      ]
     },
     "execution_count": 260,
     "metadata": {},
     "output_type": "execute_result"
    }
   ],
   "source": [
    "CCE.describe()"
   ]
  },
  {
   "cell_type": "code",
   "execution_count": 261,
   "metadata": {},
   "outputs": [
    {
     "data": {
      "text/html": [
       "<div>\n",
       "<style scoped>\n",
       "    .dataframe tbody tr th:only-of-type {\n",
       "        vertical-align: middle;\n",
       "    }\n",
       "\n",
       "    .dataframe tbody tr th {\n",
       "        vertical-align: top;\n",
       "    }\n",
       "\n",
       "    .dataframe thead th {\n",
       "        text-align: right;\n",
       "    }\n",
       "</style>\n",
       "<table border=\"1\" class=\"dataframe\">\n",
       "  <thead>\n",
       "    <tr style=\"text-align: right;\">\n",
       "      <th></th>\n",
       "      <th>page_number</th>\n",
       "      <th>word</th>\n",
       "      <th>sent_count</th>\n",
       "      <th>sentiment</th>\n",
       "      <th>category</th>\n",
       "    </tr>\n",
       "  </thead>\n",
       "  <tbody>\n",
       "    <tr>\n",
       "      <th>0</th>\n",
       "      <td>72</td>\n",
       "      <td>Budget</td>\n",
       "      <td>37</td>\n",
       "      <td>Trust</td>\n",
       "      <td>Emotion</td>\n",
       "    </tr>\n",
       "    <tr>\n",
       "      <th>1</th>\n",
       "      <td>292</td>\n",
       "      <td>Maintenance</td>\n",
       "      <td>28</td>\n",
       "      <td>Trust</td>\n",
       "      <td>Emotion</td>\n",
       "    </tr>\n",
       "    <tr>\n",
       "      <th>2</th>\n",
       "      <td>300</td>\n",
       "      <td>Sewer</td>\n",
       "      <td>28</td>\n",
       "      <td>Disgust</td>\n",
       "      <td>Emotion</td>\n",
       "    </tr>\n",
       "    <tr>\n",
       "      <th>3</th>\n",
       "      <td>276</td>\n",
       "      <td>General</td>\n",
       "      <td>25</td>\n",
       "      <td>Positive</td>\n",
       "      <td>Sentiment</td>\n",
       "    </tr>\n",
       "    <tr>\n",
       "      <th>4</th>\n",
       "      <td>276</td>\n",
       "      <td>General</td>\n",
       "      <td>25</td>\n",
       "      <td>Trust</td>\n",
       "      <td>Emotion</td>\n",
       "    </tr>\n",
       "  </tbody>\n",
       "</table>\n",
       "</div>"
      ],
      "text/plain": [
       "   page_number         word  sent_count sentiment   category\n",
       "0           72       Budget          37     Trust    Emotion\n",
       "1          292  Maintenance          28     Trust    Emotion\n",
       "2          300        Sewer          28   Disgust    Emotion\n",
       "3          276      General          25  Positive  Sentiment\n",
       "4          276      General          25     Trust    Emotion"
      ]
     },
     "execution_count": 261,
     "metadata": {},
     "output_type": "execute_result"
    }
   ],
   "source": [
    "CCE20.head()"
   ]
  },
  {
   "cell_type": "code",
   "execution_count": 262,
   "metadata": {},
   "outputs": [
    {
     "data": {
      "text/plain": [
       "array(['Trust', 'Disgust', 'Trust', ..., 'Trust', 'Trust', 'Trust'],\n",
       "      dtype=object)"
      ]
     },
     "execution_count": 262,
     "metadata": {},
     "output_type": "execute_result"
    }
   ],
   "source": [
    "list08 = CCE[\"sentiment\"].values\n",
    "list08"
   ]
  },
  {
   "cell_type": "code",
   "execution_count": 263,
   "metadata": {},
   "outputs": [
    {
     "data": {
      "text/plain": [
       "array(['Trust', 'Trust', 'Disgust', ..., 'Sadness', 'Trust', 'Trust'],\n",
       "      dtype=object)"
      ]
     },
     "execution_count": 263,
     "metadata": {},
     "output_type": "execute_result"
    }
   ],
   "source": [
    "list20 = CCE20[\"sentiment\"].values\n",
    "list20"
   ]
  },
  {
   "cell_type": "code",
   "execution_count": 264,
   "metadata": {},
   "outputs": [
    {
     "name": "stdout",
     "output_type": "stream",
     "text": [
      "Requirement already satisfied: nltk in c:\\users\\webfr\\anaconda3\\lib\\site-packages (3.4.4)\n",
      "Requirement already satisfied: six in c:\\users\\webfr\\anaconda3\\lib\\site-packages (from nltk) (1.12.0)\n"
     ]
    }
   ],
   "source": [
    "!pip install nltk"
   ]
  },
  {
   "cell_type": "code",
   "execution_count": 265,
   "metadata": {},
   "outputs": [],
   "source": [
    "import nltk\n",
    "import seaborn as sns"
   ]
  },
  {
   "cell_type": "code",
   "execution_count": 266,
   "metadata": {},
   "outputs": [
    {
     "name": "stdout",
     "output_type": "stream",
     "text": [
      "<FreqDist with 10 samples and 8042 outcomes>\n"
     ]
    }
   ],
   "source": [
    "from nltk.probability import FreqDist\n",
    "fdist = FreqDist(list08)\n",
    "print(fdist)"
   ]
  },
  {
   "cell_type": "code",
   "execution_count": 267,
   "metadata": {},
   "outputs": [
    {
     "data": {
      "text/plain": [
       "[('Positive', 2645),\n",
       " ('Trust', 1730),\n",
       " ('Anticipation', 1034),\n",
       " ('Negative', 856),\n",
       " ('Fear', 468),\n",
       " ('Joy', 458),\n",
       " ('Sadness', 293),\n",
       " ('Anger', 273),\n",
       " ('Disgust', 147),\n",
       " ('Surprise', 138)]"
      ]
     },
     "execution_count": 267,
     "metadata": {},
     "output_type": "execute_result"
    }
   ],
   "source": [
    "fdist.most_common(10)"
   ]
  },
  {
   "cell_type": "code",
   "execution_count": 268,
   "metadata": {},
   "outputs": [
    {
     "name": "stdout",
     "output_type": "stream",
     "text": [
      "<FreqDist with 10 samples and 17010 outcomes>\n"
     ]
    }
   ],
   "source": [
    "\n",
    "fdist20 = FreqDist(list20)\n",
    "print(fdist20)"
   ]
  },
  {
   "cell_type": "code",
   "execution_count": 269,
   "metadata": {},
   "outputs": [
    {
     "data": {
      "text/plain": [
       "[('Positive', 5994),\n",
       " ('Trust', 4016),\n",
       " ('Anticipation', 2303),\n",
       " ('Negative', 1293),\n",
       " ('Joy', 1147),\n",
       " ('Fear', 837),\n",
       " ('Sadness', 528),\n",
       " ('Anger', 391),\n",
       " ('Surprise', 320),\n",
       " ('Disgust', 181)]"
      ]
     },
     "execution_count": 269,
     "metadata": {},
     "output_type": "execute_result"
    }
   ],
   "source": [
    "fdist20.most_common(10)"
   ]
  },
  {
   "cell_type": "code",
   "execution_count": 270,
   "metadata": {},
   "outputs": [],
   "source": [
    "\n",
    "common_words = pd.merge(CCE, CCE20)"
   ]
  },
  {
   "cell_type": "code",
   "execution_count": 271,
   "metadata": {},
   "outputs": [
    {
     "data": {
      "text/plain": [
       "(362, 5)"
      ]
     },
     "execution_count": 271,
     "metadata": {},
     "output_type": "execute_result"
    }
   ],
   "source": [
    "common_words.shape"
   ]
  },
  {
   "cell_type": "code",
   "execution_count": 272,
   "metadata": {},
   "outputs": [
    {
     "data": {
      "text/html": [
       "<div>\n",
       "<style scoped>\n",
       "    .dataframe tbody tr th:only-of-type {\n",
       "        vertical-align: middle;\n",
       "    }\n",
       "\n",
       "    .dataframe tbody tr th {\n",
       "        vertical-align: top;\n",
       "    }\n",
       "\n",
       "    .dataframe thead th {\n",
       "        text-align: right;\n",
       "    }\n",
       "</style>\n",
       "<table border=\"1\" class=\"dataframe\">\n",
       "  <thead>\n",
       "    <tr style=\"text-align: right;\">\n",
       "      <th></th>\n",
       "      <th>page_number</th>\n",
       "      <th>word</th>\n",
       "      <th>sent_count</th>\n",
       "      <th>sentiment</th>\n",
       "      <th>category</th>\n",
       "    </tr>\n",
       "  </thead>\n",
       "  <tbody>\n",
       "    <tr>\n",
       "      <th>0</th>\n",
       "      <td>19</td>\n",
       "      <td>Budget</td>\n",
       "      <td>6</td>\n",
       "      <td>Trust</td>\n",
       "      <td>Emotion</td>\n",
       "    </tr>\n",
       "    <tr>\n",
       "      <th>1</th>\n",
       "      <td>21</td>\n",
       "      <td>Public</td>\n",
       "      <td>4</td>\n",
       "      <td>Anticipation</td>\n",
       "      <td>Emotion</td>\n",
       "    </tr>\n",
       "    <tr>\n",
       "      <th>2</th>\n",
       "      <td>21</td>\n",
       "      <td>Public</td>\n",
       "      <td>4</td>\n",
       "      <td>Positive</td>\n",
       "      <td>Sentiment</td>\n",
       "    </tr>\n",
       "    <tr>\n",
       "      <th>3</th>\n",
       "      <td>34</td>\n",
       "      <td>Tax</td>\n",
       "      <td>4</td>\n",
       "      <td>Negative</td>\n",
       "      <td>Sentiment</td>\n",
       "    </tr>\n",
       "    <tr>\n",
       "      <th>4</th>\n",
       "      <td>34</td>\n",
       "      <td>Tax</td>\n",
       "      <td>4</td>\n",
       "      <td>Sadness</td>\n",
       "      <td>Emotion</td>\n",
       "    </tr>\n",
       "  </tbody>\n",
       "</table>\n",
       "</div>"
      ],
      "text/plain": [
       "   page_number    word  sent_count     sentiment   category\n",
       "0           19  Budget           6         Trust    Emotion\n",
       "1           21  Public           4  Anticipation    Emotion\n",
       "2           21  Public           4      Positive  Sentiment\n",
       "3           34     Tax           4      Negative  Sentiment\n",
       "4           34     Tax           4       Sadness    Emotion"
      ]
     },
     "execution_count": 272,
     "metadata": {},
     "output_type": "execute_result"
    }
   ],
   "source": [
    "common_words.head()"
   ]
  },
  {
   "cell_type": "code",
   "execution_count": 273,
   "metadata": {},
   "outputs": [],
   "source": [
    "abc = CCE.groupby(['word','sentiment'],as_index=False).count().sort_values('page_number',ascending=False)"
   ]
  },
  {
   "cell_type": "code",
   "execution_count": 274,
   "metadata": {},
   "outputs": [
    {
     "data": {
      "text/html": [
       "<div>\n",
       "<style scoped>\n",
       "    .dataframe tbody tr th:only-of-type {\n",
       "        vertical-align: middle;\n",
       "    }\n",
       "\n",
       "    .dataframe tbody tr th {\n",
       "        vertical-align: top;\n",
       "    }\n",
       "\n",
       "    .dataframe thead th {\n",
       "        text-align: right;\n",
       "    }\n",
       "</style>\n",
       "<table border=\"1\" class=\"dataframe\">\n",
       "  <thead>\n",
       "    <tr style=\"text-align: right;\">\n",
       "      <th></th>\n",
       "      <th>word</th>\n",
       "      <th>sentiment</th>\n",
       "      <th>page_number</th>\n",
       "      <th>sent_count</th>\n",
       "      <th>category</th>\n",
       "    </tr>\n",
       "  </thead>\n",
       "  <tbody>\n",
       "    <tr>\n",
       "      <th>135</th>\n",
       "      <td>Budget</td>\n",
       "      <td>Trust</td>\n",
       "      <td>123</td>\n",
       "      <td>123</td>\n",
       "      <td>123</td>\n",
       "    </tr>\n",
       "    <tr>\n",
       "      <th>974</th>\n",
       "      <td>Plan</td>\n",
       "      <td>Anticipation</td>\n",
       "      <td>93</td>\n",
       "      <td>93</td>\n",
       "      <td>93</td>\n",
       "    </tr>\n",
       "    <tr>\n",
       "      <th>635</th>\n",
       "      <td>General</td>\n",
       "      <td>Trust</td>\n",
       "      <td>72</td>\n",
       "      <td>72</td>\n",
       "      <td>72</td>\n",
       "    </tr>\n",
       "    <tr>\n",
       "      <th>634</th>\n",
       "      <td>General</td>\n",
       "      <td>Positive</td>\n",
       "      <td>72</td>\n",
       "      <td>72</td>\n",
       "      <td>72</td>\n",
       "    </tr>\n",
       "    <tr>\n",
       "      <th>903</th>\n",
       "      <td>Neighborhood</td>\n",
       "      <td>Anticipation</td>\n",
       "      <td>70</td>\n",
       "      <td>70</td>\n",
       "      <td>70</td>\n",
       "    </tr>\n",
       "  </tbody>\n",
       "</table>\n",
       "</div>"
      ],
      "text/plain": [
       "             word     sentiment  page_number  sent_count  category\n",
       "135        Budget         Trust          123         123       123\n",
       "974          Plan  Anticipation           93          93        93\n",
       "635       General         Trust           72          72        72\n",
       "634       General      Positive           72          72        72\n",
       "903  Neighborhood  Anticipation           70          70        70"
      ]
     },
     "execution_count": 274,
     "metadata": {},
     "output_type": "execute_result"
    }
   ],
   "source": [
    "abc.head()"
   ]
  },
  {
   "cell_type": "code",
   "execution_count": 275,
   "metadata": {},
   "outputs": [],
   "source": [
    "#pd.crosstab(abc.word, abc.sentiment, margins=True)"
   ]
  },
  {
   "cell_type": "code",
   "execution_count": 276,
   "metadata": {},
   "outputs": [],
   "source": [
    "#table = pd.crosstab(CCE.category, CCE.sentiment, margins=True)"
   ]
  },
  {
   "cell_type": "code",
   "execution_count": 277,
   "metadata": {},
   "outputs": [],
   "source": [
    "from scipy.stats import chi2_contingency\n",
    "#stat, p, dof, expected = chi2_contingency(table)"
   ]
  },
  {
   "cell_type": "code",
   "execution_count": 278,
   "metadata": {},
   "outputs": [],
   "source": [
    "#print(expected)"
   ]
  },
  {
   "cell_type": "code",
   "execution_count": 279,
   "metadata": {},
   "outputs": [],
   "source": [
    "CCE.sentiment = CCE.sentiment.replace({\"Negative\": \"0\",\"Positive\": \"1\",\"Trust\" :\"2\",\"Sadness\":\"0\",\"Anticipation\":\"3\",\"Surprise\":\"4\",\"Fear\":\"5\",\"Joy\":\"6\",\"Anger\":\"7\",\"Disgust\":\"8\"})"
   ]
  },
  {
   "cell_type": "code",
   "execution_count": 280,
   "metadata": {},
   "outputs": [
    {
     "name": "stdout",
     "output_type": "stream",
     "text": [
      "<class 'pandas.core.frame.DataFrame'>\n",
      "RangeIndex: 8042 entries, 0 to 8041\n",
      "Data columns (total 5 columns):\n",
      "page_number    8042 non-null int64\n",
      "word           8042 non-null object\n",
      "sent_count     8042 non-null int64\n",
      "sentiment      8042 non-null int64\n",
      "category       8042 non-null object\n",
      "dtypes: int64(3), object(2)\n",
      "memory usage: 314.2+ KB\n"
     ]
    }
   ],
   "source": [
    "CCE['sentiment'] = pd.to_numeric(CCE['sentiment'])\n",
    "CCE.info()"
   ]
  },
  {
   "cell_type": "code",
   "execution_count": 281,
   "metadata": {},
   "outputs": [],
   "source": [
    "CCE20.sentiment = CCE20.sentiment.replace({\"Negative\": \"0\",\"Positive\": \"1\",\"Trust\" :\"2\",\"Sadness\":\"0\",\"Anticipation\":\"3\",\"Surprise\":\"4\",\"Fear\":\"5\",\"Joy\":\"6\",\"Anger\":\"7\",\"Disgust\":\"8\"})"
   ]
  },
  {
   "cell_type": "code",
   "execution_count": 282,
   "metadata": {},
   "outputs": [
    {
     "name": "stdout",
     "output_type": "stream",
     "text": [
      "<class 'pandas.core.frame.DataFrame'>\n",
      "RangeIndex: 17010 entries, 0 to 17009\n",
      "Data columns (total 5 columns):\n",
      "page_number    17010 non-null int64\n",
      "word           17010 non-null object\n",
      "sent_count     17010 non-null int64\n",
      "sentiment      17010 non-null int64\n",
      "category       17010 non-null object\n",
      "dtypes: int64(3), object(2)\n",
      "memory usage: 664.5+ KB\n"
     ]
    }
   ],
   "source": [
    "CCE20['sentiment'] = pd.to_numeric(CCE20['sentiment'])\n",
    "CCE20.info()"
   ]
  },
  {
   "cell_type": "code",
   "execution_count": 283,
   "metadata": {},
   "outputs": [
    {
     "data": {
      "image/png": "[encoded data removed]",
      "text/plain": [
       "<Figure size 432x288 with 1 Axes>"
      ]
     },
     "metadata": {
      "needs_background": "light"
     },
     "output_type": "display_data"
    }
   ],
   "source": [
    "#calculate and plot distributions\n",
    "sns.distplot(CCE.sentiment, kde=False)\n",
    "sns.distplot(CCE20.sentiment, kde=False)\n",
    "plt.show()"
   ]
  },
  {
   "cell_type": "code",
   "execution_count": null,
   "metadata": {},
   "outputs": [],
   "source": []
  },
  {
   "cell_type": "code",
   "execution_count": 284,
   "metadata": {},
   "outputs": [
    {
     "name": "stdout",
     "output_type": "stream",
     "text": [
      "<class 'pandas.core.frame.DataFrame'>\n",
      "RangeIndex: 2501 entries, 0 to 2500\n",
      "Data columns (total 5 columns):\n",
      "page_number    2501 non-null int64\n",
      "word           2501 non-null object\n",
      "sent_count     2501 non-null int64\n",
      "sentiment      2501 non-null int64\n",
      "category       2501 non-null object\n",
      "dtypes: int64(3), object(2)\n",
      "memory usage: 97.8+ KB\n"
     ]
    }
   ],
   "source": [
    "CCE_ = CCE.loc[:2500]\n",
    "CCE_.info()"
   ]
  },
  {
   "cell_type": "code",
   "execution_count": 285,
   "metadata": {},
   "outputs": [
    {
     "data": {
      "text/plain": [
       "<matplotlib.axes._subplots.AxesSubplot at 0x14770618080>"
      ]
     },
     "execution_count": 285,
     "metadata": {},
     "output_type": "execute_result"
    },
    {
     "data": {
      "image/png": "[encoded data removed]",
      "text/plain": [
       "<Figure size 432x288 with 1 Axes>"
      ]
     },
     "metadata": {
      "needs_background": "light"
     },
     "output_type": "display_data"
    }
   ],
   "source": [
    "CCE_['sentiment'].hist()"
   ]
  },
  {
   "cell_type": "code",
   "execution_count": 286,
   "metadata": {},
   "outputs": [
    {
     "name": "stdout",
     "output_type": "stream",
     "text": [
      "<class 'pandas.core.frame.DataFrame'>\n",
      "RangeIndex: 2501 entries, 0 to 2500\n",
      "Data columns (total 5 columns):\n",
      "page_number    2501 non-null int64\n",
      "word           2501 non-null object\n",
      "sent_count     2501 non-null int64\n",
      "sentiment      2501 non-null int64\n",
      "category       2501 non-null object\n",
      "dtypes: int64(3), object(2)\n",
      "memory usage: 97.8+ KB\n"
     ]
    }
   ],
   "source": [
    "CCE20_ = CCE20.loc[:2500]\n",
    "CCE20_.info()"
   ]
  },
  {
   "cell_type": "code",
   "execution_count": 287,
   "metadata": {},
   "outputs": [
    {
     "data": {
      "text/plain": [
       "<matplotlib.axes._subplots.AxesSubplot at 0x14770fbbb70>"
      ]
     },
     "execution_count": 287,
     "metadata": {},
     "output_type": "execute_result"
    },
    {
     "data": {
      "image/png": "[encoded data removed]",
      "text/plain": [
       "<Figure size 432x288 with 1 Axes>"
      ]
     },
     "metadata": {
      "needs_background": "light"
     },
     "output_type": "display_data"
    }
   ],
   "source": [
    "CCE20_['sentiment'].hist()"
   ]
  },
  {
   "cell_type": "code",
   "execution_count": 288,
   "metadata": {},
   "outputs": [
    {
     "data": {
      "text/plain": [
       "<matplotlib.axes._subplots.AxesSubplot at 0x1477100d7b8>"
      ]
     },
     "execution_count": 288,
     "metadata": {},
     "output_type": "execute_result"
    },
    {
     "data": {
      "image/png": "[encoded data removed]",
      "text/plain": [
       "<Figure size 432x288 with 1 Axes>"
      ]
     },
     "metadata": {
      "needs_background": "light"
     },
     "output_type": "display_data"
    }
   ],
   "source": [
    "#calculate distributions for 2500 rows\n",
    "sns.distplot(CCE_.sentiment, kde=False)\n",
    "sns.distplot(CCE20_.sentiment, kde=False)"
   ]
  },
  {
   "cell_type": "code",
   "execution_count": 289,
   "metadata": {},
   "outputs": [],
   "source": [
    "from statsmodels.stats import weightstats as stests"
   ]
  },
  {
   "cell_type": "code",
   "execution_count": 291,
   "metadata": {},
   "outputs": [
    {
     "data": {
      "text/plain": [
       "Ttest_indResult(statistic=1.7723201879756205, pvalue=0.07640230397781947)"
      ]
     },
     "execution_count": 291,
     "metadata": {},
     "output_type": "execute_result"
    }
   ],
   "source": [
    "#ztest ,pval1 = stests.ztest(CCE_.sentiment, x2=CCE20_.sentiment, value=0,alternative='two-sided')\n",
    "#print(float(pval1))\n",
    "#if pval1<0.05:\n",
    "#    print(\"reject null hypothesis\")\n",
    "#else:\n",
    "#    print(\"accept null hypothesis\")\n",
    "stats.ttest_ind(CCE_.sentiment, CCE20_.sentiment) "
   ]
  },
  {
   "cell_type": "code",
   "execution_count": 292,
   "metadata": {},
   "outputs": [
    {
     "data": {
      "text/plain": [
       "Ttest_indResult(statistic=1.0657111971070683, pvalue=0.28656448593199585)"
      ]
     },
     "execution_count": 292,
     "metadata": {},
     "output_type": "execute_result"
    }
   ],
   "source": [
    "\n",
    "stats.ttest_ind(CCE.sentiment, CCE20.sentiment)   \n"
   ]
  },
  {
   "cell_type": "code",
   "execution_count": 293,
   "metadata": {},
   "outputs": [],
   "source": [
    "RCE14 = pd.read_csv(r\"C:\\unnati\\datascience\\data\\FY2014\\structured\\emotion\\RaleighCityEmotionDataFY14.csv\")\n",
    "RCE14.drop(['Unnamed: 0'], axis=1,inplace=True)"
   ]
  },
  {
   "cell_type": "code",
   "execution_count": 294,
   "metadata": {},
   "outputs": [],
   "source": [
    "RCE15 = pd.read_csv(r\"C:\\unnati\\datascience\\data\\FY2015\\structured\\emotion\\RaleighCityEmotionDataFY15.csv\")\n",
    "RCE15.drop(['Unnamed: 0'], axis=1,inplace=True)"
   ]
  },
  {
   "cell_type": "code",
   "execution_count": 295,
   "metadata": {},
   "outputs": [],
   "source": [
    "RCE14.sentiment = RCE14.sentiment.replace({\"Negative\": \"0\",\"Positive\": \"1\",\"Trust\" :\"2\",\"Sadness\":\"0\",\"Anticipation\":\"3\",\"Surprise\":\"4\",\"Fear\":\"5\",\"Joy\":\"6\",\"Anger\":\"7\",\"Disgust\":\"8\"})"
   ]
  },
  {
   "cell_type": "code",
   "execution_count": 296,
   "metadata": {},
   "outputs": [],
   "source": [
    "RCE15.sentiment = RCE15.sentiment.replace({\"Negative\": \"0\",\"Positive\": \"1\",\"Trust\" :\"2\",\"Sadness\":\"0\",\"Anticipation\":\"3\",\"Surprise\":\"4\",\"Fear\":\"5\",\"Joy\":\"6\",\"Anger\":\"7\",\"Disgust\":\"8\"})"
   ]
  },
  {
   "cell_type": "code",
   "execution_count": 297,
   "metadata": {},
   "outputs": [],
   "source": [
    "RCE14.sentiment = pd.to_numeric(RCE14['sentiment'])\n",
    "RCE15.sentiment = pd.to_numeric(RCE15['sentiment'])"
   ]
  },
  {
   "cell_type": "code",
   "execution_count": 298,
   "metadata": {},
   "outputs": [
    {
     "name": "stdout",
     "output_type": "stream",
     "text": [
      "<class 'pandas.core.frame.DataFrame'>\n",
      "RangeIndex: 3001 entries, 0 to 3000\n",
      "Data columns (total 5 columns):\n",
      "page_number    3001 non-null int64\n",
      "word           3001 non-null object\n",
      "sent_count     3001 non-null int64\n",
      "sentiment      3001 non-null int64\n",
      "category       3001 non-null object\n",
      "dtypes: int64(3), object(2)\n",
      "memory usage: 117.3+ KB\n"
     ]
    }
   ],
   "source": [
    "RCE14_ = RCE14.loc[:3000]\n",
    "RCE14_.info()"
   ]
  },
  {
   "cell_type": "code",
   "execution_count": 299,
   "metadata": {},
   "outputs": [
    {
     "name": "stdout",
     "output_type": "stream",
     "text": [
      "<class 'pandas.core.frame.DataFrame'>\n",
      "RangeIndex: 3001 entries, 0 to 3000\n",
      "Data columns (total 5 columns):\n",
      "page_number    3001 non-null int64\n",
      "word           3001 non-null object\n",
      "sent_count     3001 non-null int64\n",
      "sentiment      3001 non-null int64\n",
      "category       3001 non-null object\n",
      "dtypes: int64(3), object(2)\n",
      "memory usage: 117.3+ KB\n"
     ]
    }
   ],
   "source": [
    "RCE15_ = RCE15.loc[:3000]\n",
    "RCE15_.info()"
   ]
  },
  {
   "cell_type": "code",
   "execution_count": 300,
   "metadata": {},
   "outputs": [
    {
     "data": {
      "text/plain": [
       "<matplotlib.axes._subplots.AxesSubplot at 0x14770a7c4e0>"
      ]
     },
     "execution_count": 300,
     "metadata": {},
     "output_type": "execute_result"
    },
    {
     "data": {
      "image/png": "[encoded data removed]",
      "text/plain": [
       "<Figure size 432x288 with 1 Axes>"
      ]
     },
     "metadata": {
      "needs_background": "light"
     },
     "output_type": "display_data"
    }
   ],
   "source": [
    "#calculate distributions for 2500 rows\n",
    "sns.distplot(RCE14_.sentiment, kde=False)\n",
    "sns.distplot(RCE15_.sentiment, kde=False)"
   ]
  },
  {
   "cell_type": "code",
   "execution_count": 301,
   "metadata": {},
   "outputs": [
    {
     "name": "stdout",
     "output_type": "stream",
     "text": [
      "page_number    105.630123\n",
      "sent_count       3.251250\n",
      "sentiment        2.144952\n",
      "dtype: float64\n"
     ]
    }
   ],
   "source": [
    "print(RCE14_.mean())\n"
   ]
  },
  {
   "cell_type": "code",
   "execution_count": 302,
   "metadata": {},
   "outputs": [
    {
     "name": "stdout",
     "output_type": "stream",
     "text": [
      "page_number    98.399200\n",
      "sent_count      3.143619\n",
      "sentiment       2.153949\n",
      "dtype: float64\n"
     ]
    }
   ],
   "source": [
    "print(RCE15_.mean())"
   ]
  },
  {
   "cell_type": "markdown",
   "metadata": {},
   "source": [
    "H0 -> The sentiments remain same for consecutive years.\n",
    "H1 -> The sentiments does not remain same for consecutive years.\n",
    "To prove this Hypothesis two sample is performed and p-value threshold is p = 0.05"
   ]
  },
  {
   "cell_type": "code",
   "execution_count": 303,
   "metadata": {},
   "outputs": [
    {
     "data": {
      "text/plain": [
       "Ttest_indResult(statistic=-0.18305159908730417, pvalue=0.8547637171990914)"
      ]
     },
     "execution_count": 303,
     "metadata": {},
     "output_type": "execute_result"
    }
   ],
   "source": [
    "#two sample test for two years of raleigh document on 3000 words each\n",
    "stats.ttest_ind(RCE14_.sentiment, RCE15_.sentiment)"
   ]
  },
  {
   "cell_type": "markdown",
   "metadata": {},
   "source": [
    "As the p-value is much greater than threshold, we fail to reject Null Hypothesis"
   ]
  },
  {
   "cell_type": "code",
   "execution_count": 304,
   "metadata": {},
   "outputs": [
    {
     "data": {
      "text/plain": [
       "Ttest_indResult(statistic=-0.01835602192889385, pvalue=0.985355048138511)"
      ]
     },
     "execution_count": 304,
     "metadata": {},
     "output_type": "execute_result"
    }
   ],
   "source": [
    "#two sample test for two years of whole document for Raleigh City\n",
    "stats.ttest_ind(RCE14.sentiment, RCE15.sentiment)\n"
   ]
  },
  {
   "cell_type": "code",
   "execution_count": 305,
   "metadata": {},
   "outputs": [
    {
     "name": "stdout",
     "output_type": "stream",
     "text": [
      "page_number    107.911083\n",
      "sent_count       1.763304\n",
      "sentiment        2.223026\n",
      "dtype: float64\n"
     ]
    }
   ],
   "source": [
    "print(RCE14.mean())"
   ]
  },
  {
   "cell_type": "code",
   "execution_count": 306,
   "metadata": {},
   "outputs": [
    {
     "name": "stdout",
     "output_type": "stream",
     "text": [
      "page_number    104.663456\n",
      "sent_count       1.765014\n",
      "sentiment        2.223570\n",
      "dtype: float64\n"
     ]
    }
   ],
   "source": [
    "print(RCE15.mean())"
   ]
  }
 ],
 "metadata": {
  "kernelspec": {
   "display_name": "Python 3",
   "language": "python",
   "name": "python3"
  },
  "language_info": {
   "codemirror_mode": {
    "name": "ipython",
    "version": 3
   },
   "file_extension": ".py",
   "mimetype": "text/x-python",
   "name": "python",
   "nbconvert_exporter": "python",
   "pygments_lexer": "ipython3",
   "version": "3.7.3"
  }
 },
 "nbformat": 4,
 "nbformat_minor": 2
}
