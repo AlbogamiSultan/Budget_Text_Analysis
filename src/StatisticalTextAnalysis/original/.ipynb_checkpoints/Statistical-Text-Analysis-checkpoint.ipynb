{
 "cells": [
  {
   "cell_type": "markdown",
   "metadata": {},
   "source": [
    "## Statistical-Text-Analysis "
   ]
  },
  {
   "cell_type": "markdown",
   "metadata": {},
   "source": [
    "#### In this notebook, we will attempt to do the following:\n",
    "\n",
    "1. Find n-grams with n = 1, 2 and 3. \n",
    "\n",
    "2. Formulate a hypothesis about them and find a proper way to test the hypothesis."
   ]
  },
  {
   "cell_type": "code",
   "execution_count": 1,
   "metadata": {},
   "outputs": [],
   "source": [
    "import os\n",
    "import nltk\n",
    "import pandas as pd\n",
    "import numpy as np\n",
    "from scipy.stats import poisson\n",
    "import seaborn as sb\n",
    "import scipy.stats as stats\n",
    "import collections\n",
    "from collections import Counter\n",
    "import matplotlib as plt\n",
    "from matplotlib.pyplot import figure\n",
    "from matplotlib import style\n",
    "style.use('ggplot')\n",
    "import re"
   ]
  },
  {
   "cell_type": "code",
   "execution_count": 2,
   "metadata": {},
   "outputs": [],
   "source": [
    "# Change the current directory to read the data\n",
    "os.chdir(r\"C:\\Users\\Sultan\\Desktop\\data\\PreprocessedData\") "
   ]
  },
  {
   "cell_type": "markdown",
   "metadata": {},
   "source": [
    "#### Read the data"
   ]
  },
  {
   "cell_type": "code",
   "execution_count": 3,
   "metadata": {},
   "outputs": [
    {
     "data": {
      "text/html": [
       "<div>\n",
       "<style scoped>\n",
       "    .dataframe tbody tr th:only-of-type {\n",
       "        vertical-align: middle;\n",
       "    }\n",
       "\n",
       "    .dataframe tbody tr th {\n",
       "        vertical-align: top;\n",
       "    }\n",
       "\n",
       "    .dataframe thead th {\n",
       "        text-align: right;\n",
       "    }\n",
       "</style>\n",
       "<table border=\"1\" class=\"dataframe\">\n",
       "  <thead>\n",
       "    <tr style=\"text-align: right;\">\n",
       "      <th></th>\n",
       "      <th>ï»¿word</th>\n",
       "      <th>organization</th>\n",
       "      <th>year</th>\n",
       "    </tr>\n",
       "  </thead>\n",
       "  <tbody>\n",
       "    <tr>\n",
       "      <td>0</td>\n",
       "      <td>fiscal</td>\n",
       "      <td>Guilford County</td>\n",
       "      <td>FY2013</td>\n",
       "    </tr>\n",
       "    <tr>\n",
       "      <td>1</td>\n",
       "      <td>year</td>\n",
       "      <td>Guilford County</td>\n",
       "      <td>FY2013</td>\n",
       "    </tr>\n",
       "    <tr>\n",
       "      <td>2</td>\n",
       "      <td>adopted</td>\n",
       "      <td>Guilford County</td>\n",
       "      <td>FY2013</td>\n",
       "    </tr>\n",
       "    <tr>\n",
       "      <td>3</td>\n",
       "      <td>budget</td>\n",
       "      <td>Guilford County</td>\n",
       "      <td>FY2013</td>\n",
       "    </tr>\n",
       "    <tr>\n",
       "      <td>4</td>\n",
       "      <td>brenda</td>\n",
       "      <td>Guilford County</td>\n",
       "      <td>FY2013</td>\n",
       "    </tr>\n",
       "  </tbody>\n",
       "</table>\n",
       "</div>"
      ],
      "text/plain": [
       "   ï»¿word     organization    year\n",
       "0   fiscal  Guilford County  FY2013\n",
       "1     year  Guilford County  FY2013\n",
       "2  adopted  Guilford County  FY2013\n",
       "3   budget  Guilford County  FY2013\n",
       "4   brenda  Guilford County  FY2013"
      ]
     },
     "execution_count": 3,
     "metadata": {},
     "output_type": "execute_result"
    }
   ],
   "source": [
    "#Read csv file into a dataframe\n",
    "df = pd.read_csv(r'CombinedData.csv', engine='python')\n",
    "df.head()"
   ]
  },
  {
   "cell_type": "code",
   "execution_count": 4,
   "metadata": {},
   "outputs": [
    {
     "data": {
      "text/html": [
       "<div>\n",
       "<style scoped>\n",
       "    .dataframe tbody tr th:only-of-type {\n",
       "        vertical-align: middle;\n",
       "    }\n",
       "\n",
       "    .dataframe tbody tr th {\n",
       "        vertical-align: top;\n",
       "    }\n",
       "\n",
       "    .dataframe thead th {\n",
       "        text-align: right;\n",
       "    }\n",
       "</style>\n",
       "<table border=\"1\" class=\"dataframe\">\n",
       "  <thead>\n",
       "    <tr style=\"text-align: right;\">\n",
       "      <th></th>\n",
       "      <th>word</th>\n",
       "      <th>organization</th>\n",
       "      <th>year</th>\n",
       "    </tr>\n",
       "  </thead>\n",
       "  <tbody>\n",
       "    <tr>\n",
       "      <td>0</td>\n",
       "      <td>fiscal</td>\n",
       "      <td>Guilford County</td>\n",
       "      <td>FY2013</td>\n",
       "    </tr>\n",
       "    <tr>\n",
       "      <td>1</td>\n",
       "      <td>year</td>\n",
       "      <td>Guilford County</td>\n",
       "      <td>FY2013</td>\n",
       "    </tr>\n",
       "    <tr>\n",
       "      <td>2</td>\n",
       "      <td>adopted</td>\n",
       "      <td>Guilford County</td>\n",
       "      <td>FY2013</td>\n",
       "    </tr>\n",
       "    <tr>\n",
       "      <td>3</td>\n",
       "      <td>budget</td>\n",
       "      <td>Guilford County</td>\n",
       "      <td>FY2013</td>\n",
       "    </tr>\n",
       "    <tr>\n",
       "      <td>4</td>\n",
       "      <td>brenda</td>\n",
       "      <td>Guilford County</td>\n",
       "      <td>FY2013</td>\n",
       "    </tr>\n",
       "  </tbody>\n",
       "</table>\n",
       "</div>"
      ],
      "text/plain": [
       "      word     organization    year\n",
       "0   fiscal  Guilford County  FY2013\n",
       "1     year  Guilford County  FY2013\n",
       "2  adopted  Guilford County  FY2013\n",
       "3   budget  Guilford County  FY2013\n",
       "4   brenda  Guilford County  FY2013"
      ]
     },
     "execution_count": 4,
     "metadata": {},
     "output_type": "execute_result"
    }
   ],
   "source": [
    "# Rename col 0\n",
    "df.columns = ['word','organization','year']\n",
    "df.head()"
   ]
  },
  {
   "cell_type": "markdown",
   "metadata": {},
   "source": [
    "#### Creating Pandas Series out of the word col"
   ]
  },
  {
   "cell_type": "code",
   "execution_count": 5,
   "metadata": {},
   "outputs": [
    {
     "data": {
      "text/plain": [
       "0     fiscal\n",
       "1       year\n",
       "2    adopted\n",
       "3     budget\n",
       "4     brenda\n",
       "Name: word, dtype: object"
      ]
     },
     "execution_count": 5,
     "metadata": {},
     "output_type": "execute_result"
    }
   ],
   "source": [
    "text = df.word\n",
    "text.head()"
   ]
  },
  {
   "cell_type": "markdown",
   "metadata": {},
   "source": [
    "#### Extract all elements from the series"
   ]
  },
  {
   "cell_type": "code",
   "execution_count": 6,
   "metadata": {},
   "outputs": [],
   "source": [
    "# Join the elements and sperate them by a single space\n",
    "corpus = ' '.join(word for word in text)"
   ]
  },
  {
   "cell_type": "code",
   "execution_count": 7,
   "metadata": {},
   "outputs": [
    {
     "data": {
      "text/plain": [
       "'fiscal year adopted budget brenda jones county manager sharisse fuller assistant county managerhuman resource director prepared office budget management evaluation michael halford budget director '"
      ]
     },
     "execution_count": 7,
     "metadata": {},
     "output_type": "execute_result"
    }
   ],
   "source": [
    "corpus[:196] # Let's check the first 196 chars in the series"
   ]
  },
  {
   "cell_type": "code",
   "execution_count": 8,
   "metadata": {},
   "outputs": [],
   "source": [
    "# Tokenize the corpus\n",
    "tokens = nltk.word_tokenize(corpus)"
   ]
  },
  {
   "cell_type": "markdown",
   "metadata": {},
   "source": [
    "### 1. Uni-grams,  bi-grams and  tri-grams generation process"
   ]
  },
  {
   "cell_type": "markdown",
   "metadata": {},
   "source": [
    "#### Creating unigrams & computing their frequency"
   ]
  },
  {
   "cell_type": "code",
   "execution_count": 9,
   "metadata": {},
   "outputs": [
    {
     "data": {
      "text/html": [
       "<div>\n",
       "<style scoped>\n",
       "    .dataframe tbody tr th:only-of-type {\n",
       "        vertical-align: middle;\n",
       "    }\n",
       "\n",
       "    .dataframe tbody tr th {\n",
       "        vertical-align: top;\n",
       "    }\n",
       "\n",
       "    .dataframe thead th {\n",
       "        text-align: right;\n",
       "    }\n",
       "</style>\n",
       "<table border=\"1\" class=\"dataframe\">\n",
       "  <thead>\n",
       "    <tr style=\"text-align: right;\">\n",
       "      <th></th>\n",
       "      <th>unigram</th>\n",
       "      <th>unigram frequency</th>\n",
       "    </tr>\n",
       "  </thead>\n",
       "  <tbody>\n",
       "    <tr>\n",
       "      <td>0</td>\n",
       "      <td>fiscal</td>\n",
       "      <td>10505</td>\n",
       "    </tr>\n",
       "    <tr>\n",
       "      <td>1</td>\n",
       "      <td>year</td>\n",
       "      <td>21434</td>\n",
       "    </tr>\n",
       "    <tr>\n",
       "      <td>2</td>\n",
       "      <td>adopted</td>\n",
       "      <td>33916</td>\n",
       "    </tr>\n",
       "    <tr>\n",
       "      <td>3</td>\n",
       "      <td>budget</td>\n",
       "      <td>38652</td>\n",
       "    </tr>\n",
       "    <tr>\n",
       "      <td>4</td>\n",
       "      <td>brenda</td>\n",
       "      <td>18</td>\n",
       "    </tr>\n",
       "  </tbody>\n",
       "</table>\n",
       "</div>"
      ],
      "text/plain": [
       "   unigram  unigram frequency\n",
       "0   fiscal              10505\n",
       "1     year              21434\n",
       "2  adopted              33916\n",
       "3   budget              38652\n",
       "4   brenda                 18"
      ]
     },
     "execution_count": 9,
     "metadata": {},
     "output_type": "execute_result"
    }
   ],
   "source": [
    "# Create unigrams\n",
    "ugs_fdist = nltk.FreqDist(tokens)\n",
    "\n",
    "# Convert nltk freq dist to dictionary\n",
    "ugs_fdistDic = ugs_fdist.items()\n",
    "\n",
    "# Build a dataframe out of the dic\n",
    "ugs_df = pd.DataFrame.from_dict(ugs_fdistDic)\n",
    "\n",
    "ugs_df.columns = ['unigram','unigram frequency']\n",
    "ugs_df.head()"
   ]
  },
  {
   "cell_type": "markdown",
   "metadata": {},
   "source": [
    "#### Bigram"
   ]
  },
  {
   "cell_type": "code",
   "execution_count": 10,
   "metadata": {},
   "outputs": [
    {
     "data": {
      "text/html": [
       "<div>\n",
       "<style scoped>\n",
       "    .dataframe tbody tr th:only-of-type {\n",
       "        vertical-align: middle;\n",
       "    }\n",
       "\n",
       "    .dataframe tbody tr th {\n",
       "        vertical-align: top;\n",
       "    }\n",
       "\n",
       "    .dataframe thead th {\n",
       "        text-align: right;\n",
       "    }\n",
       "</style>\n",
       "<table border=\"1\" class=\"dataframe\">\n",
       "  <thead>\n",
       "    <tr style=\"text-align: right;\">\n",
       "      <th></th>\n",
       "      <th>bigram</th>\n",
       "      <th>bigram frequency</th>\n",
       "    </tr>\n",
       "  </thead>\n",
       "  <tbody>\n",
       "    <tr>\n",
       "      <td>0</td>\n",
       "      <td>(fiscal, year)</td>\n",
       "      <td>8841</td>\n",
       "    </tr>\n",
       "    <tr>\n",
       "      <td>1</td>\n",
       "      <td>(year, adopted)</td>\n",
       "      <td>4494</td>\n",
       "    </tr>\n",
       "    <tr>\n",
       "      <td>2</td>\n",
       "      <td>(adopted, budget)</td>\n",
       "      <td>7996</td>\n",
       "    </tr>\n",
       "    <tr>\n",
       "      <td>3</td>\n",
       "      <td>(budget, brenda)</td>\n",
       "      <td>1</td>\n",
       "    </tr>\n",
       "    <tr>\n",
       "      <td>4</td>\n",
       "      <td>(brenda, jones)</td>\n",
       "      <td>2</td>\n",
       "    </tr>\n",
       "  </tbody>\n",
       "</table>\n",
       "</div>"
      ],
      "text/plain": [
       "              bigram  bigram frequency\n",
       "0     (fiscal, year)              8841\n",
       "1    (year, adopted)              4494\n",
       "2  (adopted, budget)              7996\n",
       "3   (budget, brenda)                 1\n",
       "4    (brenda, jones)                 2"
      ]
     },
     "execution_count": 10,
     "metadata": {},
     "output_type": "execute_result"
    }
   ],
   "source": [
    "# Create bigrams\n",
    "bgs = nltk.bigrams(tokens)\n",
    "\n",
    "# Compute frequency distribution for all the bigrams in the corpus\n",
    "bgs_fdist = nltk.FreqDist(bgs)\n",
    "\n",
    "# Convert nltk freq dist to dictonary\n",
    "bgs_fdistDic = bgs_fdist.items()\n",
    "\n",
    "# Creating a data frame out of the dictionary \n",
    "bgs_df = pd.DataFrame.from_dict(bgs_fdistDic)\n",
    "bgs_df.columns = ['bigram', 'bigram frequency']\n",
    "bgs_df.head()"
   ]
  },
  {
   "cell_type": "markdown",
   "metadata": {},
   "source": [
    "####  Trigram"
   ]
  },
  {
   "cell_type": "code",
   "execution_count": 11,
   "metadata": {},
   "outputs": [
    {
     "data": {
      "text/html": [
       "<div>\n",
       "<style scoped>\n",
       "    .dataframe tbody tr th:only-of-type {\n",
       "        vertical-align: middle;\n",
       "    }\n",
       "\n",
       "    .dataframe tbody tr th {\n",
       "        vertical-align: top;\n",
       "    }\n",
       "\n",
       "    .dataframe thead th {\n",
       "        text-align: right;\n",
       "    }\n",
       "</style>\n",
       "<table border=\"1\" class=\"dataframe\">\n",
       "  <thead>\n",
       "    <tr style=\"text-align: right;\">\n",
       "      <th></th>\n",
       "      <th>trigram</th>\n",
       "      <th>trigram frequency</th>\n",
       "    </tr>\n",
       "  </thead>\n",
       "  <tbody>\n",
       "    <tr>\n",
       "      <td>0</td>\n",
       "      <td>(fiscal, year, adopted)</td>\n",
       "      <td>4272</td>\n",
       "    </tr>\n",
       "    <tr>\n",
       "      <td>1</td>\n",
       "      <td>(year, adopted, budget)</td>\n",
       "      <td>4361</td>\n",
       "    </tr>\n",
       "    <tr>\n",
       "      <td>2</td>\n",
       "      <td>(adopted, budget, brenda)</td>\n",
       "      <td>1</td>\n",
       "    </tr>\n",
       "    <tr>\n",
       "      <td>3</td>\n",
       "      <td>(budget, brenda, jones)</td>\n",
       "      <td>1</td>\n",
       "    </tr>\n",
       "    <tr>\n",
       "      <td>4</td>\n",
       "      <td>(brenda, jones, county)</td>\n",
       "      <td>2</td>\n",
       "    </tr>\n",
       "  </tbody>\n",
       "</table>\n",
       "</div>"
      ],
      "text/plain": [
       "                     trigram   trigram frequency\n",
       "0    (fiscal, year, adopted)                4272\n",
       "1    (year, adopted, budget)                4361\n",
       "2  (adopted, budget, brenda)                   1\n",
       "3    (budget, brenda, jones)                   1\n",
       "4    (brenda, jones, county)                   2"
      ]
     },
     "execution_count": 11,
     "metadata": {},
     "output_type": "execute_result"
    }
   ],
   "source": [
    "# Create trigrams\n",
    "tgs = nltk.trigrams(tokens)\n",
    "\n",
    "# Compute frequency distribution for all the trigrams in the corpus\n",
    "tgs_fdist = nltk.FreqDist(tgs)\n",
    "\n",
    "# Convert nltk freq dist to dictonary\n",
    "tgs_fdistDic = tgs_fdist.items()\n",
    "\n",
    "tgs_df = pd.DataFrame.from_dict(tgs_fdistDic)\n",
    "tgs_df.columns = ['trigram',' trigram frequency']\n",
    "tgs_df.head()"
   ]
  },
  {
   "cell_type": "markdown",
   "metadata": {},
   "source": [
    "### Plotting top 10 n-grams"
   ]
  },
  {
   "cell_type": "code",
   "execution_count": 12,
   "metadata": {},
   "outputs": [
    {
     "data": {
      "image/png": "[encoded data removed]",
      "text/plain": [
       "<Figure size 640x480 with 1 Axes>"
      ]
     },
     "metadata": {},
     "output_type": "display_data"
    },
    {
     "data": {
      "text/plain": [
       "<matplotlib.axes._subplots.AxesSubplot at 0x1b0a6fc3248>"
      ]
     },
     "execution_count": 12,
     "metadata": {},
     "output_type": "execute_result"
    }
   ],
   "source": [
    "# unigrams\n",
    "figure(num=None, figsize=(8, 6), dpi=80, facecolor='w', edgecolor='k')\n",
    "ugs_fdist.plot(10, cumulative=False)"
   ]
  },
  {
   "cell_type": "code",
   "execution_count": 13,
   "metadata": {},
   "outputs": [
    {
     "data": {
      "image/png": "[encoded data removed]",
      "text/plain": [
       "<Figure size 640x480 with 1 Axes>"
      ]
     },
     "metadata": {},
     "output_type": "display_data"
    },
    {
     "data": {
      "text/plain": [
       "<matplotlib.axes._subplots.AxesSubplot at 0x1b0b2755408>"
      ]
     },
     "execution_count": 13,
     "metadata": {},
     "output_type": "execute_result"
    }
   ],
   "source": [
    "# bigrams\n",
    "figure(num=None, figsize=(8, 6), dpi=80, facecolor='w', edgecolor='k')\n",
    "bgs_fdist.plot(10, cumulative=False)"
   ]
  },
  {
   "cell_type": "code",
   "execution_count": 14,
   "metadata": {},
   "outputs": [
    {
     "data": {
      "image/png": "[encoded data removed]",
      "text/plain": [
       "<Figure size 640x480 with 1 Axes>"
      ]
     },
     "metadata": {},
     "output_type": "display_data"
    },
    {
     "data": {
      "text/plain": [
       "<matplotlib.axes._subplots.AxesSubplot at 0x1b0b51ddb08>"
      ]
     },
     "execution_count": 14,
     "metadata": {},
     "output_type": "execute_result"
    }
   ],
   "source": [
    "# trigrams\n",
    "figure(num=None, figsize=(8, 6), dpi=80, facecolor='w', edgecolor='k')\n",
    "tgs_fdist.plot(10, cumulative=False)"
   ]
  },
  {
   "cell_type": "code",
   "execution_count": 15,
   "metadata": {},
   "outputs": [
    {
     "data": {
      "text/html": [
       "<div>\n",
       "<style scoped>\n",
       "    .dataframe tbody tr th:only-of-type {\n",
       "        vertical-align: middle;\n",
       "    }\n",
       "\n",
       "    .dataframe tbody tr th {\n",
       "        vertical-align: top;\n",
       "    }\n",
       "\n",
       "    .dataframe thead th {\n",
       "        text-align: right;\n",
       "    }\n",
       "</style>\n",
       "<table border=\"1\" class=\"dataframe\">\n",
       "  <thead>\n",
       "    <tr style=\"text-align: right;\">\n",
       "      <th></th>\n",
       "      <th>unigram</th>\n",
       "      <th>unigram frequency</th>\n",
       "      <th>bigram</th>\n",
       "      <th>bigram frequency</th>\n",
       "      <th>trigram</th>\n",
       "      <th>trigram frequency</th>\n",
       "    </tr>\n",
       "  </thead>\n",
       "  <tbody>\n",
       "    <tr>\n",
       "      <td>0</td>\n",
       "      <td>fiscal</td>\n",
       "      <td>10505</td>\n",
       "      <td>(fiscal, year)</td>\n",
       "      <td>8841</td>\n",
       "      <td>(fiscal, year, adopted)</td>\n",
       "      <td>4272</td>\n",
       "    </tr>\n",
       "    <tr>\n",
       "      <td>1</td>\n",
       "      <td>year</td>\n",
       "      <td>21434</td>\n",
       "      <td>(year, adopted)</td>\n",
       "      <td>4494</td>\n",
       "      <td>(year, adopted, budget)</td>\n",
       "      <td>4361</td>\n",
       "    </tr>\n",
       "    <tr>\n",
       "      <td>2</td>\n",
       "      <td>adopted</td>\n",
       "      <td>33916</td>\n",
       "      <td>(adopted, budget)</td>\n",
       "      <td>7996</td>\n",
       "      <td>(adopted, budget, brenda)</td>\n",
       "      <td>1</td>\n",
       "    </tr>\n",
       "    <tr>\n",
       "      <td>3</td>\n",
       "      <td>budget</td>\n",
       "      <td>38652</td>\n",
       "      <td>(budget, brenda)</td>\n",
       "      <td>1</td>\n",
       "      <td>(budget, brenda, jones)</td>\n",
       "      <td>1</td>\n",
       "    </tr>\n",
       "    <tr>\n",
       "      <td>4</td>\n",
       "      <td>brenda</td>\n",
       "      <td>18</td>\n",
       "      <td>(brenda, jones)</td>\n",
       "      <td>2</td>\n",
       "      <td>(brenda, jones, county)</td>\n",
       "      <td>2</td>\n",
       "    </tr>\n",
       "  </tbody>\n",
       "</table>\n",
       "</div>"
      ],
      "text/plain": [
       "   unigram  unigram frequency             bigram  bigram frequency  \\\n",
       "0   fiscal              10505     (fiscal, year)              8841   \n",
       "1     year              21434    (year, adopted)              4494   \n",
       "2  adopted              33916  (adopted, budget)              7996   \n",
       "3   budget              38652   (budget, brenda)                 1   \n",
       "4   brenda                 18    (brenda, jones)                 2   \n",
       "\n",
       "                     trigram   trigram frequency  \n",
       "0    (fiscal, year, adopted)                4272  \n",
       "1    (year, adopted, budget)                4361  \n",
       "2  (adopted, budget, brenda)                   1  \n",
       "3    (budget, brenda, jones)                   1  \n",
       "4    (brenda, jones, county)                   2  "
      ]
     },
     "execution_count": 15,
     "metadata": {},
     "output_type": "execute_result"
    }
   ],
   "source": [
    "# Let's merge all the dataframes\n",
    "ngrams_df = pd.merge(ugs_df, bgs_df, right_index=True, left_index=True).merge(tgs_df, right_index=True, left_index=True)\n",
    "\n",
    "ngrams_df.head()"
   ]
  },
  {
   "cell_type": "markdown",
   "metadata": {},
   "source": [
    "### 2.1 Hypothesis and Hypothesis Testing\n",
    "\n",
    "**Null Hypothesis ($H_0$):         The frequency distribution of the words is independant of the document size.**  \n",
    "**Alternative Hypothesis ($H_A$):  The frequency distribution of the words is dependant of the document size.**"
   ]
  },
  {
   "cell_type": "code",
   "execution_count": 16,
   "metadata": {},
   "outputs": [],
   "source": [
    "from collections import Counter \n",
    "\n",
    "# Now let's select the data entries from columns 'word' and 'organization' that \n",
    "# has the label FY2020 and store it in a different dataframe\n",
    "\n",
    "FY20_df = df.loc[df['year'] == 'FY2020', ['word', 'organization', 'year']]\n",
    "\n",
    "# Use loc to slice and extract 2020 data \n",
    "gc_df = FY20_df.loc[FY20_df['organization'] == 'Guilford County', ['word', 'organization']]\n",
    "cc_df = FY20_df.loc[FY20_df['organization'] == 'Charlotte City',  ['word', 'organization']]\n"
   ]
  },
  {
   "cell_type": "code",
   "execution_count": 17,
   "metadata": {},
   "outputs": [],
   "source": [
    "# For each text, join the elements and sperate them by a single space\n",
    "gc_text = gc_df.word \n",
    "gc_text = ' '.join(word for word in gc_text)\n",
    "gc_text = gc_text.split()                   \n",
    "\n",
    "cc_text = cc_df.word \n",
    "cc_text = ' '.join(word for word in cc_text)\n",
    "cc_text = cc_text.split()                   \n",
    "\n",
    "# Now let's make a list of lists with each org. having its corresponding text. \n",
    "data = [['Guilford County', gc_text], ['Charlotte City', cc_text]]"
   ]
  },
  {
   "cell_type": "code",
   "execution_count": 18,
   "metadata": {},
   "outputs": [],
   "source": [
    "# One more step, let's create a data frame from the list of lists we have\n",
    "df_stats = pd.DataFrame(data, columns = ['organization', 'content'])"
   ]
  },
  {
   "cell_type": "code",
   "execution_count": 19,
   "metadata": {},
   "outputs": [
    {
     "data": {
      "text/html": [
       "<div>\n",
       "<style scoped>\n",
       "    .dataframe tbody tr th:only-of-type {\n",
       "        vertical-align: middle;\n",
       "    }\n",
       "\n",
       "    .dataframe tbody tr th {\n",
       "        vertical-align: top;\n",
       "    }\n",
       "\n",
       "    .dataframe thead th {\n",
       "        text-align: right;\n",
       "    }\n",
       "</style>\n",
       "<table border=\"1\" class=\"dataframe\">\n",
       "  <thead>\n",
       "    <tr style=\"text-align: right;\">\n",
       "      <th></th>\n",
       "      <th>organization</th>\n",
       "      <th>content</th>\n",
       "    </tr>\n",
       "  </thead>\n",
       "  <tbody>\n",
       "    <tr>\n",
       "      <td>0</td>\n",
       "      <td>Guilford County</td>\n",
       "      <td>[guilford, county, number, make, count, county...</td>\n",
       "    </tr>\n",
       "    <tr>\n",
       "      <td>1</td>\n",
       "      <td>Charlotte City</td>\n",
       "      <td>[ensuring, equitable, sustainable, resilient, ...</td>\n",
       "    </tr>\n",
       "  </tbody>\n",
       "</table>\n",
       "</div>"
      ],
      "text/plain": [
       "      organization                                            content\n",
       "0  Guilford County  [guilford, county, number, make, count, county...\n",
       "1   Charlotte City  [ensuring, equitable, sustainable, resilient, ..."
      ]
     },
     "execution_count": 19,
     "metadata": {},
     "output_type": "execute_result"
    }
   ],
   "source": [
    "df_stats"
   ]
  },
  {
   "cell_type": "code",
   "execution_count": 20,
   "metadata": {},
   "outputs": [],
   "source": [
    "# fit the word frequency \n",
    "for i in range (0, len(df_stats['content'])):\n",
    "    counts= list(collections.Counter(df_stats['content'][i]).most_common(1000))\n",
    "    df_freq = pd.DataFrame(counts, columns=['word', 'frequency'])\n",
    "    s = np.array(df_freq['frequency'])"
   ]
  },
  {
   "cell_type": "code",
   "execution_count": 21,
   "metadata": {
    "scrolled": true
   },
   "outputs": [
    {
     "data": {
      "text/plain": [
       "<matplotlib.lines.Line2D at 0x1b0bdad4648>"
      ]
     },
     "execution_count": 21,
     "metadata": {},
     "output_type": "execute_result"
    },
    {
     "data": {
      "image/png": "[encoded data removed]",
      "text/plain": [
       "<Figure size 720x576 with 1 Axes>"
      ]
     },
     "metadata": {
      "needs_background": "light"
     },
     "output_type": "display_data"
    }
   ],
   "source": [
    "import matplotlib.pyplot as plt\n",
    "\n",
    "counts1= list(collections.Counter(df_stats['content'][0]).most_common(1000))\n",
    "df1 = pd.DataFrame(counts1, columns=['word', 'frequency1'])\n",
    "s1 = np.array(df1['frequency1'])\n",
    "m1 = df1['frequency1'].mean()\n",
    "\n",
    "plt.figure(figsize=(10,8))\n",
    "plt.hist(s1, bins=30, edgecolor='k', alpha=0.65)\n",
    "plt.axvline(s.mean(), color='r', linestyle='dashed', linewidth=1)"
   ]
  },
  {
   "cell_type": "code",
   "execution_count": 22,
   "metadata": {},
   "outputs": [
    {
     "data": {
      "text/plain": [
       "<matplotlib.lines.Line2D at 0x1b0bde89848>"
      ]
     },
     "execution_count": 22,
     "metadata": {},
     "output_type": "execute_result"
    },
    {
     "data": {
      "image/png": "[encoded data removed]",
      "text/plain": [
       "<Figure size 720x576 with 1 Axes>"
      ]
     },
     "metadata": {
      "needs_background": "light"
     },
     "output_type": "display_data"
    }
   ],
   "source": [
    "counts2 = list(collections.Counter(df_stats['content'][1]).most_common(1000))\n",
    "df2 = pd.DataFrame(counts2, columns=['word', 'frequency2'])\n",
    "s2 = np.array(df2['frequency2'])\n",
    "m2 = df2['frequency2'].mean()\n",
    "\n",
    "plt.figure(figsize=(10,8))\n",
    "plt.hist(s2, bins=30, edgecolor='k', alpha=0.65)\n",
    "plt.axvline(s.mean(), color='r', linestyle='dashed', linewidth=1)"
   ]
  },
  {
   "cell_type": "code",
   "execution_count": 23,
   "metadata": {},
   "outputs": [
    {
     "data": {
      "text/html": [
       "<div>\n",
       "<style scoped>\n",
       "    .dataframe tbody tr th:only-of-type {\n",
       "        vertical-align: middle;\n",
       "    }\n",
       "\n",
       "    .dataframe tbody tr th {\n",
       "        vertical-align: top;\n",
       "    }\n",
       "\n",
       "    .dataframe thead th {\n",
       "        text-align: right;\n",
       "    }\n",
       "</style>\n",
       "<table border=\"1\" class=\"dataframe\">\n",
       "  <thead>\n",
       "    <tr style=\"text-align: right;\">\n",
       "      <th></th>\n",
       "      <th>word</th>\n",
       "      <th>frequency1</th>\n",
       "      <th>frequency2</th>\n",
       "    </tr>\n",
       "  </thead>\n",
       "  <tbody>\n",
       "    <tr>\n",
       "      <td>0</td>\n",
       "      <td>county</td>\n",
       "      <td>1617</td>\n",
       "      <td>91</td>\n",
       "    </tr>\n",
       "    <tr>\n",
       "      <td>1</td>\n",
       "      <td>service</td>\n",
       "      <td>1305</td>\n",
       "      <td>874</td>\n",
       "    </tr>\n",
       "    <tr>\n",
       "      <td>2</td>\n",
       "      <td>budget</td>\n",
       "      <td>912</td>\n",
       "      <td>704</td>\n",
       "    </tr>\n",
       "    <tr>\n",
       "      <td>3</td>\n",
       "      <td>fund</td>\n",
       "      <td>892</td>\n",
       "      <td>753</td>\n",
       "    </tr>\n",
       "    <tr>\n",
       "      <td>4</td>\n",
       "      <td>total</td>\n",
       "      <td>702</td>\n",
       "      <td>614</td>\n",
       "    </tr>\n",
       "  </tbody>\n",
       "</table>\n",
       "</div>"
      ],
      "text/plain": [
       "      word  frequency1  frequency2\n",
       "0   county        1617          91\n",
       "1  service        1305         874\n",
       "2   budget         912         704\n",
       "3     fund         892         753\n",
       "4    total         702         614"
      ]
     },
     "execution_count": 23,
     "metadata": {},
     "output_type": "execute_result"
    }
   ],
   "source": [
    "common_words = pd.merge(df1, df2, on='word', how='inner')\n",
    "common_words.head()"
   ]
  },
  {
   "cell_type": "code",
   "execution_count": 24,
   "metadata": {},
   "outputs": [],
   "source": [
    "s1 = common_words['frequency1']\n",
    "s2= common_words['frequency2']"
   ]
  },
  {
   "cell_type": "code",
   "execution_count": 25,
   "metadata": {},
   "outputs": [
    {
     "data": {
      "text/plain": [
       "Ttest_indResult(statistic=0.7742338408473467, pvalue=0.43894556137008567)"
      ]
     },
     "execution_count": 25,
     "metadata": {},
     "output_type": "execute_result"
    }
   ],
   "source": [
    "stats.ttest_ind(a= s1,\n",
    "                b= s2,\n",
    "                equal_var=False)"
   ]
  },
  {
   "cell_type": "markdown",
   "metadata": {},
   "source": [
    "#### Conclusion: \n",
    "\n",
    "\n",
    "Since **P < 0.005**, We reject the $H_0$ and retain $H_1$ that is the frequency distribution of the words is dependant of the document size."
   ]
  },
  {
   "cell_type": "markdown",
   "metadata": {},
   "source": [
    "### 2.2 Hypothesis and Hypothesis Testing"
   ]
  },
  {
   "cell_type": "code",
   "execution_count": 26,
   "metadata": {},
   "outputs": [
    {
     "data": {
      "text/plain": [
       "3184264"
      ]
     },
     "execution_count": 26,
     "metadata": {},
     "output_type": "execute_result"
    }
   ],
   "source": [
    "len(df.word) # Lengeth of our corpus. We will need it to calculate the chances of occurance"
   ]
  },
  {
   "cell_type": "markdown",
   "metadata": {},
   "source": [
    "What we want to know is whether two words co-occur more frequently than chance.\n",
    "\n",
    "**Null Hypothesis ($H_0$):         There is no assocation between the words beyond chance occurrences.**  \n",
    "**Alternative Hypothesis ($H_A$):  There is assocation between the words beyond chance occurrences.**\n",
    "\n",
    "To test our hypothesis we will be using the **t test** that is:\n",
    "\n",
    "\\begin{equation*}\n",
    "{t} = \\frac{\\bar x \\ - \\  u}{\\sqrt {\\frac {s^2}{N}}}\n",
    "\\end{equation*}\n",
    "\n",
    "where $\\bar x$ is the sample mean, μ is the mean of distribution, $s^2$ is the sample variance, and N is the sample size. \n",
    "\n"
   ]
  },
  {
   "cell_type": "markdown",
   "metadata": {},
   "source": [
    "Consider the bigram sample (fiscal, year) co-occurring 8841 times with its component words fiscal occurring 10505 times and year 21434 times. Now to compute the chances of their co-occurrances we will use the maximum likelihood that is to find:\n",
    "\n",
    "\\begin{equation*}\n",
    "{P(W_1 \\ W_2)} = {P(W_1)} \\ {x} \\  {P(W_2)}\n",
    "\\end{equation*}\n",
    "\n",
    "\n",
    "Our corpus consists of '3184264' tokens, so to find to the probability of the occurance of one word is as follows:\n",
    "\n",
    "\\begin{equation*}\n",
    "{P(W)} = \\frac{W \\ number \\ of \\ occurrences}{number \\ of \\ tokens}\n",
    "\\end{equation*}\n",
    "\n",
    "So, \n",
    "\n",
    "\\begin{equation*}\n",
    "{P(fiscal)} = \\frac{10505}{3184264} \\approx {\\ 0.00330} \n",
    "\\end{equation*}\n",
    "\n",
    "And, \n",
    "\n",
    "\\begin{equation*}\n",
    "{P(year)} = \\frac{21434}{3184264} \\approx {\\ 0.00673}\n",
    "\\end{equation*}\n",
    "\n",
    "                  \n",
    "${H_0}:$\n",
    "\n",
    "\\begin{equation*}\n",
    "{P(fiscal \\ year)} = {P(fiscal)}{\\ x \\ }{P(year)} = {(0.00330)} \\ {x} \\  {(0.00673)} \\approx {2.2209 x 10 \\ ^{- \\ 5}}\n",
    "\\end{equation*}\n",
    "\n",
    "\n",
    "               \n",
    "The statment made is that the co-occurrences of the words **fiscal** and **year** is indepandent. \n",
    "\n",
    "The variance $a^{2} = p(p-1) \\approx p$ as p is small. \n",
    "\n",
    "The mean for the this specific distribution is \n",
    "\n",
    "\\begin{equation*}\n",
    "{u} \\approx {2.2209 \\ x \\  10 \\ ^{- \\ 5}}\n",
    "\\end{equation*}\n",
    "\n",
    "The sample mean $\\bar x$ = $ \\frac {8841}{3184264} = 0.002780 $"
   ]
  },
  {
   "cell_type": "markdown",
   "metadata": {},
   "source": [
    "#### Now we have got everything we need for t test, let's apply it."
   ]
  },
  {
   "cell_type": "markdown",
   "metadata": {},
   "source": [
    "\\begin{equation*}\n",
    "{t} = \\frac{\\bar x \\ - \\  u}{\\sqrt {\\frac {s^2}{N}}}\n",
    "\\end{equation*}\n",
    "\n",
    "\\begin{equation*}\n",
    " = \\frac{ 0.002780 \\ - \\  2.2209 \\ x \\ 10 \\ ^{− \\ 5}} {\\sqrt {\\frac {0.002780}{3184264}}} \\approx {3.1366024 \\ x \\  10 \\ ^{- \\ 4}}\n",
    "\\end{equation*}"
   ]
  },
  {
   "cell_type": "markdown",
   "metadata": {},
   "source": [
    "Reject or accept $H_0$? \n",
    "\n",
    "Reject as t value is less than chance occurrences."
   ]
  },
  {
   "cell_type": "markdown",
   "metadata": {},
   "source": [
    "## Work Cited"
   ]
  },
  {
   "cell_type": "markdown",
   "metadata": {},
   "source": [
    "**[Chris Manning and Hinrich Schütze, Foundations of Statistical Natural Language Processing, MIT Press. Cambridge, MA: May 1999.](https://nlp.stanford.edu/fsnlp/)** "
   ]
  },
  {
   "cell_type": "code",
   "execution_count": null,
   "metadata": {},
   "outputs": [],
   "source": []
  }
 ],
 "metadata": {
  "kernelspec": {
   "display_name": "Python 3",
   "language": "python",
   "name": "python3"
  },
  "language_info": {
   "codemirror_mode": {
    "name": "ipython",
    "version": 3
   },
   "file_extension": ".py",
   "mimetype": "text/x-python",
   "name": "python",
   "nbconvert_exporter": "python",
   "pygments_lexer": "ipython3",
   "version": "3.7.4"
  }
 },
 "nbformat": 4,
 "nbformat_minor": 2
}
