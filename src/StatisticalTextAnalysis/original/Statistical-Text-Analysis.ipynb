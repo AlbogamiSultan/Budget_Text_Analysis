{
 "cells": [
  {
   "cell_type": "markdown",
   "metadata": {},
   "source": [
    "## Statistical-Text-Analysis "
   ]
  },
  {
   "cell_type": "code",
   "execution_count": 66,
   "metadata": {},
   "outputs": [],
   "source": [
    "import os\n",
    "import nltk\n",
    "import pandas as pd\n",
    "import numpy as np\n",
    "import matplotlib as plt\n",
    "from matplotlib.pyplot import figure\n",
    "from matplotlib import style\n",
    "style.use('ggplot')\n",
    "import re"
   ]
  },
  {
   "cell_type": "code",
   "execution_count": 2,
   "metadata": {},
   "outputs": [],
   "source": [
    "# Change the current directory to read the data\n",
    "os.chdir(r\"C:\\Users\\Sultan\\Desktop\\data\\PreprocessedData\") "
   ]
  },
  {
   "cell_type": "markdown",
   "metadata": {},
   "source": [
    "#### Read the data"
   ]
  },
  {
   "cell_type": "code",
   "execution_count": 84,
   "metadata": {},
   "outputs": [],
   "source": [
    "#Read csv file into a dataframe\n",
    "df = pd.read_csv(r'CombinedData.csv', engine='python')"
   ]
  },
  {
   "cell_type": "code",
   "execution_count": 4,
   "metadata": {},
   "outputs": [
    {
     "data": {
      "text/html": [
       "<div>\n",
       "<style scoped>\n",
       "    .dataframe tbody tr th:only-of-type {\n",
       "        vertical-align: middle;\n",
       "    }\n",
       "\n",
       "    .dataframe tbody tr th {\n",
       "        vertical-align: top;\n",
       "    }\n",
       "\n",
       "    .dataframe thead th {\n",
       "        text-align: right;\n",
       "    }\n",
       "</style>\n",
       "<table border=\"1\" class=\"dataframe\">\n",
       "  <thead>\n",
       "    <tr style=\"text-align: right;\">\n",
       "      <th></th>\n",
       "      <th>ï»¿word</th>\n",
       "      <th>organization</th>\n",
       "      <th>year</th>\n",
       "    </tr>\n",
       "  </thead>\n",
       "  <tbody>\n",
       "    <tr>\n",
       "      <td>0</td>\n",
       "      <td>fiscal</td>\n",
       "      <td>Guilford County</td>\n",
       "      <td>FY2013</td>\n",
       "    </tr>\n",
       "    <tr>\n",
       "      <td>1</td>\n",
       "      <td>year</td>\n",
       "      <td>Guilford County</td>\n",
       "      <td>FY2013</td>\n",
       "    </tr>\n",
       "    <tr>\n",
       "      <td>2</td>\n",
       "      <td>adopted</td>\n",
       "      <td>Guilford County</td>\n",
       "      <td>FY2013</td>\n",
       "    </tr>\n",
       "    <tr>\n",
       "      <td>3</td>\n",
       "      <td>budget</td>\n",
       "      <td>Guilford County</td>\n",
       "      <td>FY2013</td>\n",
       "    </tr>\n",
       "    <tr>\n",
       "      <td>4</td>\n",
       "      <td>brenda</td>\n",
       "      <td>Guilford County</td>\n",
       "      <td>FY2013</td>\n",
       "    </tr>\n",
       "  </tbody>\n",
       "</table>\n",
       "</div>"
      ],
      "text/plain": [
       "   ï»¿word     organization    year\n",
       "0   fiscal  Guilford County  FY2013\n",
       "1     year  Guilford County  FY2013\n",
       "2  adopted  Guilford County  FY2013\n",
       "3   budget  Guilford County  FY2013\n",
       "4   brenda  Guilford County  FY2013"
      ]
     },
     "execution_count": 4,
     "metadata": {},
     "output_type": "execute_result"
    }
   ],
   "source": [
    "df.head()"
   ]
  },
  {
   "cell_type": "code",
   "execution_count": 85,
   "metadata": {},
   "outputs": [
    {
     "data": {
      "text/html": [
       "<div>\n",
       "<style scoped>\n",
       "    .dataframe tbody tr th:only-of-type {\n",
       "        vertical-align: middle;\n",
       "    }\n",
       "\n",
       "    .dataframe tbody tr th {\n",
       "        vertical-align: top;\n",
       "    }\n",
       "\n",
       "    .dataframe thead th {\n",
       "        text-align: right;\n",
       "    }\n",
       "</style>\n",
       "<table border=\"1\" class=\"dataframe\">\n",
       "  <thead>\n",
       "    <tr style=\"text-align: right;\">\n",
       "      <th></th>\n",
       "      <th>word</th>\n",
       "      <th>organization</th>\n",
       "      <th>year</th>\n",
       "    </tr>\n",
       "  </thead>\n",
       "  <tbody>\n",
       "    <tr>\n",
       "      <td>0</td>\n",
       "      <td>fiscal</td>\n",
       "      <td>Guilford County</td>\n",
       "      <td>FY2013</td>\n",
       "    </tr>\n",
       "    <tr>\n",
       "      <td>1</td>\n",
       "      <td>year</td>\n",
       "      <td>Guilford County</td>\n",
       "      <td>FY2013</td>\n",
       "    </tr>\n",
       "    <tr>\n",
       "      <td>2</td>\n",
       "      <td>adopted</td>\n",
       "      <td>Guilford County</td>\n",
       "      <td>FY2013</td>\n",
       "    </tr>\n",
       "    <tr>\n",
       "      <td>3</td>\n",
       "      <td>budget</td>\n",
       "      <td>Guilford County</td>\n",
       "      <td>FY2013</td>\n",
       "    </tr>\n",
       "    <tr>\n",
       "      <td>4</td>\n",
       "      <td>brenda</td>\n",
       "      <td>Guilford County</td>\n",
       "      <td>FY2013</td>\n",
       "    </tr>\n",
       "  </tbody>\n",
       "</table>\n",
       "</div>"
      ],
      "text/plain": [
       "      word     organization    year\n",
       "0   fiscal  Guilford County  FY2013\n",
       "1     year  Guilford County  FY2013\n",
       "2  adopted  Guilford County  FY2013\n",
       "3   budget  Guilford County  FY2013\n",
       "4   brenda  Guilford County  FY2013"
      ]
     },
     "execution_count": 85,
     "metadata": {},
     "output_type": "execute_result"
    }
   ],
   "source": [
    "# Rename col 0\n",
    "df.columns = ['word','organization','year']\n",
    "df.head()"
   ]
  },
  {
   "cell_type": "code",
   "execution_count": 86,
   "metadata": {},
   "outputs": [
    {
     "data": {
      "text/plain": [
       "FY2017    419031\n",
       "FY2020    416519\n",
       "FY2016    411459\n",
       "FY2018    407995\n",
       "FY2015    395117\n",
       "FY2014    388053\n",
       "FY2013    383771\n",
       "FY2019    362319\n",
       "Name: year, dtype: int64"
      ]
     },
     "execution_count": 86,
     "metadata": {},
     "output_type": "execute_result"
    }
   ],
   "source": [
    "df['year'].value_counts()"
   ]
  },
  {
   "cell_type": "markdown",
   "metadata": {},
   "source": [
    "#### Creating Pandas Series out of the word col"
   ]
  },
  {
   "cell_type": "code",
   "execution_count": 7,
   "metadata": {},
   "outputs": [
    {
     "data": {
      "text/plain": [
       "0     fiscal\n",
       "1       year\n",
       "2    adopted\n",
       "3     budget\n",
       "4     brenda\n",
       "Name: word, dtype: object"
      ]
     },
     "execution_count": 7,
     "metadata": {},
     "output_type": "execute_result"
    }
   ],
   "source": [
    "text = df.word\n",
    "text.head()"
   ]
  },
  {
   "cell_type": "markdown",
   "metadata": {},
   "source": [
    "#### Extract all elements from the series"
   ]
  },
  {
   "cell_type": "code",
   "execution_count": 8,
   "metadata": {},
   "outputs": [],
   "source": [
    "# Join the elements and sperate them by a single space\n",
    "corpus = ' '.join(word for word in text)"
   ]
  },
  {
   "cell_type": "code",
   "execution_count": 9,
   "metadata": {},
   "outputs": [
    {
     "data": {
      "text/plain": [
       "26796670"
      ]
     },
     "execution_count": 9,
     "metadata": {},
     "output_type": "execute_result"
    }
   ],
   "source": [
    "len(corpus)"
   ]
  },
  {
   "cell_type": "code",
   "execution_count": 10,
   "metadata": {},
   "outputs": [
    {
     "data": {
      "text/plain": [
       "'fiscal year adopted budget brenda jones county manager sharisse fuller assistant county managerhuman resources director prepared office budget management evaluation michael halford budget director'"
      ]
     },
     "execution_count": 10,
     "metadata": {},
     "output_type": "execute_result"
    }
   ],
   "source": [
    "corpus[:196] # Let's see the first 196 chars in the series"
   ]
  },
  {
   "cell_type": "markdown",
   "metadata": {},
   "source": [
    "#### Tokenizing +  Building bigrams "
   ]
  },
  {
   "cell_type": "code",
   "execution_count": 11,
   "metadata": {},
   "outputs": [],
   "source": [
    "# Tokenize\n",
    "tokens = nltk.word_tokenize(corpus)\n",
    "\n",
    "# Create bigrams\n",
    "bgs = nltk.bigrams(tokens)"
   ]
  },
  {
   "cell_type": "markdown",
   "metadata": {},
   "source": [
    "#### Computing raw frequency of the bigrams"
   ]
  },
  {
   "cell_type": "code",
   "execution_count": 12,
   "metadata": {},
   "outputs": [],
   "source": [
    "# Compute frequency distribution for all the bigrams in the corpus\n",
    "bgs_fdist = nltk.FreqDist(bgs)\n",
    "\n",
    "# Convert nltk freq dist to dictonary\n",
    "bgs_fdistDic = bgs_fdist.items()"
   ]
  },
  {
   "cell_type": "markdown",
   "metadata": {},
   "source": [
    "#### Creating a data frame out of the dictionary "
   ]
  },
  {
   "cell_type": "code",
   "execution_count": 13,
   "metadata": {},
   "outputs": [
    {
     "data": {
      "text/html": [
       "<div>\n",
       "<style scoped>\n",
       "    .dataframe tbody tr th:only-of-type {\n",
       "        vertical-align: middle;\n",
       "    }\n",
       "\n",
       "    .dataframe tbody tr th {\n",
       "        vertical-align: top;\n",
       "    }\n",
       "\n",
       "    .dataframe thead th {\n",
       "        text-align: right;\n",
       "    }\n",
       "</style>\n",
       "<table border=\"1\" class=\"dataframe\">\n",
       "  <thead>\n",
       "    <tr style=\"text-align: right;\">\n",
       "      <th></th>\n",
       "      <th>bigram</th>\n",
       "      <th>frequency</th>\n",
       "    </tr>\n",
       "  </thead>\n",
       "  <tbody>\n",
       "    <tr>\n",
       "      <td>0</td>\n",
       "      <td>(fiscal, year)</td>\n",
       "      <td>8461</td>\n",
       "    </tr>\n",
       "    <tr>\n",
       "      <td>1</td>\n",
       "      <td>(year, adopted)</td>\n",
       "      <td>4405</td>\n",
       "    </tr>\n",
       "    <tr>\n",
       "      <td>2</td>\n",
       "      <td>(adopted, budget)</td>\n",
       "      <td>7968</td>\n",
       "    </tr>\n",
       "    <tr>\n",
       "      <td>3</td>\n",
       "      <td>(budget, brenda)</td>\n",
       "      <td>1</td>\n",
       "    </tr>\n",
       "    <tr>\n",
       "      <td>4</td>\n",
       "      <td>(brenda, jones)</td>\n",
       "      <td>2</td>\n",
       "    </tr>\n",
       "  </tbody>\n",
       "</table>\n",
       "</div>"
      ],
      "text/plain": [
       "              bigram  frequency\n",
       "0     (fiscal, year)       8461\n",
       "1    (year, adopted)       4405\n",
       "2  (adopted, budget)       7968\n",
       "3   (budget, brenda)          1\n",
       "4    (brenda, jones)          2"
      ]
     },
     "execution_count": 13,
     "metadata": {},
     "output_type": "execute_result"
    }
   ],
   "source": [
    "bgs_fdist_df = pd.DataFrame.from_dict(bgs_fdistDic)\n",
    "bgs_fdist_df.columns = ['bigram','frequency']\n",
    "bgs_fdist_df.head()"
   ]
  },
  {
   "cell_type": "markdown",
   "metadata": {},
   "source": [
    "#### Adding the bigrams and their frequency score to the original dataframe"
   ]
  },
  {
   "cell_type": "code",
   "execution_count": 14,
   "metadata": {},
   "outputs": [],
   "source": [
    "df['bigram'] = bgs_fdist_df['bigram']\n",
    "df['bigram frequency'] = bgs_fdist_df['frequency']"
   ]
  },
  {
   "cell_type": "markdown",
   "metadata": {},
   "source": [
    "#### Creating trigrams & computing their frequency"
   ]
  },
  {
   "cell_type": "code",
   "execution_count": 15,
   "metadata": {},
   "outputs": [],
   "source": [
    "# Create trigrams\n",
    "tgs = nltk.trigrams(tokens)"
   ]
  },
  {
   "cell_type": "code",
   "execution_count": 16,
   "metadata": {},
   "outputs": [],
   "source": [
    "# Compute frequency distribution for all the trigrams in the corpus\n",
    "tgs_fdist = nltk.FreqDist(tgs)\n",
    "\n",
    "# Convert nltk freq dist to dictonary\n",
    "tgs_fdistDic = tgs_fdist.items()"
   ]
  },
  {
   "cell_type": "code",
   "execution_count": 17,
   "metadata": {},
   "outputs": [],
   "source": [
    "tgs_fdist_df = pd.DataFrame.from_dict(tgs_fdistDic)\n",
    "tgs_fdist_df.columns = ['trigram','frequency']"
   ]
  },
  {
   "cell_type": "code",
   "execution_count": 18,
   "metadata": {},
   "outputs": [],
   "source": [
    "df['trigram'] = tgs_fdist_df['trigram']\n",
    "df['trigram frequency'] = tgs_fdist_df['frequency']"
   ]
  },
  {
   "cell_type": "markdown",
   "metadata": {},
   "source": [
    "#### Sort the frequency distributions in a descending order"
   ]
  },
  {
   "cell_type": "code",
   "execution_count": 19,
   "metadata": {},
   "outputs": [],
   "source": [
    "df_bgsBased = df.sort_values('bigram frequency', ascending= False)\n",
    "df_tgsBased = df.sort_values('trigram frequency', ascending= False)"
   ]
  },
  {
   "cell_type": "code",
   "execution_count": 20,
   "metadata": {},
   "outputs": [
    {
     "data": {
      "text/html": [
       "<div>\n",
       "<style scoped>\n",
       "    .dataframe tbody tr th:only-of-type {\n",
       "        vertical-align: middle;\n",
       "    }\n",
       "\n",
       "    .dataframe tbody tr th {\n",
       "        vertical-align: top;\n",
       "    }\n",
       "\n",
       "    .dataframe thead th {\n",
       "        text-align: right;\n",
       "    }\n",
       "</style>\n",
       "<table border=\"1\" class=\"dataframe\">\n",
       "  <thead>\n",
       "    <tr style=\"text-align: right;\">\n",
       "      <th></th>\n",
       "      <th>word</th>\n",
       "      <th>organization</th>\n",
       "      <th>year</th>\n",
       "      <th>bigram</th>\n",
       "      <th>bigram frequency</th>\n",
       "      <th>trigram</th>\n",
       "      <th>trigram frequency</th>\n",
       "    </tr>\n",
       "  </thead>\n",
       "  <tbody>\n",
       "    <tr>\n",
       "      <td>5926</td>\n",
       "      <td>health</td>\n",
       "      <td>Guilford County</td>\n",
       "      <td>FY2013</td>\n",
       "      <td>(adopted, adopted)</td>\n",
       "      <td>10083.0</td>\n",
       "      <td>(pcroftsdgfld, emerg, svcs)</td>\n",
       "      <td>1.0</td>\n",
       "    </tr>\n",
       "    <tr>\n",
       "      <td>0</td>\n",
       "      <td>fiscal</td>\n",
       "      <td>Guilford County</td>\n",
       "      <td>FY2013</td>\n",
       "      <td>(fiscal, year)</td>\n",
       "      <td>8461.0</td>\n",
       "      <td>(fiscal, year, adopted)</td>\n",
       "      <td>4267.0</td>\n",
       "    </tr>\n",
       "    <tr>\n",
       "      <td>2</td>\n",
       "      <td>adopted</td>\n",
       "      <td>Guilford County</td>\n",
       "      <td>FY2013</td>\n",
       "      <td>(adopted, budget)</td>\n",
       "      <td>7968.0</td>\n",
       "      <td>(adopted, budget, brenda)</td>\n",
       "      <td>1.0</td>\n",
       "    </tr>\n",
       "    <tr>\n",
       "      <td>88</td>\n",
       "      <td>budgeting</td>\n",
       "      <td>Guilford County</td>\n",
       "      <td>FY2013</td>\n",
       "      <td>(general, fund)</td>\n",
       "      <td>7145.0</td>\n",
       "      <td>(revenues, expenditures, changes)</td>\n",
       "      <td>221.0</td>\n",
       "    </tr>\n",
       "    <tr>\n",
       "      <td>113</td>\n",
       "      <td>expenditures</td>\n",
       "      <td>Guilford County</td>\n",
       "      <td>FY2013</td>\n",
       "      <td>(debt, service)</td>\n",
       "      <td>5748.0</td>\n",
       "      <td>(debt, human, services)</td>\n",
       "      <td>28.0</td>\n",
       "    </tr>\n",
       "    <tr>\n",
       "      <td>86</td>\n",
       "      <td>structure</td>\n",
       "      <td>Guilford County</td>\n",
       "      <td>FY2013</td>\n",
       "      <td>(fund, balance)</td>\n",
       "      <td>5666.0</td>\n",
       "      <td>(accounting, summary, revenues)</td>\n",
       "      <td>3.0</td>\n",
       "    </tr>\n",
       "    <tr>\n",
       "      <td>84989</td>\n",
       "      <td>surfacing</td>\n",
       "      <td>Durham City</td>\n",
       "      <td>FY2013</td>\n",
       "      <td>(wake, county)</td>\n",
       "      <td>5234.0</td>\n",
       "      <td>(approximately, invoices, year)</td>\n",
       "      <td>8.0</td>\n",
       "    </tr>\n",
       "    <tr>\n",
       "      <td>1</td>\n",
       "      <td>year</td>\n",
       "      <td>Guilford County</td>\n",
       "      <td>FY2013</td>\n",
       "      <td>(year, adopted)</td>\n",
       "      <td>4405.0</td>\n",
       "      <td>(year, adopted, budget)</td>\n",
       "      <td>4293.0</td>\n",
       "    </tr>\n",
       "    <tr>\n",
       "      <td>51157</td>\n",
       "      <td>property</td>\n",
       "      <td>Charlotte City</td>\n",
       "      <td>FY2013</td>\n",
       "      <td>(durham, county)</td>\n",
       "      <td>4317.0</td>\n",
       "      <td>(resources, ease, transition)</td>\n",
       "      <td>2.0</td>\n",
       "    </tr>\n",
       "    <tr>\n",
       "      <td>670</td>\n",
       "      <td>revised</td>\n",
       "      <td>Guilford County</td>\n",
       "      <td>FY2013</td>\n",
       "      <td>(north, carolina)</td>\n",
       "      <td>4081.0</td>\n",
       "      <td>(overlay, colfax, fire)</td>\n",
       "      <td>49.0</td>\n",
       "    </tr>\n",
       "  </tbody>\n",
       "</table>\n",
       "</div>"
      ],
      "text/plain": [
       "               word     organization    year              bigram  \\\n",
       "5926         health  Guilford County  FY2013  (adopted, adopted)   \n",
       "0            fiscal  Guilford County  FY2013      (fiscal, year)   \n",
       "2           adopted  Guilford County  FY2013   (adopted, budget)   \n",
       "88        budgeting  Guilford County  FY2013     (general, fund)   \n",
       "113    expenditures  Guilford County  FY2013     (debt, service)   \n",
       "86        structure  Guilford County  FY2013     (fund, balance)   \n",
       "84989     surfacing      Durham City  FY2013      (wake, county)   \n",
       "1              year  Guilford County  FY2013     (year, adopted)   \n",
       "51157      property   Charlotte City  FY2013    (durham, county)   \n",
       "670         revised  Guilford County  FY2013   (north, carolina)   \n",
       "\n",
       "       bigram frequency                            trigram  trigram frequency  \n",
       "5926            10083.0        (pcroftsdgfld, emerg, svcs)                1.0  \n",
       "0                8461.0            (fiscal, year, adopted)             4267.0  \n",
       "2                7968.0          (adopted, budget, brenda)                1.0  \n",
       "88               7145.0  (revenues, expenditures, changes)              221.0  \n",
       "113              5748.0            (debt, human, services)               28.0  \n",
       "86               5666.0    (accounting, summary, revenues)                3.0  \n",
       "84989            5234.0    (approximately, invoices, year)                8.0  \n",
       "1                4405.0            (year, adopted, budget)             4293.0  \n",
       "51157            4317.0      (resources, ease, transition)                2.0  \n",
       "670              4081.0            (overlay, colfax, fire)               49.0  "
      ]
     },
     "execution_count": 20,
     "metadata": {},
     "output_type": "execute_result"
    }
   ],
   "source": [
    "df_bgsBased.head(10)"
   ]
  },
  {
   "cell_type": "code",
   "execution_count": 21,
   "metadata": {},
   "outputs": [
    {
     "data": {
      "image/png": "[encoded data removed]",
      "text/plain": [
       "<Figure size 640x480 with 1 Axes>"
      ]
     },
     "metadata": {},
     "output_type": "display_data"
    },
    {
     "data": {
      "text/plain": [
       "<matplotlib.axes._subplots.AxesSubplot at 0x1a43745a848>"
      ]
     },
     "execution_count": 21,
     "metadata": {},
     "output_type": "execute_result"
    }
   ],
   "source": [
    "figure(num=None, figsize=(8, 6), dpi=80, facecolor='w', edgecolor='k')\n",
    "bgs_fdist.plot(10, cumulative=False)"
   ]
  },
  {
   "cell_type": "code",
   "execution_count": 22,
   "metadata": {},
   "outputs": [
    {
     "data": {
      "text/html": [
       "<div>\n",
       "<style scoped>\n",
       "    .dataframe tbody tr th:only-of-type {\n",
       "        vertical-align: middle;\n",
       "    }\n",
       "\n",
       "    .dataframe tbody tr th {\n",
       "        vertical-align: top;\n",
       "    }\n",
       "\n",
       "    .dataframe thead th {\n",
       "        text-align: right;\n",
       "    }\n",
       "</style>\n",
       "<table border=\"1\" class=\"dataframe\">\n",
       "  <thead>\n",
       "    <tr style=\"text-align: right;\">\n",
       "      <th></th>\n",
       "      <th>word</th>\n",
       "      <th>organization</th>\n",
       "      <th>year</th>\n",
       "      <th>bigram</th>\n",
       "      <th>bigram frequency</th>\n",
       "      <th>trigram</th>\n",
       "      <th>trigram frequency</th>\n",
       "    </tr>\n",
       "  </thead>\n",
       "  <tbody>\n",
       "    <tr>\n",
       "      <td>10015</td>\n",
       "      <td>countys</td>\n",
       "      <td>Guilford County</td>\n",
       "      <td>FY2013</td>\n",
       "      <td>(purpose, board)</td>\n",
       "      <td>12.0</td>\n",
       "      <td>(adopted, adopted, adopted)</td>\n",
       "      <td>4680.0</td>\n",
       "    </tr>\n",
       "    <tr>\n",
       "      <td>1</td>\n",
       "      <td>year</td>\n",
       "      <td>Guilford County</td>\n",
       "      <td>FY2013</td>\n",
       "      <td>(year, adopted)</td>\n",
       "      <td>4405.0</td>\n",
       "      <td>(year, adopted, budget)</td>\n",
       "      <td>4293.0</td>\n",
       "    </tr>\n",
       "    <tr>\n",
       "      <td>0</td>\n",
       "      <td>fiscal</td>\n",
       "      <td>Guilford County</td>\n",
       "      <td>FY2013</td>\n",
       "      <td>(fiscal, year)</td>\n",
       "      <td>8461.0</td>\n",
       "      <td>(fiscal, year, adopted)</td>\n",
       "      <td>4267.0</td>\n",
       "    </tr>\n",
       "    <tr>\n",
       "      <td>169311</td>\n",
       "      <td>positions</td>\n",
       "      <td>Durham County</td>\n",
       "      <td>FY2013</td>\n",
       "      <td>(dental, description)</td>\n",
       "      <td>7.0</td>\n",
       "      <td>(benefits, contractual, services)</td>\n",
       "      <td>2664.0</td>\n",
       "    </tr>\n",
       "    <tr>\n",
       "      <td>159133</td>\n",
       "      <td>full</td>\n",
       "      <td>Durham County</td>\n",
       "      <td>FY2013</td>\n",
       "      <td>(foundation, longerterm)</td>\n",
       "      <td>6.0</td>\n",
       "      <td>(total, revenue, county)</td>\n",
       "      <td>2474.0</td>\n",
       "    </tr>\n",
       "    <tr>\n",
       "      <td>169320</td>\n",
       "      <td>increases</td>\n",
       "      <td>Durham County</td>\n",
       "      <td>FY2013</td>\n",
       "      <td>(care, serving)</td>\n",
       "      <td>3.0</td>\n",
       "      <td>(revenue, county, dollars)</td>\n",
       "      <td>2233.0</td>\n",
       "    </tr>\n",
       "    <tr>\n",
       "      <td>169312</td>\n",
       "      <td>approved</td>\n",
       "      <td>Durham County</td>\n",
       "      <td>FY2013</td>\n",
       "      <td>(description, promote)</td>\n",
       "      <td>9.0</td>\n",
       "      <td>(contractual, services, commodities)</td>\n",
       "      <td>2231.0</td>\n",
       "    </tr>\n",
       "    <tr>\n",
       "      <td>169500</td>\n",
       "      <td>team</td>\n",
       "      <td>Durham County</td>\n",
       "      <td>FY2013</td>\n",
       "      <td>(instructions, patient)</td>\n",
       "      <td>1.0</td>\n",
       "      <td>(actual, actual, target)</td>\n",
       "      <td>2066.0</td>\n",
       "    </tr>\n",
       "    <tr>\n",
       "      <td>169508</td>\n",
       "      <td>fiscal</td>\n",
       "      <td>Durham County</td>\n",
       "      <td>FY2013</td>\n",
       "      <td>(wchs, exceeded)</td>\n",
       "      <td>1.0</td>\n",
       "      <td>(overview, adopted, adopted)</td>\n",
       "      <td>2057.0</td>\n",
       "    </tr>\n",
       "    <tr>\n",
       "      <td>169513</td>\n",
       "      <td>technology</td>\n",
       "      <td>Durham County</td>\n",
       "      <td>FY2013</td>\n",
       "      <td>(individuals, patients)</td>\n",
       "      <td>8.0</td>\n",
       "      <td>(adopted, adopted, position)</td>\n",
       "      <td>2030.0</td>\n",
       "    </tr>\n",
       "  </tbody>\n",
       "</table>\n",
       "</div>"
      ],
      "text/plain": [
       "              word     organization    year                    bigram  \\\n",
       "10015      countys  Guilford County  FY2013          (purpose, board)   \n",
       "1             year  Guilford County  FY2013           (year, adopted)   \n",
       "0           fiscal  Guilford County  FY2013            (fiscal, year)   \n",
       "169311   positions    Durham County  FY2013     (dental, description)   \n",
       "159133        full    Durham County  FY2013  (foundation, longerterm)   \n",
       "169320   increases    Durham County  FY2013           (care, serving)   \n",
       "169312    approved    Durham County  FY2013    (description, promote)   \n",
       "169500        team    Durham County  FY2013   (instructions, patient)   \n",
       "169508      fiscal    Durham County  FY2013          (wchs, exceeded)   \n",
       "169513  technology    Durham County  FY2013   (individuals, patients)   \n",
       "\n",
       "        bigram frequency                               trigram  \\\n",
       "10015               12.0           (adopted, adopted, adopted)   \n",
       "1                 4405.0               (year, adopted, budget)   \n",
       "0                 8461.0               (fiscal, year, adopted)   \n",
       "169311               7.0     (benefits, contractual, services)   \n",
       "159133               6.0              (total, revenue, county)   \n",
       "169320               3.0            (revenue, county, dollars)   \n",
       "169312               9.0  (contractual, services, commodities)   \n",
       "169500               1.0              (actual, actual, target)   \n",
       "169508               1.0          (overview, adopted, adopted)   \n",
       "169513               8.0          (adopted, adopted, position)   \n",
       "\n",
       "        trigram frequency  \n",
       "10015              4680.0  \n",
       "1                  4293.0  \n",
       "0                  4267.0  \n",
       "169311             2664.0  \n",
       "159133             2474.0  \n",
       "169320             2233.0  \n",
       "169312             2231.0  \n",
       "169500             2066.0  \n",
       "169508             2057.0  \n",
       "169513             2030.0  "
      ]
     },
     "execution_count": 22,
     "metadata": {},
     "output_type": "execute_result"
    }
   ],
   "source": [
    "df_tgsBased.head(10)"
   ]
  },
  {
   "cell_type": "code",
   "execution_count": 23,
   "metadata": {},
   "outputs": [
    {
     "data": {
      "image/png": "[encoded data removed]",
      "text/plain": [
       "<Figure size 640x480 with 1 Axes>"
      ]
     },
     "metadata": {},
     "output_type": "display_data"
    },
    {
     "data": {
      "text/plain": [
       "<matplotlib.axes._subplots.AxesSubplot at 0x1a40ea42bc8>"
      ]
     },
     "execution_count": 23,
     "metadata": {},
     "output_type": "execute_result"
    }
   ],
   "source": [
    "figure(num=None, figsize=(8, 6), dpi=80, facecolor='w', edgecolor='k')\n",
    "tgs_fdist.plot(10, cumulative=False)"
   ]
  },
  {
   "cell_type": "code",
   "execution_count": 87,
   "metadata": {},
   "outputs": [
    {
     "data": {
      "text/html": [
       "<div>\n",
       "<style scoped>\n",
       "    .dataframe tbody tr th:only-of-type {\n",
       "        vertical-align: middle;\n",
       "    }\n",
       "\n",
       "    .dataframe tbody tr th {\n",
       "        vertical-align: top;\n",
       "    }\n",
       "\n",
       "    .dataframe thead th {\n",
       "        text-align: right;\n",
       "    }\n",
       "</style>\n",
       "<table border=\"1\" class=\"dataframe\">\n",
       "  <thead>\n",
       "    <tr style=\"text-align: right;\">\n",
       "      <th></th>\n",
       "      <th>word</th>\n",
       "      <th>organization</th>\n",
       "      <th>year</th>\n",
       "    </tr>\n",
       "  </thead>\n",
       "  <tbody>\n",
       "    <tr>\n",
       "      <td>0</td>\n",
       "      <td>fiscal</td>\n",
       "      <td>Guilford County</td>\n",
       "      <td>FY2013</td>\n",
       "    </tr>\n",
       "    <tr>\n",
       "      <td>1</td>\n",
       "      <td>year</td>\n",
       "      <td>Guilford County</td>\n",
       "      <td>FY2013</td>\n",
       "    </tr>\n",
       "    <tr>\n",
       "      <td>2</td>\n",
       "      <td>adopted</td>\n",
       "      <td>Guilford County</td>\n",
       "      <td>FY2013</td>\n",
       "    </tr>\n",
       "    <tr>\n",
       "      <td>3</td>\n",
       "      <td>budget</td>\n",
       "      <td>Guilford County</td>\n",
       "      <td>FY2013</td>\n",
       "    </tr>\n",
       "    <tr>\n",
       "      <td>4</td>\n",
       "      <td>brenda</td>\n",
       "      <td>Guilford County</td>\n",
       "      <td>FY2013</td>\n",
       "    </tr>\n",
       "  </tbody>\n",
       "</table>\n",
       "</div>"
      ],
      "text/plain": [
       "      word     organization    year\n",
       "0   fiscal  Guilford County  FY2013\n",
       "1     year  Guilford County  FY2013\n",
       "2  adopted  Guilford County  FY2013\n",
       "3   budget  Guilford County  FY2013\n",
       "4   brenda  Guilford County  FY2013"
      ]
     },
     "execution_count": 87,
     "metadata": {},
     "output_type": "execute_result"
    }
   ],
   "source": [
    "# Let's take a look at our data frame \n",
    "df.head()"
   ]
  },
  {
   "cell_type": "code",
   "execution_count": 89,
   "metadata": {},
   "outputs": [
    {
     "data": {
      "text/html": [
       "<div>\n",
       "<style scoped>\n",
       "    .dataframe tbody tr th:only-of-type {\n",
       "        vertical-align: middle;\n",
       "    }\n",
       "\n",
       "    .dataframe tbody tr th {\n",
       "        vertical-align: top;\n",
       "    }\n",
       "\n",
       "    .dataframe thead th {\n",
       "        text-align: right;\n",
       "    }\n",
       "</style>\n",
       "<table border=\"1\" class=\"dataframe\">\n",
       "  <thead>\n",
       "    <tr style=\"text-align: right;\">\n",
       "      <th></th>\n",
       "      <th>word</th>\n",
       "      <th>organization</th>\n",
       "      <th>year</th>\n",
       "    </tr>\n",
       "  </thead>\n",
       "  <tbody>\n",
       "    <tr>\n",
       "      <td>2767745</td>\n",
       "      <td>guilford</td>\n",
       "      <td>Guilford County</td>\n",
       "      <td>FY2020</td>\n",
       "    </tr>\n",
       "    <tr>\n",
       "      <td>2767746</td>\n",
       "      <td>county</td>\n",
       "      <td>Guilford County</td>\n",
       "      <td>FY2020</td>\n",
       "    </tr>\n",
       "    <tr>\n",
       "      <td>2767747</td>\n",
       "      <td>numbers</td>\n",
       "      <td>Guilford County</td>\n",
       "      <td>FY2020</td>\n",
       "    </tr>\n",
       "    <tr>\n",
       "      <td>2767748</td>\n",
       "      <td>makes</td>\n",
       "      <td>Guilford County</td>\n",
       "      <td>FY2020</td>\n",
       "    </tr>\n",
       "    <tr>\n",
       "      <td>2767749</td>\n",
       "      <td>count</td>\n",
       "      <td>Guilford County</td>\n",
       "      <td>FY2020</td>\n",
       "    </tr>\n",
       "  </tbody>\n",
       "</table>\n",
       "</div>"
      ],
      "text/plain": [
       "             word     organization    year\n",
       "2767745  guilford  Guilford County  FY2020\n",
       "2767746    county  Guilford County  FY2020\n",
       "2767747   numbers  Guilford County  FY2020\n",
       "2767748     makes  Guilford County  FY2020\n",
       "2767749     count  Guilford County  FY2020"
      ]
     },
     "execution_count": 89,
     "metadata": {},
     "output_type": "execute_result"
    }
   ],
   "source": [
    "# Now let's select the data entries from columns 'word' and 'organization' that \n",
    "# has the label FY2020 and store it in a different dataframe\n",
    "FY20_df = df.loc[df['year'] == 'FY2020', ['word', 'organization', 'year']]\n",
    "FY20_df.head()"
   ]
  },
  {
   "cell_type": "code",
   "execution_count": 90,
   "metadata": {},
   "outputs": [],
   "source": [
    "# Let's apply the same logic to the other organizations\n",
    "gc_df      = FY20_df.loc[FY20_df['organization'] == 'Guilford County', ['word', 'organization']]\n",
    "cc_df      = FY20_df.loc[FY20_df['organization'] == 'Charlotte City', ['word', 'organization']]\n",
    "dcity_df   = FY20_df.loc[FY20_df['organization'] == 'Durham City', ['word', 'organization']]\n",
    "dcounty_df = FY20_df.loc[FY20_df['organization'] == 'Durham County', ['word', 'organization']]\n",
    "mc_df      = FY20_df.loc[FY20_df['organization'] == 'Mecklenburg County', ['word', 'organization']]\n",
    "rc_df      = FY20_df.loc[FY20_df['organization'] == 'Raleigh City', ['word', 'organization']]\n",
    "wc_df      = FY20_df.loc[FY20_df['organization'] == 'Wake County', ['word', 'organization']]"
   ]
  },
  {
   "cell_type": "code",
   "execution_count": 91,
   "metadata": {},
   "outputs": [],
   "source": [
    "corpus  = gc_df.word\n",
    "corpus1 = cc_df.word\n",
    "corpus2 = dcity_df.word\n",
    "corpus3 = dcounty_df.word\n",
    "corpus4 = mc_df.word\n",
    "corpus5 = rc_df.word\n",
    "corpus6 = wc_df.word"
   ]
  },
  {
   "cell_type": "code",
   "execution_count": 92,
   "metadata": {},
   "outputs": [],
   "source": [
    "# For each text, join the elements and sperate them by a single space\n",
    "gc_text      = ' '.join(word for word in corpus)\n",
    "cc_text      = ' '.join(word for word in corpus1)\n",
    "dcity_text   = ' '.join(word for word in corpus2)\n",
    "dcounty_text = ' '.join(word for word in corpus3)\n",
    "mc_text      = ' '.join(word for word in corpus4)\n",
    "rc_text      = ' '.join(word for word in corpus5)\n",
    "wc_text      = ' '.join(word for word in corpus)"
   ]
  },
  {
   "cell_type": "code",
   "execution_count": 93,
   "metadata": {},
   "outputs": [],
   "source": [
    "# Now let's make a list of lists with each org. having its corresponding tokens. \n",
    "data = [['Guilford County', gc_text], ['Charlotte City', cc_text], ['Durham City', dcity_text], \n",
    "        ['Durham County', dcounty_text], ['Mecklenburg County', mc_text],\n",
    "        ['Raleigh City', rc_text],['Wake County', wc_text]] "
   ]
  },
  {
   "cell_type": "code",
   "execution_count": 94,
   "metadata": {},
   "outputs": [],
   "source": [
    "# One more step, let's create a data frame from the list of lists we have\n",
    "df = pd.DataFrame(data, columns = ['organization', 'content'])"
   ]
  },
  {
   "cell_type": "code",
   "execution_count": 95,
   "metadata": {},
   "outputs": [
    {
     "data": {
      "text/html": [
       "<div>\n",
       "<style scoped>\n",
       "    .dataframe tbody tr th:only-of-type {\n",
       "        vertical-align: middle;\n",
       "    }\n",
       "\n",
       "    .dataframe tbody tr th {\n",
       "        vertical-align: top;\n",
       "    }\n",
       "\n",
       "    .dataframe thead th {\n",
       "        text-align: right;\n",
       "    }\n",
       "</style>\n",
       "<table border=\"1\" class=\"dataframe\">\n",
       "  <thead>\n",
       "    <tr style=\"text-align: right;\">\n",
       "      <th></th>\n",
       "      <th>organization</th>\n",
       "      <th>content</th>\n",
       "    </tr>\n",
       "  </thead>\n",
       "  <tbody>\n",
       "    <tr>\n",
       "      <td>0</td>\n",
       "      <td>Guilford County</td>\n",
       "      <td>guilford county numbers makes count county sta...</td>\n",
       "    </tr>\n",
       "    <tr>\n",
       "      <td>1</td>\n",
       "      <td>Charlotte City</td>\n",
       "      <td>ensuring equitable sustainable resilient charl...</td>\n",
       "    </tr>\n",
       "    <tr>\n",
       "      <td>2</td>\n",
       "      <td>Durham City</td>\n",
       "      <td>fiscal year adopted budget july june city durh...</td>\n",
       "    </tr>\n",
       "    <tr>\n",
       "      <td>3</td>\n",
       "      <td>Durham County</td>\n",
       "      <td>approved budget durham county north carolina a...</td>\n",
       "    </tr>\n",
       "    <tr>\n",
       "      <td>4</td>\n",
       "      <td>Mecklenburg County</td>\n",
       "      <td>meckncgov fiscal year adopted budget mecklenbu...</td>\n",
       "    </tr>\n",
       "    <tr>\n",
       "      <td>5</td>\n",
       "      <td>Raleigh City</td>\n",
       "      <td>adopted budget strengthening foundation workfo...</td>\n",
       "    </tr>\n",
       "    <tr>\n",
       "      <td>6</td>\n",
       "      <td>Wake County</td>\n",
       "      <td>guilford county numbers makes count county sta...</td>\n",
       "    </tr>\n",
       "  </tbody>\n",
       "</table>\n",
       "</div>"
      ],
      "text/plain": [
       "         organization                                            content\n",
       "0     Guilford County  guilford county numbers makes count county sta...\n",
       "1      Charlotte City  ensuring equitable sustainable resilient charl...\n",
       "2         Durham City  fiscal year adopted budget july june city durh...\n",
       "3       Durham County  approved budget durham county north carolina a...\n",
       "4  Mecklenburg County  meckncgov fiscal year adopted budget mecklenbu...\n",
       "5        Raleigh City  adopted budget strengthening foundation workfo...\n",
       "6         Wake County  guilford county numbers makes count county sta..."
      ]
     },
     "execution_count": 95,
     "metadata": {},
     "output_type": "execute_result"
    }
   ],
   "source": [
    "df"
   ]
  },
  {
   "cell_type": "code",
   "execution_count": 96,
   "metadata": {},
   "outputs": [
    {
     "data": {
      "text/html": [
       "<div>\n",
       "<style scoped>\n",
       "    .dataframe tbody tr th:only-of-type {\n",
       "        vertical-align: middle;\n",
       "    }\n",
       "\n",
       "    .dataframe tbody tr th {\n",
       "        vertical-align: top;\n",
       "    }\n",
       "\n",
       "    .dataframe thead th {\n",
       "        text-align: right;\n",
       "    }\n",
       "</style>\n",
       "<table border=\"1\" class=\"dataframe\">\n",
       "  <thead>\n",
       "    <tr style=\"text-align: right;\">\n",
       "      <th></th>\n",
       "      <th>organization</th>\n",
       "      <th>content</th>\n",
       "      <th>year</th>\n",
       "    </tr>\n",
       "  </thead>\n",
       "  <tbody>\n",
       "    <tr>\n",
       "      <td>0</td>\n",
       "      <td>Guilford County</td>\n",
       "      <td>guilford county numbers makes count county sta...</td>\n",
       "      <td>2020</td>\n",
       "    </tr>\n",
       "    <tr>\n",
       "      <td>1</td>\n",
       "      <td>Charlotte City</td>\n",
       "      <td>ensuring equitable sustainable resilient charl...</td>\n",
       "      <td>2020</td>\n",
       "    </tr>\n",
       "    <tr>\n",
       "      <td>2</td>\n",
       "      <td>Durham City</td>\n",
       "      <td>fiscal year adopted budget july june city durh...</td>\n",
       "      <td>2020</td>\n",
       "    </tr>\n",
       "    <tr>\n",
       "      <td>3</td>\n",
       "      <td>Durham County</td>\n",
       "      <td>approved budget durham county north carolina a...</td>\n",
       "      <td>2020</td>\n",
       "    </tr>\n",
       "    <tr>\n",
       "      <td>4</td>\n",
       "      <td>Mecklenburg County</td>\n",
       "      <td>meckncgov fiscal year adopted budget mecklenbu...</td>\n",
       "      <td>2020</td>\n",
       "    </tr>\n",
       "    <tr>\n",
       "      <td>5</td>\n",
       "      <td>Raleigh City</td>\n",
       "      <td>adopted budget strengthening foundation workfo...</td>\n",
       "      <td>2020</td>\n",
       "    </tr>\n",
       "    <tr>\n",
       "      <td>6</td>\n",
       "      <td>Wake County</td>\n",
       "      <td>guilford county numbers makes count county sta...</td>\n",
       "      <td>2020</td>\n",
       "    </tr>\n",
       "  </tbody>\n",
       "</table>\n",
       "</div>"
      ],
      "text/plain": [
       "         organization                                            content  year\n",
       "0     Guilford County  guilford county numbers makes count county sta...  2020\n",
       "1      Charlotte City  ensuring equitable sustainable resilient charl...  2020\n",
       "2         Durham City  fiscal year adopted budget july june city durh...  2020\n",
       "3       Durham County  approved budget durham county north carolina a...  2020\n",
       "4  Mecklenburg County  meckncgov fiscal year adopted budget mecklenbu...  2020\n",
       "5        Raleigh City  adopted budget strengthening foundation workfo...  2020\n",
       "6         Wake County  guilford county numbers makes count county sta...  2020"
      ]
     },
     "execution_count": 96,
     "metadata": {},
     "output_type": "execute_result"
    }
   ],
   "source": [
    "df.insert(2, \"year\", \"2020\")\n",
    "df"
   ]
  },
  {
   "cell_type": "code",
   "execution_count": 97,
   "metadata": {},
   "outputs": [],
   "source": [
    "df['num_wds'] = df['content'].apply(lambda x: len(x.split()))"
   ]
  },
  {
   "cell_type": "code",
   "execution_count": 98,
   "metadata": {},
   "outputs": [
    {
     "data": {
      "text/html": [
       "<div>\n",
       "<style scoped>\n",
       "    .dataframe tbody tr th:only-of-type {\n",
       "        vertical-align: middle;\n",
       "    }\n",
       "\n",
       "    .dataframe tbody tr th {\n",
       "        vertical-align: top;\n",
       "    }\n",
       "\n",
       "    .dataframe thead th {\n",
       "        text-align: right;\n",
       "    }\n",
       "</style>\n",
       "<table border=\"1\" class=\"dataframe\">\n",
       "  <thead>\n",
       "    <tr style=\"text-align: right;\">\n",
       "      <th></th>\n",
       "      <th>organization</th>\n",
       "      <th>content</th>\n",
       "      <th>year</th>\n",
       "      <th>num_wds</th>\n",
       "    </tr>\n",
       "  </thead>\n",
       "  <tbody>\n",
       "    <tr>\n",
       "      <td>0</td>\n",
       "      <td>Guilford County</td>\n",
       "      <td>guilford county numbers makes count county sta...</td>\n",
       "      <td>2020</td>\n",
       "      <td>62061</td>\n",
       "    </tr>\n",
       "    <tr>\n",
       "      <td>1</td>\n",
       "      <td>Charlotte City</td>\n",
       "      <td>ensuring equitable sustainable resilient charl...</td>\n",
       "      <td>2020</td>\n",
       "      <td>57569</td>\n",
       "    </tr>\n",
       "    <tr>\n",
       "      <td>2</td>\n",
       "      <td>Durham City</td>\n",
       "      <td>fiscal year adopted budget july june city durh...</td>\n",
       "      <td>2020</td>\n",
       "      <td>52919</td>\n",
       "    </tr>\n",
       "    <tr>\n",
       "      <td>3</td>\n",
       "      <td>Durham County</td>\n",
       "      <td>approved budget durham county north carolina a...</td>\n",
       "      <td>2020</td>\n",
       "      <td>61340</td>\n",
       "    </tr>\n",
       "    <tr>\n",
       "      <td>4</td>\n",
       "      <td>Mecklenburg County</td>\n",
       "      <td>meckncgov fiscal year adopted budget mecklenbu...</td>\n",
       "      <td>2020</td>\n",
       "      <td>54658</td>\n",
       "    </tr>\n",
       "    <tr>\n",
       "      <td>5</td>\n",
       "      <td>Raleigh City</td>\n",
       "      <td>adopted budget strengthening foundation workfo...</td>\n",
       "      <td>2020</td>\n",
       "      <td>46635</td>\n",
       "    </tr>\n",
       "    <tr>\n",
       "      <td>6</td>\n",
       "      <td>Wake County</td>\n",
       "      <td>guilford county numbers makes count county sta...</td>\n",
       "      <td>2020</td>\n",
       "      <td>62061</td>\n",
       "    </tr>\n",
       "  </tbody>\n",
       "</table>\n",
       "</div>"
      ],
      "text/plain": [
       "         organization                                            content  \\\n",
       "0     Guilford County  guilford county numbers makes count county sta...   \n",
       "1      Charlotte City  ensuring equitable sustainable resilient charl...   \n",
       "2         Durham City  fiscal year adopted budget july june city durh...   \n",
       "3       Durham County  approved budget durham county north carolina a...   \n",
       "4  Mecklenburg County  meckncgov fiscal year adopted budget mecklenbu...   \n",
       "5        Raleigh City  adopted budget strengthening foundation workfo...   \n",
       "6         Wake County  guilford county numbers makes count county sta...   \n",
       "\n",
       "   year  num_wds  \n",
       "0  2020    62061  \n",
       "1  2020    57569  \n",
       "2  2020    52919  \n",
       "3  2020    61340  \n",
       "4  2020    54658  \n",
       "5  2020    46635  \n",
       "6  2020    62061  "
      ]
     },
     "execution_count": 98,
     "metadata": {},
     "output_type": "execute_result"
    }
   ],
   "source": [
    "df"
   ]
  },
  {
   "cell_type": "code",
   "execution_count": 99,
   "metadata": {},
   "outputs": [
    {
     "data": {
      "text/plain": [
       "62061"
      ]
     },
     "execution_count": 99,
     "metadata": {},
     "output_type": "execute_result"
    }
   ],
   "source": [
    "df['num_wds'].max()"
   ]
  },
  {
   "cell_type": "code",
   "execution_count": 100,
   "metadata": {},
   "outputs": [
    {
     "data": {
      "text/plain": [
       "56749.0"
      ]
     },
     "execution_count": 100,
     "metadata": {},
     "output_type": "execute_result"
    }
   ],
   "source": [
    "df['num_wds'].mean()"
   ]
  },
  {
   "cell_type": "code",
   "execution_count": 101,
   "metadata": {},
   "outputs": [
    {
     "data": {
      "text/plain": [
       "46635"
      ]
     },
     "execution_count": 101,
     "metadata": {},
     "output_type": "execute_result"
    }
   ],
   "source": [
    "df['num_wds'].min()"
   ]
  },
  {
   "cell_type": "code",
   "execution_count": 102,
   "metadata": {},
   "outputs": [
    {
     "data": {
      "image/png": "[encoded data removed]",
      "text/plain": [
       "<Figure size 864x720 with 1 Axes>"
      ]
     },
     "metadata": {},
     "output_type": "display_data"
    }
   ],
   "source": [
    "ax=df['num_wds'].plot(kind='hist', bins=50, fontsize=14, figsize=(12,10))\n",
    "ax.set_title('Document Length in Words\\n', fontsize=20)\n",
    "ax.set_ylabel('Frequency', fontsize=18)\n",
    "ax.set_xlabel('Number of Words', fontsize=18);"
   ]
  },
  {
   "cell_type": "code",
   "execution_count": 103,
   "metadata": {},
   "outputs": [
    {
     "data": {
      "text/plain": [
       "0    6110\n",
       "1    5315\n",
       "2    6027\n",
       "3    6498\n",
       "4    4781\n",
       "5    5185\n",
       "6    6110\n",
       "Name: uniq_wds, dtype: int64"
      ]
     },
     "execution_count": 103,
     "metadata": {},
     "output_type": "execute_result"
    }
   ],
   "source": [
    "df['uniq_wds'] = df['content'].str.split().apply(lambda x: len(set(x)))\n",
    "df['uniq_wds']"
   ]
  },
  {
   "cell_type": "code",
   "execution_count": 104,
   "metadata": {},
   "outputs": [
    {
     "data": {
      "text/plain": [
       "4781"
      ]
     },
     "execution_count": 104,
     "metadata": {},
     "output_type": "execute_result"
    }
   ],
   "source": [
    "df['uniq_wds'].min()"
   ]
  },
  {
   "cell_type": "code",
   "execution_count": 105,
   "metadata": {},
   "outputs": [
    {
     "data": {
      "text/plain": [
       "5718.0"
      ]
     },
     "execution_count": 105,
     "metadata": {},
     "output_type": "execute_result"
    }
   ],
   "source": [
    "df['uniq_wds'].mean()"
   ]
  },
  {
   "cell_type": "code",
   "execution_count": 106,
   "metadata": {},
   "outputs": [
    {
     "data": {
      "text/plain": [
       "6498"
      ]
     },
     "execution_count": 106,
     "metadata": {},
     "output_type": "execute_result"
    }
   ],
   "source": [
    "df['uniq_wds'].max()"
   ]
  },
  {
   "cell_type": "code",
   "execution_count": 107,
   "metadata": {},
   "outputs": [
    {
     "data": {
      "image/png": "[encoded data removed]",
      "text/plain": [
       "<Figure size 864x720 with 1 Axes>"
      ]
     },
     "metadata": {},
     "output_type": "display_data"
    }
   ],
   "source": [
    "ax=df['uniq_wds'].plot(kind='hist', bins=50, fontsize=14, figsize=(12,10))\n",
    "ax.set_title('Unique Words Per Document\\n', fontsize=20)\n",
    "ax.set_ylabel('Frequency', fontsize=18)\n",
    "ax.set_xlabel('Number of Unique Words', fontsize=18);"
   ]
  },
  {
   "cell_type": "code",
   "execution_count": 108,
   "metadata": {},
   "outputs": [
    {
     "data": {
      "text/html": [
       "<div>\n",
       "<style scoped>\n",
       "    .dataframe tbody tr th:only-of-type {\n",
       "        vertical-align: middle;\n",
       "    }\n",
       "\n",
       "    .dataframe tbody tr th {\n",
       "        vertical-align: top;\n",
       "    }\n",
       "\n",
       "    .dataframe thead th {\n",
       "        text-align: right;\n",
       "    }\n",
       "</style>\n",
       "<table border=\"1\" class=\"dataframe\">\n",
       "  <thead>\n",
       "    <tr style=\"text-align: right;\">\n",
       "      <th></th>\n",
       "      <th>organization</th>\n",
       "      <th>content</th>\n",
       "      <th>year</th>\n",
       "      <th>num_wds</th>\n",
       "      <th>uniq_wds</th>\n",
       "    </tr>\n",
       "  </thead>\n",
       "  <tbody>\n",
       "    <tr>\n",
       "      <td>0</td>\n",
       "      <td>Guilford County</td>\n",
       "      <td>guilford county numbers makes count county sta...</td>\n",
       "      <td>2020</td>\n",
       "      <td>62061</td>\n",
       "      <td>6110</td>\n",
       "    </tr>\n",
       "    <tr>\n",
       "      <td>1</td>\n",
       "      <td>Charlotte City</td>\n",
       "      <td>ensuring equitable sustainable resilient charl...</td>\n",
       "      <td>2020</td>\n",
       "      <td>57569</td>\n",
       "      <td>5315</td>\n",
       "    </tr>\n",
       "    <tr>\n",
       "      <td>2</td>\n",
       "      <td>Durham City</td>\n",
       "      <td>fiscal year adopted budget july june city durh...</td>\n",
       "      <td>2020</td>\n",
       "      <td>52919</td>\n",
       "      <td>6027</td>\n",
       "    </tr>\n",
       "    <tr>\n",
       "      <td>3</td>\n",
       "      <td>Durham County</td>\n",
       "      <td>approved budget durham county north carolina a...</td>\n",
       "      <td>2020</td>\n",
       "      <td>61340</td>\n",
       "      <td>6498</td>\n",
       "    </tr>\n",
       "    <tr>\n",
       "      <td>4</td>\n",
       "      <td>Mecklenburg County</td>\n",
       "      <td>meckncgov fiscal year adopted budget mecklenbu...</td>\n",
       "      <td>2020</td>\n",
       "      <td>54658</td>\n",
       "      <td>4781</td>\n",
       "    </tr>\n",
       "    <tr>\n",
       "      <td>5</td>\n",
       "      <td>Raleigh City</td>\n",
       "      <td>adopted budget strengthening foundation workfo...</td>\n",
       "      <td>2020</td>\n",
       "      <td>46635</td>\n",
       "      <td>5185</td>\n",
       "    </tr>\n",
       "    <tr>\n",
       "      <td>6</td>\n",
       "      <td>Wake County</td>\n",
       "      <td>guilford county numbers makes count county sta...</td>\n",
       "      <td>2020</td>\n",
       "      <td>62061</td>\n",
       "      <td>6110</td>\n",
       "    </tr>\n",
       "  </tbody>\n",
       "</table>\n",
       "</div>"
      ],
      "text/plain": [
       "         organization                                            content  \\\n",
       "0     Guilford County  guilford county numbers makes count county sta...   \n",
       "1      Charlotte City  ensuring equitable sustainable resilient charl...   \n",
       "2         Durham City  fiscal year adopted budget july june city durh...   \n",
       "3       Durham County  approved budget durham county north carolina a...   \n",
       "4  Mecklenburg County  meckncgov fiscal year adopted budget mecklenbu...   \n",
       "5        Raleigh City  adopted budget strengthening foundation workfo...   \n",
       "6         Wake County  guilford county numbers makes count county sta...   \n",
       "\n",
       "   year  num_wds  uniq_wds  \n",
       "0  2020    62061      6110  \n",
       "1  2020    57569      5315  \n",
       "2  2020    52919      6027  \n",
       "3  2020    61340      6498  \n",
       "4  2020    54658      4781  \n",
       "5  2020    46635      5185  \n",
       "6  2020    62061      6110  "
      ]
     },
     "execution_count": 108,
     "metadata": {},
     "output_type": "execute_result"
    }
   ],
   "source": [
    "df"
   ]
  },
  {
   "cell_type": "code",
   "execution_count": null,
   "metadata": {},
   "outputs": [],
   "source": []
  }
 ],
 "metadata": {
  "kernelspec": {
   "display_name": "Python 3",
   "language": "python",
   "name": "python3"
  },
  "language_info": {
   "codemirror_mode": {
    "name": "ipython",
    "version": 3
   },
   "file_extension": ".py",
   "mimetype": "text/x-python",
   "name": "python",
   "nbconvert_exporter": "python",
   "pygments_lexer": "ipython3",
   "version": "3.7.4"
  }
 },
 "nbformat": 4,
 "nbformat_minor": 2
}
