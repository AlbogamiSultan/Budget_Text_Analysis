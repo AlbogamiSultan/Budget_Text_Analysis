{
 "cells": [
  {
   "cell_type": "code",
   "execution_count": 34,
   "metadata": {},
   "outputs": [
    {
     "name": "stderr",
     "output_type": "stream",
     "text": [
      "[nltk_data] Downloading package punkt to\n",
      "[nltk_data]     C:\\Users\\webfr\\AppData\\Roaming\\nltk_data...\n",
      "[nltk_data]   Package punkt is already up-to-date!\n"
     ]
    },
    {
     "data": {
      "text/plain": [
       "True"
      ]
     },
     "execution_count": 34,
     "metadata": {},
     "output_type": "execute_result"
    }
   ],
   "source": [
    "import pandas as pd\n",
    "import numpy as np\n",
    "import nltk\n",
    "nltk.download('punkt')"
   ]
  },
  {
   "cell_type": "code",
   "execution_count": 35,
   "metadata": {},
   "outputs": [],
   "source": [
    "GCE = pd.read_csv(r\"C:\\Users\\webfr\\Desktop\\DataScienceProject\\GuilfordCounty_emotion_data.csv\")\n",
    "GCE.drop(['Unnamed: 0'], axis=1,inplace=True)\n"
   ]
  },
  {
   "cell_type": "code",
   "execution_count": 48,
   "metadata": {},
   "outputs": [
    {
     "name": "stdout",
     "output_type": "stream",
     "text": [
      "      Word  Frequency\n",
      "0   County        353\n",
      "1   Public        330\n",
      "2  General        288\n",
      "3   Budget        274\n"
     ]
    }
   ],
   "source": [
    "\n",
    "top_freq_num = 4\n",
    "a = GCE['word'].str.cat(sep=' ')\n",
    "words = nltk.tokenize.word_tokenize(a)\n",
    "word_freq = nltk.FreqDist(words)\n",
    "freq_result = pd.DataFrame(word_freq.most_common(top_freq_num),\n",
    "                    columns=['Word', 'Frequency'])\n",
    "print(freq_result)"
   ]
  },
  {
   "cell_type": "code",
   "execution_count": 49,
   "metadata": {},
   "outputs": [],
   "source": [
    "CCE = pd.read_csv(r\"C:\\Users\\webfr\\Desktop\\DataScienceProject\\CharlotteCity_emotion_data.csv\")\n",
    "CCE.drop(['Unnamed: 0'], axis=1,inplace=True)"
   ]
  },
  {
   "cell_type": "code",
   "execution_count": 50,
   "metadata": {},
   "outputs": [
    {
     "name": "stdout",
     "output_type": "stream",
     "text": [
      "         Word  Frequency\n",
      "0    Planning        468\n",
      "1     Council        420\n",
      "2         Pay        344\n",
      "3  Retirement        336\n"
     ]
    }
   ],
   "source": [
    "top_freq_num = 4\n",
    "a = CCE['word'].str.cat(sep=' ')\n",
    "words = nltk.tokenize.word_tokenize(a)\n",
    "word_freq = nltk.FreqDist(words)\n",
    "freq_result = pd.DataFrame(word_freq.most_common(top_freq_num),\n",
    "                    columns=['Word', 'Frequency'])\n",
    "print(freq_result)"
   ]
  },
  {
   "cell_type": "code",
   "execution_count": 51,
   "metadata": {},
   "outputs": [],
   "source": [
    "RCE = pd.read_csv(r\"C:\\Users\\webfr\\Desktop\\DataScienceProject\\RaleighCity_emotion_data.csv\")\n",
    "RCE.drop(['Unnamed: 0'], axis=1,inplace=True)"
   ]
  },
  {
   "cell_type": "code",
   "execution_count": 52,
   "metadata": {},
   "outputs": [
    {
     "name": "stdout",
     "output_type": "stream",
     "text": [
      "        Word  Frequency\n",
      "0  Resources        288\n",
      "1    Council        225\n",
      "2     Public        220\n",
      "3    General        216\n"
     ]
    }
   ],
   "source": [
    "top_freq_num = 4\n",
    "a = RCE['word'].str.cat(sep=' ')\n",
    "words = nltk.tokenize.word_tokenize(a)\n",
    "word_freq = nltk.FreqDist(words)\n",
    "freq_result = pd.DataFrame(word_freq.most_common(top_freq_num),\n",
    "                    columns=['Word', 'Frequency'])\n",
    "print(freq_result)"
   ]
  },
  {
   "cell_type": "code",
   "execution_count": 53,
   "metadata": {},
   "outputs": [],
   "source": [
    "DCE = pd.read_csv(r\"C:\\Users\\webfr\\Desktop\\DataScienceProject\\DurhamCity_emotion_data.csv\")\n",
    "DCE.drop(['Unnamed: 0'], axis=1,inplace=True)"
   ]
  },
  {
   "cell_type": "code",
   "execution_count": 54,
   "metadata": {},
   "outputs": [
    {
     "name": "stdout",
     "output_type": "stream",
     "text": [
      "       Word  Frequency\n",
      "0    Public        268\n",
      "1   General        262\n",
      "2    Income        258\n",
      "3  Planning        249\n"
     ]
    }
   ],
   "source": [
    "top_freq_num = 4\n",
    "a = DCE['word'].str.cat(sep=' ')\n",
    "words = nltk.tokenize.word_tokenize(a)\n",
    "word_freq = nltk.FreqDist(words)\n",
    "freq_result = pd.DataFrame(word_freq.most_common(top_freq_num),\n",
    "                    columns=['Word', 'Frequency'])\n",
    "print(freq_result)"
   ]
  },
  {
   "cell_type": "code",
   "execution_count": 55,
   "metadata": {},
   "outputs": [],
   "source": [
    "DCNTE = pd.read_csv(r\"C:\\Users\\webfr\\Desktop\\DataScienceProject\\DurhamCounty_emotion_data.csv\")\n",
    "DCNTE.drop(['Unnamed: 0'], axis=1,inplace=True)"
   ]
  },
  {
   "cell_type": "code",
   "execution_count": 56,
   "metadata": {},
   "outputs": [
    {
     "name": "stdout",
     "output_type": "stream",
     "text": [
      "     Word  Frequency\n",
      "0   Youth        264\n",
      "1  Public        252\n",
      "2  Income        252\n",
      "3  County        240\n"
     ]
    }
   ],
   "source": [
    "top_freq_num = 4\n",
    "a = DCNTE['word'].str.cat(sep=' ')\n",
    "words = nltk.tokenize.word_tokenize(a)\n",
    "word_freq = nltk.FreqDist(words)\n",
    "freq_result = pd.DataFrame(word_freq.most_common(top_freq_num),\n",
    "                    columns=['Word', 'Frequency'])\n",
    "print(freq_result)"
   ]
  },
  {
   "cell_type": "code",
   "execution_count": 57,
   "metadata": {},
   "outputs": [],
   "source": [
    "MCE = pd.read_csv(r\"C:\\Users\\webfr\\Desktop\\DataScienceProject\\MecklenburgCounty_emotion_data.csv\")\n",
    "MCE.drop(['Unnamed: 0'], axis=1,inplace=True)"
   ]
  },
  {
   "cell_type": "code",
   "execution_count": 58,
   "metadata": {},
   "outputs": [
    {
     "name": "stdout",
     "output_type": "stream",
     "text": [
      "     Word  Frequency\n",
      "0  Budget        529\n",
      "1  County        529\n",
      "2   Count        510\n",
      "3  Rating        416\n"
     ]
    }
   ],
   "source": [
    "top_freq_num = 4\n",
    "a = MCE['word'].str.cat(sep=' ')\n",
    "words = nltk.tokenize.word_tokenize(a)\n",
    "word_freq = nltk.FreqDist(words)\n",
    "freq_result = pd.DataFrame(word_freq.most_common(top_freq_num),\n",
    "                    columns=['Word', 'Frequency'])\n",
    "print(freq_result)"
   ]
  },
  {
   "cell_type": "code",
   "execution_count": 59,
   "metadata": {},
   "outputs": [],
   "source": [
    "WCE = pd.read_csv(r\"C:\\Users\\webfr\\Desktop\\DataScienceProject\\WakeCounty_emotion_data.csv\")\n",
    "WCE.drop(['Unnamed: 0'], axis=1,inplace=True)"
   ]
  },
  {
   "cell_type": "code",
   "execution_count": 60,
   "metadata": {},
   "outputs": [
    {
     "name": "stdout",
     "output_type": "stream",
     "text": [
      "      Word  Frequency\n",
      "0   Budget        497\n",
      "1   Public        450\n",
      "2  General        408\n",
      "3   County        378\n"
     ]
    }
   ],
   "source": [
    "top_freq_num = 4\n",
    "a = WCE['word'].str.cat(sep=' ')\n",
    "words = nltk.tokenize.word_tokenize(a)\n",
    "word_freq = nltk.FreqDist(words)\n",
    "freq_result = pd.DataFrame(word_freq.most_common(top_freq_num),\n",
    "                    columns=['Word', 'Frequency'])\n",
    "print(freq_result)"
   ]
  },
  {
   "cell_type": "code",
   "execution_count": null,
   "metadata": {},
   "outputs": [],
   "source": []
  },
  {
   "cell_type": "code",
   "execution_count": null,
   "metadata": {},
   "outputs": [],
   "source": []
  }
 ],
 "metadata": {
  "kernelspec": {
   "display_name": "Python 3",
   "language": "python",
   "name": "python3"
  },
  "language_info": {
   "codemirror_mode": {
    "name": "ipython",
    "version": 3
   },
   "file_extension": ".py",
   "mimetype": "text/x-python",
   "name": "python",
   "nbconvert_exporter": "python",
   "pygments_lexer": "ipython3",
   "version": "3.7.3"
  }
 },
 "nbformat": 4,
 "nbformat_minor": 2
}
