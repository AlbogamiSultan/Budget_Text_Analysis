{
 "cells": [
  {
   "cell_type": "markdown",
   "metadata": {},
   "source": [
    "## Topic-Modeling-FY20-13"
   ]
  },
  {
   "cell_type": "markdown",
   "metadata": {},
   "source": [
    "In this notebook we will be looking at the abstract topics in the budget documents. We will devide the data set into two data sets. One data set will contain all the budget documents that Guilford County has produced over the period of seven years. The other data set will contain the documents from the rest of the local goverments, which we are interested in."
   ]
  },
  {
   "cell_type": "markdown",
   "metadata": {},
   "source": [
    "**To access the data used in this notebook, click [here](https://drive.google.com/open?id=1-fOQX02COYCscXtJWsluxgWEVc9d_eg2).**"
   ]
  },
  {
   "cell_type": "code",
   "execution_count": 37,
   "metadata": {},
   "outputs": [],
   "source": [
    "import os\n",
    "import numpy as np\n",
    "import pandas as pd\n",
    "import re\n",
    "from   pprint import pprint\n",
    "import gensim\n",
    "from   gensim import models\n",
    "from   gensim.models import ldamodel\n",
    "import spacy\n",
    "import logging\n",
    "import warnings\n",
    "import gensim.corpora as corpora\n",
    "from   gensim.models import CoherenceModel\n",
    "import matplotlib.pyplot as plt\n",
    "import seaborn as sns\n",
    "pd.set_option(\"display.max_colwidth\", 200)"
   ]
  },
  {
   "cell_type": "code",
   "execution_count": 16,
   "metadata": {},
   "outputs": [],
   "source": [
    "# Change the current directory to read the data\n",
    "os.chdir(r\"C:\\Users\\Sultan\\Desktop\\data\\PreprocessedData\") "
   ]
  },
  {
   "cell_type": "code",
   "execution_count": 4,
   "metadata": {},
   "outputs": [
    {
     "data": {
      "text/html": [
       "<div>\n",
       "<style scoped>\n",
       "    .dataframe tbody tr th:only-of-type {\n",
       "        vertical-align: middle;\n",
       "    }\n",
       "\n",
       "    .dataframe tbody tr th {\n",
       "        vertical-align: top;\n",
       "    }\n",
       "\n",
       "    .dataframe thead th {\n",
       "        text-align: right;\n",
       "    }\n",
       "</style>\n",
       "<table border=\"1\" class=\"dataframe\">\n",
       "  <thead>\n",
       "    <tr style=\"text-align: right;\">\n",
       "      <th></th>\n",
       "      <th>ï»¿word</th>\n",
       "      <th>organization</th>\n",
       "      <th>year</th>\n",
       "    </tr>\n",
       "  </thead>\n",
       "  <tbody>\n",
       "    <tr>\n",
       "      <td>0</td>\n",
       "      <td>fiscal</td>\n",
       "      <td>Guilford County</td>\n",
       "      <td>FY2013</td>\n",
       "    </tr>\n",
       "    <tr>\n",
       "      <td>1</td>\n",
       "      <td>year</td>\n",
       "      <td>Guilford County</td>\n",
       "      <td>FY2013</td>\n",
       "    </tr>\n",
       "    <tr>\n",
       "      <td>2</td>\n",
       "      <td>adopted</td>\n",
       "      <td>Guilford County</td>\n",
       "      <td>FY2013</td>\n",
       "    </tr>\n",
       "    <tr>\n",
       "      <td>3</td>\n",
       "      <td>budget</td>\n",
       "      <td>Guilford County</td>\n",
       "      <td>FY2013</td>\n",
       "    </tr>\n",
       "    <tr>\n",
       "      <td>4</td>\n",
       "      <td>brenda</td>\n",
       "      <td>Guilford County</td>\n",
       "      <td>FY2013</td>\n",
       "    </tr>\n",
       "  </tbody>\n",
       "</table>\n",
       "</div>"
      ],
      "text/plain": [
       "   ï»¿word     organization    year\n",
       "0   fiscal  Guilford County  FY2013\n",
       "1     year  Guilford County  FY2013\n",
       "2  adopted  Guilford County  FY2013\n",
       "3   budget  Guilford County  FY2013\n",
       "4   brenda  Guilford County  FY2013"
      ]
     },
     "execution_count": 4,
     "metadata": {},
     "output_type": "execute_result"
    }
   ],
   "source": [
    "df = pd.read_csv(r'CombinedData.csv', engine='python')\n",
    "df.head()"
   ]
  },
  {
   "cell_type": "code",
   "execution_count": 5,
   "metadata": {},
   "outputs": [
    {
     "data": {
      "text/html": [
       "<div>\n",
       "<style scoped>\n",
       "    .dataframe tbody tr th:only-of-type {\n",
       "        vertical-align: middle;\n",
       "    }\n",
       "\n",
       "    .dataframe tbody tr th {\n",
       "        vertical-align: top;\n",
       "    }\n",
       "\n",
       "    .dataframe thead th {\n",
       "        text-align: right;\n",
       "    }\n",
       "</style>\n",
       "<table border=\"1\" class=\"dataframe\">\n",
       "  <thead>\n",
       "    <tr style=\"text-align: right;\">\n",
       "      <th></th>\n",
       "      <th>word</th>\n",
       "      <th>organization</th>\n",
       "      <th>year</th>\n",
       "    </tr>\n",
       "  </thead>\n",
       "  <tbody>\n",
       "    <tr>\n",
       "      <td>0</td>\n",
       "      <td>fiscal</td>\n",
       "      <td>Guilford County</td>\n",
       "      <td>FY2013</td>\n",
       "    </tr>\n",
       "    <tr>\n",
       "      <td>1</td>\n",
       "      <td>year</td>\n",
       "      <td>Guilford County</td>\n",
       "      <td>FY2013</td>\n",
       "    </tr>\n",
       "    <tr>\n",
       "      <td>2</td>\n",
       "      <td>adopted</td>\n",
       "      <td>Guilford County</td>\n",
       "      <td>FY2013</td>\n",
       "    </tr>\n",
       "    <tr>\n",
       "      <td>3</td>\n",
       "      <td>budget</td>\n",
       "      <td>Guilford County</td>\n",
       "      <td>FY2013</td>\n",
       "    </tr>\n",
       "    <tr>\n",
       "      <td>4</td>\n",
       "      <td>brenda</td>\n",
       "      <td>Guilford County</td>\n",
       "      <td>FY2013</td>\n",
       "    </tr>\n",
       "  </tbody>\n",
       "</table>\n",
       "</div>"
      ],
      "text/plain": [
       "      word     organization    year\n",
       "0   fiscal  Guilford County  FY2013\n",
       "1     year  Guilford County  FY2013\n",
       "2  adopted  Guilford County  FY2013\n",
       "3   budget  Guilford County  FY2013\n",
       "4   brenda  Guilford County  FY2013"
      ]
     },
     "execution_count": 5,
     "metadata": {},
     "output_type": "execute_result"
    }
   ],
   "source": [
    "# Re-name column\n",
    "df.rename(columns = {'ï»¿word':'word'}, inplace = True) \n",
    "df.head()"
   ]
  },
  {
   "cell_type": "code",
   "execution_count": 56,
   "metadata": {},
   "outputs": [],
   "source": [
    "#### Let's build the data sets\n",
    "gc_df      = df.loc[df['organization'] == 'Guilford County', ['word', 'year']]\n",
    "cc_df      = df.loc[df['organization'] == 'Charlotte City', ['word']]\n",
    "dcity_df   = df.loc[df['organization'] == 'Durham City', ['word']]\n",
    "dcounty_df = df.loc[df['organization'] == 'Durham County', ['word']]\n",
    "mc_df      = df.loc[df['organization'] == 'Mecklenburg County', ['word']]\n",
    "rc_df      = df.loc[df['organization'] == 'Raleigh City', ['word']]\n",
    "wc_df      = df.loc[df['organization'] == 'Wake County', ['word']]"
   ]
  },
  {
   "cell_type": "code",
   "execution_count": 57,
   "metadata": {},
   "outputs": [],
   "source": [
    "# Create series out of the word col \n",
    "corpus1 = cc_df.word\n",
    "corpus2 = dcity_df.word\n",
    "corpus3 = dcounty_df.word\n",
    "corpus4 = mc_df.word\n",
    "corpus5 = rc_df.word\n",
    "corpus6 = wc_df.word"
   ]
  },
  {
   "cell_type": "code",
   "execution_count": 58,
   "metadata": {},
   "outputs": [],
   "source": [
    "# For each text, join the elements and sperate them by a single space\n",
    "cc_text      = ' '.join(word for word in corpus1)\n",
    "dcity_text   = ' '.join(word for word in corpus2)\n",
    "dcounty_text = ' '.join(word for word in corpus3)\n",
    "mc_text      = ' '.join(word for word in corpus4)\n",
    "rc_text      = ' '.join(word for word in corpus5)\n",
    "wc_text      = ' '.join(word for word in corpus6)"
   ]
  },
  {
   "cell_type": "code",
   "execution_count": 59,
   "metadata": {},
   "outputs": [],
   "source": [
    "# Let's tokenize them \n",
    "cc_tokens      = nltk.word_tokenize(cc_text)\n",
    "dcity_tokens   = nltk.word_tokenize(dcity_text)\n",
    "dcounty_tokens = nltk.word_tokenize(dcounty_text)\n",
    "mc_tokens      = nltk.word_tokenize(mc_text)\n",
    "rc_tokens      = nltk.word_tokenize(rc_text)\n",
    "wc_tokens      = nltk.word_tokenize(wc_text)"
   ]
  },
  {
   "cell_type": "code",
   "execution_count": 60,
   "metadata": {},
   "outputs": [],
   "source": [
    "docs = [cc_tokens, dcity_tokens, dcounty_tokens, mc_tokens, rc_tokens, wc_tokens]"
   ]
  },
  {
   "cell_type": "code",
   "execution_count": 61,
   "metadata": {},
   "outputs": [
    {
     "data": {
      "text/plain": [
       "list"
      ]
     },
     "execution_count": 61,
     "metadata": {},
     "output_type": "execute_result"
    }
   ],
   "source": [
    "type(docs)"
   ]
  },
  {
   "cell_type": "code",
   "execution_count": 62,
   "metadata": {},
   "outputs": [
    {
     "data": {
      "text/plain": [
       "6"
      ]
     },
     "execution_count": 62,
     "metadata": {},
     "output_type": "execute_result"
    }
   ],
   "source": [
    "len(docs)"
   ]
  },
  {
   "cell_type": "code",
   "execution_count": 64,
   "metadata": {},
   "outputs": [
    {
     "name": "stdout",
     "output_type": "stream",
     "text": [
      "[(0,\n",
      "  '0.019*\"county\" + 0.017*\"services\" + 0.014*\"budget\" + 0.012*\"wake\" + '\n",
      "  '0.010*\"fund\" + 0.010*\"year\" + 0.009*\"adopted\" + 0.007*\"fiscal\" + '\n",
      "  '0.007*\"capital\" + 0.007*\"service\"'),\n",
      " (1,\n",
      "  '0.017*\"city\" + 0.014*\"fund\" + 0.010*\"durham\" + 0.010*\"services\" + '\n",
      "  '0.008*\"program\" + 0.008*\"adopted\" + 0.006*\"general\" + 0.006*\"department\" + '\n",
      "  '0.006*\"budget\" + 0.006*\"revenues\"'),\n",
      " (2,\n",
      "  '0.012*\"adopted\" + 0.012*\"services\" + 0.009*\"county\" + 0.008*\"fund\" + '\n",
      "  '0.008*\"capital\" + 0.007*\"budget\" + 0.006*\"service\" + 0.006*\"project\" + '\n",
      "  '0.006*\"city\" + 0.005*\"program\"'),\n",
      " (3,\n",
      "  '0.014*\"budget\" + 0.014*\"city\" + 0.011*\"total\" + 0.011*\"plan\" + 0.010*\"fund\" '\n",
      "  '+ 0.009*\"services\" + 0.009*\"operating\" + 0.008*\"million\" + '\n",
      "  '0.007*\"charlotte\" + 0.007*\"service\"'),\n",
      " (4,\n",
      "  '0.020*\"county\" + 0.014*\"durham\" + 0.010*\"services\" + 0.009*\"budget\" + '\n",
      "  '0.008*\"fund\" + 0.007*\"department\" + 0.007*\"program\" + 0.007*\"service\" + '\n",
      "  '0.006*\"total\" + 0.006*\"expenditures\"'),\n",
      " (5,\n",
      "  '0.023*\"fund\" + 0.019*\"city\" + 0.014*\"budget\" + 0.010*\"raleigh\" + '\n",
      "  '0.010*\"adopted\" + 0.009*\"total\" + 0.009*\"services\" + 0.009*\"service\" + '\n",
      "  '0.008*\"funds\" + 0.008*\"capital\"'),\n",
      " (6,\n",
      "  '0.006*\"budget\" + 0.006*\"services\" + 0.005*\"county\" + 0.005*\"fund\" + '\n",
      "  '0.004*\"service\" + 0.003*\"capital\" + 0.003*\"year\" + 0.003*\"funds\" + '\n",
      "  '0.003*\"revenue\" + 0.003*\"total\"'),\n",
      " (7,\n",
      "  '0.007*\"services\" + 0.006*\"adopted\" + 0.005*\"budget\" + 0.005*\"county\" + '\n",
      "  '0.005*\"fund\" + 0.004*\"city\" + 0.004*\"service\" + 0.004*\"total\" + '\n",
      "  '0.004*\"capital\" + 0.003*\"project\"'),\n",
      " (8,\n",
      "  '0.032*\"adopted\" + 0.021*\"county\" + 0.020*\"services\" + 0.019*\"total\" + '\n",
      "  '0.015*\"service\" + 0.014*\"project\" + 0.012*\"budget\" + 0.011*\"capital\" + '\n",
      "  '0.010*\"position\" + 0.010*\"change\"'),\n",
      " (9,\n",
      "  '0.010*\"budget\" + 0.010*\"total\" + 0.009*\"adopted\" + 0.009*\"services\" + '\n",
      "  '0.008*\"fund\" + 0.008*\"service\" + 0.007*\"county\" + 0.006*\"city\" + '\n",
      "  '0.005*\"revenue\" + 0.005*\"capital\"')]\n"
     ]
    }
   ],
   "source": [
    "# Create Dictionary\n",
    "id2word = corpora.Dictionary(docs)\n",
    "\n",
    "# Create Corpus: Term Document Frequency\n",
    "corpus = [id2word.doc2bow(text) for text in docs]\n",
    "\n",
    "# Build LDA model\n",
    "ldaModel = gensim.models.ldamodel.LdaModel(corpus=corpus, id2word=id2word, num_topics=10, \n",
    "                                           passes=10, alpha = 'auto',\n",
    "                                           eta = 'auto', random_state = 1)\n",
    "\n",
    "pprint(ldaModel.print_topics())"
   ]
  },
  {
   "cell_type": "code",
   "execution_count": 67,
   "metadata": {},
   "outputs": [
    {
     "name": "stdout",
     "output_type": "stream",
     "text": [
      "Collecting wordcloud\n",
      "  Downloading https://files.pythonhosted.org/packages/96/36/f712ec19c6e253d27c5cae0d45a4a465ebb5ccf0cb26887a6a3127d13769/wordcloud-1.6.0-cp37-cp37m-win_amd64.whl (153kB)\n",
      "Requirement already satisfied: matplotlib in c:\\users\\sultan\\anaconda3\\lib\\site-packages (from wordcloud) (3.1.1)\n",
      "Requirement already satisfied: pillow in c:\\users\\sultan\\anaconda3\\lib\\site-packages (from wordcloud) (6.2.0)\n",
      "Requirement already satisfied: numpy>=1.6.1 in c:\\users\\sultan\\anaconda3\\lib\\site-packages (from wordcloud) (1.16.5)\n",
      "Requirement already satisfied: cycler>=0.10 in c:\\users\\sultan\\anaconda3\\lib\\site-packages (from matplotlib->wordcloud) (0.10.0)\n",
      "Requirement already satisfied: kiwisolver>=1.0.1 in c:\\users\\sultan\\anaconda3\\lib\\site-packages (from matplotlib->wordcloud) (1.1.0)\n",
      "Requirement already satisfied: pyparsing!=2.0.4,!=2.1.2,!=2.1.6,>=2.0.1 in c:\\users\\sultan\\anaconda3\\lib\\site-packages (from matplotlib->wordcloud) (2.4.2)\n",
      "Requirement already satisfied: python-dateutil>=2.1 in c:\\users\\sultan\\anaconda3\\lib\\site-packages (from matplotlib->wordcloud) (2.8.0)\n",
      "Requirement already satisfied: six in c:\\users\\sultan\\anaconda3\\lib\\site-packages (from cycler>=0.10->matplotlib->wordcloud) (1.12.0)\n",
      "Requirement already satisfied: setuptools in c:\\users\\sultan\\anaconda3\\lib\\site-packages (from kiwisolver>=1.0.1->matplotlib->wordcloud) (41.4.0)\n",
      "Installing collected packages: wordcloud\n",
      "Successfully installed wordcloud-1.6.0\n"
     ]
    }
   ],
   "source": [
    "!pip install wordcloud"
   ]
  },
  {
   "cell_type": "code",
   "execution_count": 69,
   "metadata": {},
   "outputs": [
    {
     "data": {
      "image/png": "[encoded data removed]",
      "text/plain": [
       "<Figure size 720x720 with 4 Axes>"
      ]
     },
     "metadata": {
      "needs_background": "light"
     },
     "output_type": "display_data"
    }
   ],
   "source": [
    "# 1. Wordcloud of Top N words in each topic\n",
    "from matplotlib import pyplot as plt\n",
    "from wordcloud import WordCloud, STOPWORDS\n",
    "import matplotlib.colors as mcolors\n",
    "from nltk.corpus import stopwords\n",
    "stp_wds = stopwords.words('english')\n",
    "\n",
    "cols = [color for name, color in mcolors.TABLEAU_COLORS.items()]  # more colors: 'mcolors.XKCD_COLORS'\n",
    "\n",
    "cloud = WordCloud(stopwords=stp_wds,\n",
    "                  background_color='white',\n",
    "                  width=2500,\n",
    "                  height=1800,\n",
    "                  max_words=10,\n",
    "                  colormap='tab10',\n",
    "                  color_func=lambda *args, **kwargs: cols[i],\n",
    "                  prefer_horizontal=1.0)\n",
    "\n",
    "topics = ldaModel.show_topics(formatted=False)\n",
    "\n",
    "fig, axes = plt.subplots(2, 2, figsize=(10,10), sharex=True, sharey=True)\n",
    "\n",
    "for i, ax in enumerate(axes.flatten()):\n",
    "    fig.add_subplot(ax)\n",
    "    topic_words = dict(topics[i][1])\n",
    "    cloud.generate_from_frequencies(topic_words, max_font_size=300)\n",
    "    plt.gca().imshow(cloud)\n",
    "    plt.gca().set_title('Topic ' + str(i), fontdict=dict(size=16))\n",
    "    plt.gca().axis('off')\n",
    "\n",
    "\n",
    "plt.subplots_adjust(wspace=0, hspace=0)\n",
    "plt.axis('off')\n",
    "plt.margins(x=0, y=0)\n",
    "plt.tight_layout()\n",
    "plt.show()"
   ]
  },
  {
   "cell_type": "code",
   "execution_count": null,
   "metadata": {},
   "outputs": [],
   "source": [
    "#### Now let's "
   ]
  }
 ],
 "metadata": {
  "kernelspec": {
   "display_name": "Python 3",
   "language": "python",
   "name": "python3"
  },
  "language_info": {
   "codemirror_mode": {
    "name": "ipython",
    "version": 3
   },
   "file_extension": ".py",
   "mimetype": "text/x-python",
   "name": "python",
   "nbconvert_exporter": "python",
   "pygments_lexer": "ipython3",
   "version": "3.7.4"
  }
 },
 "nbformat": 4,
 "nbformat_minor": 2
}
